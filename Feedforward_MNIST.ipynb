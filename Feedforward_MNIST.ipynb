{
  "nbformat": 4,
  "nbformat_minor": 0,
  "metadata": {
    "colab": {
      "provenance": []
    },
    "kernelspec": {
      "name": "python3",
      "display_name": "Python 3"
    },
    "language_info": {
      "name": "python"
    }
  },
  "cells": [
    {
      "cell_type": "code",
      "execution_count": 3,
      "metadata": {
        "id": "RjVPxZlAEa5U"
      },
      "outputs": [],
      "source": [
        "# import the necessary packages\n",
        "from sklearn.preprocessing import LabelBinarizer\n",
        "from sklearn.metrics import classification_report\n",
        "from tensorflow.keras.models import Sequential\n",
        "from tensorflow.keras.layers import Dense\n",
        "from tensorflow.keras.optimizers import SGD\n",
        "from tensorflow.keras.datasets import mnist\n",
        "from tensorflow.keras import backend as K\n",
        "import matplotlib.pyplot as plt\n",
        "import numpy as np\n",
        "import argparse"
      ]
    },
    {
      "cell_type": "code",
      "source": [
        "print(\"[INFO] accessing MNIST...\")\n",
        "((trainX, trainY), (testX, testY)) = mnist.load_data()"
      ],
      "metadata": {
        "colab": {
          "base_uri": "https://localhost:8080/"
        },
        "id": "dFO53WxgEg2d",
        "outputId": "4245d33e-4add-4d8f-e639-388b7756c65a"
      },
      "execution_count": 4,
      "outputs": [
        {
          "output_type": "stream",
          "name": "stdout",
          "text": [
            "[INFO] accessing MNIST...\n",
            "Downloading data from https://storage.googleapis.com/tensorflow/tf-keras-datasets/mnist.npz\n",
            "11490434/11490434 [==============================] - 0s 0us/step\n"
          ]
        }
      ]
    },
    {
      "cell_type": "code",
      "source": [
        "# each image in the MNIST dataset is represented as a 28x28x1\n",
        "# image, but in order to apply a standard neural network we must\n",
        "# first \"flatten\" the image to be simple list of 28x28=784 pixels\n",
        "trainX = trainX.reshape((trainX.shape[0], 28 * 28 * 1))\n",
        "testX = testX.reshape((testX.shape[0], 28 * 28 * 1))\n",
        "\n",
        "# scale data to the range of [0, 1]\n",
        "trainX = trainX.astype(\"float32\") / 255.0\n",
        "testX = testX.astype(\"float32\") / 255.0"
      ],
      "metadata": {
        "id": "SAJccZpwEgx2"
      },
      "execution_count": 5,
      "outputs": []
    },
    {
      "cell_type": "code",
      "source": [
        "# convert the labels from integers to vectors\n",
        "lb = LabelBinarizer()\n",
        "trainY = lb.fit_transform(trainY)\n",
        "testY = lb.transform(testY)"
      ],
      "metadata": {
        "id": "OjlbBy0uEgue"
      },
      "execution_count": 6,
      "outputs": []
    },
    {
      "cell_type": "code",
      "source": [
        "# define the 784-256-128-10 architecture using Keras\n",
        "model = Sequential()\n",
        "model.add(Dense(256, input_shape=(784,), activation=\"sigmoid\"))\n",
        "model.add(Dense(128, activation=\"sigmoid\"))\n",
        "model.add(Dense(10, activation=\"softmax\"))"
      ],
      "metadata": {
        "id": "tVyT2crdEgsG"
      },
      "execution_count": 7,
      "outputs": []
    },
    {
      "cell_type": "code",
      "source": [
        "# train the model using SGD\n",
        "print(\"[INFO] training network...\")\n",
        "sgd = SGD(0.01)\n",
        "model.compile(loss=\"categorical_crossentropy\", optimizer=sgd,\n",
        "\tmetrics=[\"accuracy\"])\n",
        "H = model.fit(trainX, trainY, validation_data=(testX, testY),\n",
        "\tepochs=100, batch_size=128)"
      ],
      "metadata": {
        "colab": {
          "base_uri": "https://localhost:8080/"
        },
        "id": "Sn8ZsprQEgps",
        "outputId": "7db0d6d0-859f-49d2-e999-60bca298678e"
      },
      "execution_count": 8,
      "outputs": [
        {
          "output_type": "stream",
          "name": "stdout",
          "text": [
            "[INFO] training network...\n",
            "Epoch 1/100\n",
            "469/469 [==============================] - 4s 7ms/step - loss: 2.2745 - accuracy: 0.2008 - val_loss: 2.2365 - val_accuracy: 0.4076\n",
            "Epoch 2/100\n",
            "469/469 [==============================] - 4s 7ms/step - loss: 2.2018 - accuracy: 0.4147 - val_loss: 2.1585 - val_accuracy: 0.5270\n",
            "Epoch 3/100\n",
            "469/469 [==============================] - 3s 6ms/step - loss: 2.1098 - accuracy: 0.5478 - val_loss: 2.0461 - val_accuracy: 0.5767\n",
            "Epoch 4/100\n",
            "469/469 [==============================] - 4s 8ms/step - loss: 1.9747 - accuracy: 0.6086 - val_loss: 1.8803 - val_accuracy: 0.6336\n",
            "Epoch 5/100\n",
            "469/469 [==============================] - 3s 7ms/step - loss: 1.7856 - accuracy: 0.6478 - val_loss: 1.6643 - val_accuracy: 0.6689\n",
            "Epoch 6/100\n",
            "469/469 [==============================] - 3s 7ms/step - loss: 1.5623 - accuracy: 0.6781 - val_loss: 1.4376 - val_accuracy: 0.7102\n",
            "Epoch 7/100\n",
            "469/469 [==============================] - 3s 7ms/step - loss: 1.3502 - accuracy: 0.7077 - val_loss: 1.2422 - val_accuracy: 0.7174\n",
            "Epoch 8/100\n",
            "469/469 [==============================] - 3s 7ms/step - loss: 1.1773 - accuracy: 0.7340 - val_loss: 1.0898 - val_accuracy: 0.7548\n",
            "Epoch 9/100\n",
            "469/469 [==============================] - 3s 6ms/step - loss: 1.0443 - accuracy: 0.7561 - val_loss: 0.9731 - val_accuracy: 0.7794\n",
            "Epoch 10/100\n",
            "469/469 [==============================] - 4s 8ms/step - loss: 0.9415 - accuracy: 0.7746 - val_loss: 0.8822 - val_accuracy: 0.7892\n",
            "Epoch 11/100\n",
            "469/469 [==============================] - 3s 6ms/step - loss: 0.8602 - accuracy: 0.7903 - val_loss: 0.8098 - val_accuracy: 0.8041\n",
            "Epoch 12/100\n",
            "469/469 [==============================] - 3s 6ms/step - loss: 0.7941 - accuracy: 0.8039 - val_loss: 0.7494 - val_accuracy: 0.8164\n",
            "Epoch 13/100\n",
            "469/469 [==============================] - 3s 6ms/step - loss: 0.7390 - accuracy: 0.8154 - val_loss: 0.6985 - val_accuracy: 0.8259\n",
            "Epoch 14/100\n",
            "469/469 [==============================] - 3s 6ms/step - loss: 0.6928 - accuracy: 0.8249 - val_loss: 0.6562 - val_accuracy: 0.8326\n",
            "Epoch 15/100\n",
            "469/469 [==============================] - 3s 6ms/step - loss: 0.6534 - accuracy: 0.8336 - val_loss: 0.6200 - val_accuracy: 0.8376\n",
            "Epoch 16/100\n",
            "469/469 [==============================] - 3s 6ms/step - loss: 0.6194 - accuracy: 0.8400 - val_loss: 0.5888 - val_accuracy: 0.8474\n",
            "Epoch 17/100\n",
            "469/469 [==============================] - 3s 6ms/step - loss: 0.5901 - accuracy: 0.8469 - val_loss: 0.5611 - val_accuracy: 0.8525\n",
            "Epoch 18/100\n",
            "469/469 [==============================] - 3s 6ms/step - loss: 0.5645 - accuracy: 0.8533 - val_loss: 0.5371 - val_accuracy: 0.8577\n",
            "Epoch 19/100\n",
            "469/469 [==============================] - 3s 6ms/step - loss: 0.5420 - accuracy: 0.8579 - val_loss: 0.5161 - val_accuracy: 0.8637\n",
            "Epoch 20/100\n",
            "469/469 [==============================] - 3s 7ms/step - loss: 0.5222 - accuracy: 0.8624 - val_loss: 0.4967 - val_accuracy: 0.8679\n",
            "Epoch 21/100\n",
            "469/469 [==============================] - 3s 6ms/step - loss: 0.5047 - accuracy: 0.8666 - val_loss: 0.4802 - val_accuracy: 0.8721\n",
            "Epoch 22/100\n",
            "469/469 [==============================] - 3s 6ms/step - loss: 0.4889 - accuracy: 0.8697 - val_loss: 0.4658 - val_accuracy: 0.8748\n",
            "Epoch 23/100\n",
            "469/469 [==============================] - 3s 6ms/step - loss: 0.4749 - accuracy: 0.8734 - val_loss: 0.4525 - val_accuracy: 0.8796\n",
            "Epoch 24/100\n",
            "469/469 [==============================] - 3s 6ms/step - loss: 0.4623 - accuracy: 0.8766 - val_loss: 0.4404 - val_accuracy: 0.8815\n",
            "Epoch 25/100\n",
            "469/469 [==============================] - 3s 6ms/step - loss: 0.4509 - accuracy: 0.8791 - val_loss: 0.4301 - val_accuracy: 0.8853\n",
            "Epoch 26/100\n",
            "469/469 [==============================] - 3s 6ms/step - loss: 0.4406 - accuracy: 0.8813 - val_loss: 0.4201 - val_accuracy: 0.8860\n",
            "Epoch 27/100\n",
            "469/469 [==============================] - 3s 7ms/step - loss: 0.4312 - accuracy: 0.8828 - val_loss: 0.4114 - val_accuracy: 0.8891\n",
            "Epoch 28/100\n",
            "469/469 [==============================] - 3s 7ms/step - loss: 0.4228 - accuracy: 0.8850 - val_loss: 0.4034 - val_accuracy: 0.8907\n",
            "Epoch 29/100\n",
            "469/469 [==============================] - 4s 8ms/step - loss: 0.4150 - accuracy: 0.8871 - val_loss: 0.3960 - val_accuracy: 0.8926\n",
            "Epoch 30/100\n",
            "469/469 [==============================] - 3s 7ms/step - loss: 0.4079 - accuracy: 0.8891 - val_loss: 0.3893 - val_accuracy: 0.8935\n",
            "Epoch 31/100\n",
            "469/469 [==============================] - 4s 9ms/step - loss: 0.4014 - accuracy: 0.8899 - val_loss: 0.3836 - val_accuracy: 0.8956\n",
            "Epoch 32/100\n",
            "469/469 [==============================] - 3s 6ms/step - loss: 0.3953 - accuracy: 0.8911 - val_loss: 0.3775 - val_accuracy: 0.8959\n",
            "Epoch 33/100\n",
            "469/469 [==============================] - 3s 6ms/step - loss: 0.3898 - accuracy: 0.8930 - val_loss: 0.3723 - val_accuracy: 0.8970\n",
            "Epoch 34/100\n",
            "469/469 [==============================] - 3s 7ms/step - loss: 0.3846 - accuracy: 0.8932 - val_loss: 0.3680 - val_accuracy: 0.8980\n",
            "Epoch 35/100\n",
            "469/469 [==============================] - 3s 6ms/step - loss: 0.3797 - accuracy: 0.8948 - val_loss: 0.3631 - val_accuracy: 0.8983\n",
            "Epoch 36/100\n",
            "469/469 [==============================] - 3s 6ms/step - loss: 0.3753 - accuracy: 0.8955 - val_loss: 0.3588 - val_accuracy: 0.8989\n",
            "Epoch 37/100\n",
            "469/469 [==============================] - 3s 6ms/step - loss: 0.3711 - accuracy: 0.8965 - val_loss: 0.3551 - val_accuracy: 0.8999\n",
            "Epoch 38/100\n",
            "469/469 [==============================] - 3s 6ms/step - loss: 0.3672 - accuracy: 0.8975 - val_loss: 0.3511 - val_accuracy: 0.9005\n",
            "Epoch 39/100\n",
            "469/469 [==============================] - 3s 6ms/step - loss: 0.3635 - accuracy: 0.8980 - val_loss: 0.3480 - val_accuracy: 0.9018\n",
            "Epoch 40/100\n",
            "469/469 [==============================] - 3s 6ms/step - loss: 0.3600 - accuracy: 0.8990 - val_loss: 0.3446 - val_accuracy: 0.9021\n",
            "Epoch 41/100\n",
            "469/469 [==============================] - 3s 6ms/step - loss: 0.3566 - accuracy: 0.8990 - val_loss: 0.3420 - val_accuracy: 0.9023\n",
            "Epoch 42/100\n",
            "469/469 [==============================] - 3s 6ms/step - loss: 0.3535 - accuracy: 0.9003 - val_loss: 0.3387 - val_accuracy: 0.9034\n",
            "Epoch 43/100\n",
            "469/469 [==============================] - 3s 6ms/step - loss: 0.3506 - accuracy: 0.9006 - val_loss: 0.3360 - val_accuracy: 0.9039\n",
            "Epoch 44/100\n",
            "469/469 [==============================] - 3s 7ms/step - loss: 0.3476 - accuracy: 0.9014 - val_loss: 0.3337 - val_accuracy: 0.9041\n",
            "Epoch 45/100\n",
            "469/469 [==============================] - 3s 6ms/step - loss: 0.3449 - accuracy: 0.9020 - val_loss: 0.3309 - val_accuracy: 0.9044\n",
            "Epoch 46/100\n",
            "469/469 [==============================] - 3s 6ms/step - loss: 0.3424 - accuracy: 0.9024 - val_loss: 0.3281 - val_accuracy: 0.9048\n",
            "Epoch 47/100\n",
            "469/469 [==============================] - 3s 6ms/step - loss: 0.3398 - accuracy: 0.9029 - val_loss: 0.3262 - val_accuracy: 0.9053\n",
            "Epoch 48/100\n",
            "469/469 [==============================] - 3s 6ms/step - loss: 0.3375 - accuracy: 0.9037 - val_loss: 0.3235 - val_accuracy: 0.9056\n",
            "Epoch 49/100\n",
            "469/469 [==============================] - 3s 6ms/step - loss: 0.3351 - accuracy: 0.9043 - val_loss: 0.3221 - val_accuracy: 0.9071\n",
            "Epoch 50/100\n",
            "469/469 [==============================] - 3s 6ms/step - loss: 0.3330 - accuracy: 0.9049 - val_loss: 0.3195 - val_accuracy: 0.9072\n",
            "Epoch 51/100\n",
            "469/469 [==============================] - 3s 6ms/step - loss: 0.3308 - accuracy: 0.9052 - val_loss: 0.3176 - val_accuracy: 0.9084\n",
            "Epoch 52/100\n",
            "469/469 [==============================] - 3s 6ms/step - loss: 0.3287 - accuracy: 0.9053 - val_loss: 0.3157 - val_accuracy: 0.9085\n",
            "Epoch 53/100\n",
            "469/469 [==============================] - 4s 8ms/step - loss: 0.3267 - accuracy: 0.9062 - val_loss: 0.3138 - val_accuracy: 0.9096\n",
            "Epoch 54/100\n",
            "469/469 [==============================] - 3s 7ms/step - loss: 0.3248 - accuracy: 0.9066 - val_loss: 0.3123 - val_accuracy: 0.9099\n",
            "Epoch 55/100\n",
            "469/469 [==============================] - 3s 6ms/step - loss: 0.3229 - accuracy: 0.9073 - val_loss: 0.3103 - val_accuracy: 0.9101\n",
            "Epoch 56/100\n",
            "469/469 [==============================] - 3s 6ms/step - loss: 0.3211 - accuracy: 0.9079 - val_loss: 0.3089 - val_accuracy: 0.9099\n",
            "Epoch 57/100\n",
            "469/469 [==============================] - 3s 6ms/step - loss: 0.3194 - accuracy: 0.9081 - val_loss: 0.3074 - val_accuracy: 0.9113\n",
            "Epoch 58/100\n",
            "469/469 [==============================] - 3s 6ms/step - loss: 0.3176 - accuracy: 0.9086 - val_loss: 0.3060 - val_accuracy: 0.9117\n",
            "Epoch 59/100\n",
            "469/469 [==============================] - 3s 6ms/step - loss: 0.3158 - accuracy: 0.9089 - val_loss: 0.3049 - val_accuracy: 0.9126\n",
            "Epoch 60/100\n",
            "469/469 [==============================] - 3s 6ms/step - loss: 0.3143 - accuracy: 0.9091 - val_loss: 0.3033 - val_accuracy: 0.9121\n",
            "Epoch 61/100\n",
            "469/469 [==============================] - 3s 6ms/step - loss: 0.3128 - accuracy: 0.9097 - val_loss: 0.3012 - val_accuracy: 0.9131\n",
            "Epoch 62/100\n",
            "469/469 [==============================] - 3s 6ms/step - loss: 0.3112 - accuracy: 0.9104 - val_loss: 0.3000 - val_accuracy: 0.9133\n",
            "Epoch 63/100\n",
            "469/469 [==============================] - 3s 6ms/step - loss: 0.3097 - accuracy: 0.9104 - val_loss: 0.2989 - val_accuracy: 0.9140\n",
            "Epoch 64/100\n",
            "469/469 [==============================] - 3s 6ms/step - loss: 0.3082 - accuracy: 0.9111 - val_loss: 0.2974 - val_accuracy: 0.9144\n",
            "Epoch 65/100\n",
            "469/469 [==============================] - 3s 6ms/step - loss: 0.3067 - accuracy: 0.9117 - val_loss: 0.2959 - val_accuracy: 0.9137\n",
            "Epoch 66/100\n",
            "469/469 [==============================] - 3s 6ms/step - loss: 0.3053 - accuracy: 0.9117 - val_loss: 0.2947 - val_accuracy: 0.9157\n",
            "Epoch 67/100\n",
            "469/469 [==============================] - 3s 6ms/step - loss: 0.3039 - accuracy: 0.9127 - val_loss: 0.2937 - val_accuracy: 0.9159\n",
            "Epoch 68/100\n",
            "469/469 [==============================] - 3s 6ms/step - loss: 0.3025 - accuracy: 0.9126 - val_loss: 0.2921 - val_accuracy: 0.9164\n",
            "Epoch 69/100\n",
            "469/469 [==============================] - 3s 6ms/step - loss: 0.3012 - accuracy: 0.9130 - val_loss: 0.2906 - val_accuracy: 0.9167\n",
            "Epoch 70/100\n",
            "469/469 [==============================] - 3s 6ms/step - loss: 0.2998 - accuracy: 0.9133 - val_loss: 0.2898 - val_accuracy: 0.9178\n",
            "Epoch 71/100\n",
            "469/469 [==============================] - 3s 6ms/step - loss: 0.2986 - accuracy: 0.9135 - val_loss: 0.2889 - val_accuracy: 0.9177\n",
            "Epoch 72/100\n",
            "469/469 [==============================] - 3s 6ms/step - loss: 0.2974 - accuracy: 0.9144 - val_loss: 0.2875 - val_accuracy: 0.9184\n",
            "Epoch 73/100\n",
            "469/469 [==============================] - 3s 7ms/step - loss: 0.2961 - accuracy: 0.9145 - val_loss: 0.2865 - val_accuracy: 0.9187\n",
            "Epoch 74/100\n",
            "469/469 [==============================] - 3s 6ms/step - loss: 0.2949 - accuracy: 0.9147 - val_loss: 0.2855 - val_accuracy: 0.9180\n",
            "Epoch 75/100\n",
            "469/469 [==============================] - 4s 9ms/step - loss: 0.2937 - accuracy: 0.9152 - val_loss: 0.2839 - val_accuracy: 0.9200\n",
            "Epoch 76/100\n",
            "469/469 [==============================] - 3s 7ms/step - loss: 0.2925 - accuracy: 0.9154 - val_loss: 0.2834 - val_accuracy: 0.9193\n",
            "Epoch 77/100\n",
            "469/469 [==============================] - 3s 6ms/step - loss: 0.2914 - accuracy: 0.9159 - val_loss: 0.2825 - val_accuracy: 0.9197\n",
            "Epoch 78/100\n",
            "469/469 [==============================] - 3s 6ms/step - loss: 0.2902 - accuracy: 0.9160 - val_loss: 0.2817 - val_accuracy: 0.9199\n",
            "Epoch 79/100\n",
            "469/469 [==============================] - 4s 8ms/step - loss: 0.2891 - accuracy: 0.9166 - val_loss: 0.2806 - val_accuracy: 0.9206\n",
            "Epoch 80/100\n",
            "469/469 [==============================] - 3s 6ms/step - loss: 0.2880 - accuracy: 0.9168 - val_loss: 0.2801 - val_accuracy: 0.9205\n",
            "Epoch 81/100\n",
            "469/469 [==============================] - 3s 6ms/step - loss: 0.2869 - accuracy: 0.9169 - val_loss: 0.2784 - val_accuracy: 0.9214\n",
            "Epoch 82/100\n",
            "469/469 [==============================] - 3s 6ms/step - loss: 0.2859 - accuracy: 0.9171 - val_loss: 0.2775 - val_accuracy: 0.9214\n",
            "Epoch 83/100\n",
            "469/469 [==============================] - 3s 6ms/step - loss: 0.2848 - accuracy: 0.9176 - val_loss: 0.2776 - val_accuracy: 0.9204\n",
            "Epoch 84/100\n",
            "469/469 [==============================] - 3s 6ms/step - loss: 0.2839 - accuracy: 0.9176 - val_loss: 0.2759 - val_accuracy: 0.9216\n",
            "Epoch 85/100\n",
            "469/469 [==============================] - 3s 6ms/step - loss: 0.2828 - accuracy: 0.9180 - val_loss: 0.2747 - val_accuracy: 0.9224\n",
            "Epoch 86/100\n",
            "469/469 [==============================] - 3s 6ms/step - loss: 0.2817 - accuracy: 0.9185 - val_loss: 0.2740 - val_accuracy: 0.9217\n",
            "Epoch 87/100\n",
            "469/469 [==============================] - 3s 6ms/step - loss: 0.2807 - accuracy: 0.9188 - val_loss: 0.2728 - val_accuracy: 0.9230\n",
            "Epoch 88/100\n",
            "469/469 [==============================] - 3s 6ms/step - loss: 0.2798 - accuracy: 0.9190 - val_loss: 0.2726 - val_accuracy: 0.9227\n",
            "Epoch 89/100\n",
            "469/469 [==============================] - 3s 6ms/step - loss: 0.2788 - accuracy: 0.9192 - val_loss: 0.2714 - val_accuracy: 0.9229\n",
            "Epoch 90/100\n",
            "469/469 [==============================] - 3s 7ms/step - loss: 0.2777 - accuracy: 0.9193 - val_loss: 0.2706 - val_accuracy: 0.9230\n",
            "Epoch 91/100\n",
            "469/469 [==============================] - 3s 6ms/step - loss: 0.2769 - accuracy: 0.9197 - val_loss: 0.2697 - val_accuracy: 0.9241\n",
            "Epoch 92/100\n",
            "469/469 [==============================] - 3s 6ms/step - loss: 0.2759 - accuracy: 0.9197 - val_loss: 0.2690 - val_accuracy: 0.9243\n",
            "Epoch 93/100\n",
            "469/469 [==============================] - 3s 6ms/step - loss: 0.2749 - accuracy: 0.9201 - val_loss: 0.2684 - val_accuracy: 0.9236\n",
            "Epoch 94/100\n",
            "469/469 [==============================] - 3s 6ms/step - loss: 0.2741 - accuracy: 0.9204 - val_loss: 0.2675 - val_accuracy: 0.9244\n",
            "Epoch 95/100\n",
            "469/469 [==============================] - 3s 7ms/step - loss: 0.2731 - accuracy: 0.9207 - val_loss: 0.2662 - val_accuracy: 0.9242\n",
            "Epoch 96/100\n",
            "469/469 [==============================] - 3s 6ms/step - loss: 0.2722 - accuracy: 0.9213 - val_loss: 0.2662 - val_accuracy: 0.9244\n",
            "Epoch 97/100\n",
            "469/469 [==============================] - 4s 8ms/step - loss: 0.2713 - accuracy: 0.9215 - val_loss: 0.2656 - val_accuracy: 0.9246\n",
            "Epoch 98/100\n",
            "469/469 [==============================] - 3s 6ms/step - loss: 0.2705 - accuracy: 0.9214 - val_loss: 0.2645 - val_accuracy: 0.9244\n",
            "Epoch 99/100\n",
            "469/469 [==============================] - 3s 6ms/step - loss: 0.2695 - accuracy: 0.9220 - val_loss: 0.2639 - val_accuracy: 0.9245\n",
            "Epoch 100/100\n",
            "469/469 [==============================] - 3s 6ms/step - loss: 0.2687 - accuracy: 0.9219 - val_loss: 0.2630 - val_accuracy: 0.9256\n"
          ]
        }
      ]
    },
    {
      "cell_type": "code",
      "source": [
        "# evaluate the network\n",
        "print(\"[INFO] evaluating network...\")\n",
        "predictions = model.predict(testX, batch_size=128)\n",
        "print(classification_report(testY.argmax(axis=1),\n",
        "\tpredictions.argmax(axis=1),\n",
        "\ttarget_names=[str(x) for x in lb.classes_]))"
      ],
      "metadata": {
        "colab": {
          "base_uri": "https://localhost:8080/"
        },
        "id": "GRLPlsrGEgmE",
        "outputId": "0ca098cb-795c-41f4-d2c3-5c7a93bdcd6e"
      },
      "execution_count": 9,
      "outputs": [
        {
          "output_type": "stream",
          "name": "stdout",
          "text": [
            "[INFO] evaluating network...\n",
            "79/79 [==============================] - 0s 4ms/step\n",
            "              precision    recall  f1-score   support\n",
            "\n",
            "           0       0.94      0.98      0.96       980\n",
            "           1       0.97      0.97      0.97      1135\n",
            "           2       0.92      0.91      0.92      1032\n",
            "           3       0.90      0.92      0.91      1010\n",
            "           4       0.91      0.94      0.93       982\n",
            "           5       0.91      0.86      0.89       892\n",
            "           6       0.94      0.94      0.94       958\n",
            "           7       0.94      0.93      0.93      1028\n",
            "           8       0.90      0.89      0.90       974\n",
            "           9       0.92      0.89      0.91      1009\n",
            "\n",
            "    accuracy                           0.93     10000\n",
            "   macro avg       0.92      0.92      0.92     10000\n",
            "weighted avg       0.93      0.93      0.93     10000\n",
            "\n"
          ]
        }
      ]
    },
    {
      "cell_type": "code",
      "source": [
        "# plot the training loss and accuracy\n",
        "plt.style.use(\"ggplot\")\n",
        "plt.figure()\n",
        "plt.plot(np.arange(0, 100), H.history[\"loss\"], label=\"train_loss\")\n",
        "plt.plot(np.arange(0, 100), H.history[\"val_loss\"], label=\"val_loss\")\n",
        "plt.plot(np.arange(0, 100), H.history[\"accuracy\"], label=\"train_acc\")\n",
        "plt.plot(np.arange(0, 100), H.history[\"val_accuracy\"], label=\"val_acc\")\n",
        "plt.title(\"Training Loss and Accuracy\")\n",
        "plt.xlabel(\"Epoch #\")\n",
        "plt.ylabel(\"Loss/Accuracy\")\n",
        "plt.legend()\n",
        "#plt.savefig(args[\"output\"])"
      ],
      "metadata": {
        "colab": {
          "base_uri": "https://localhost:8080/",
          "height": 317
        },
        "id": "2YReW2arE70r",
        "outputId": "ff1f0dd0-f9a6-4809-eaa9-84edab0c7a7c"
      },
      "execution_count": 11,
      "outputs": [
        {
          "output_type": "execute_result",
          "data": {
            "text/plain": [
              "<matplotlib.legend.Legend at 0x7fa51e356150>"
            ]
          },
          "metadata": {},
          "execution_count": 11
        },
        {
          "output_type": "display_data",
          "data": {
            "text/plain": [
              "<Figure size 432x288 with 1 Axes>"
            ],
            "image/png": "[encoded data removed]"
          },
          "metadata": {}
        }
      ]
    }
  ]
}