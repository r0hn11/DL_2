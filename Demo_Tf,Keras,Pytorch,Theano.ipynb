{
  "nbformat": 4,
  "nbformat_minor": 0,
  "metadata": {
    "colab": {
      "provenance": []
    },
    "kernelspec": {
      "name": "python3",
      "display_name": "Python 3"
    },
    "language_info": {
      "name": "python"
    }
  },
  "cells": [
    {
      "cell_type": "markdown",
      "source": [
        "\n",
        "#TENSORFLOW\n",
        "\n"
      ],
      "metadata": {
        "id": "ORVhq-YEkYtc"
      }
    },
    {
      "cell_type": "code",
      "execution_count": 2,
      "metadata": {
        "id": "3zYFMQc7jton"
      },
      "outputs": [],
      "source": [
        "import tensorflow as tf\n",
        "import numpy as np"
      ]
    },
    {
      "cell_type": "code",
      "source": [
        "a = tf.constant(15)\n",
        "b = tf.constant(20)\n",
        "print(a+b)"
      ],
      "metadata": {
        "colab": {
          "base_uri": "https://localhost:8080/"
        },
        "id": "t9W7ZtKUj29f",
        "outputId": "b76e0b22-26b6-4a70-d402-cb27f8707788"
      },
      "execution_count": 3,
      "outputs": [
        {
          "output_type": "stream",
          "name": "stdout",
          "text": [
            "tf.Tensor(35, shape=(), dtype=int32)\n"
          ]
        }
      ]
    },
    {
      "cell_type": "code",
      "source": [
        "# input\n",
        "x = np.random.rand(100).astype(np.float32)\n",
        "print(x)"
      ],
      "metadata": {
        "colab": {
          "base_uri": "https://localhost:8080/"
        },
        "id": "2Xvf4-Daj4Zw",
        "outputId": "d81019c0-2d79-47d7-fe24-2cc6d59e4305"
      },
      "execution_count": 4,
      "outputs": [
        {
          "output_type": "stream",
          "name": "stdout",
          "text": [
            "[0.8504713  0.85452175 0.3315653  0.38671535 0.25500506 0.20998606\n",
            " 0.8750968  0.48433083 0.5358115  0.21780618 0.3076208  0.7006341\n",
            " 0.5842766  0.8038196  0.11357661 0.4299451  0.19184439 0.37173545\n",
            " 0.80373603 0.5568989  0.8837019  0.31298107 0.37957606 0.64465934\n",
            " 0.3531142  0.2527034  0.86014074 0.33630422 0.95643723 0.7247691\n",
            " 0.2302004  0.9282331  0.89376485 0.46210495 0.8914851  0.91536963\n",
            " 0.06706006 0.41773865 0.4422333  0.8734292  0.1432331  0.38060734\n",
            " 0.9992029  0.53125215 0.8804735  0.97201335 0.42790917 0.07302125\n",
            " 0.86070424 0.6006975  0.27666435 0.24202025 0.60974735 0.96029663\n",
            " 0.21613714 0.25620517 0.3577765  0.46330142 0.65488786 0.9669094\n",
            " 0.38426858 0.8455017  0.571291   0.2316837  0.4746284  0.532473\n",
            " 0.68602586 0.25758648 0.15257671 0.56874883 0.8261637  0.29155162\n",
            " 0.6756336  0.251554   0.95196843 0.5356058  0.9867703  0.3835229\n",
            " 0.01902482 0.48618013 0.57940936 0.077378   0.7744604  0.36828107\n",
            " 0.69179034 0.27438506 0.89703995 0.9744103  0.35418773 0.5408589\n",
            " 0.75972164 0.26284176 0.19865704 0.12386874 0.04582694 0.12726937\n",
            " 0.20047341 0.52298635 0.12227625 0.05715901]\n"
          ]
        }
      ]
    },
    {
      "cell_type": "code",
      "source": [
        "# output - observed\n",
        "y = x * 0.2 + 0.2\n",
        "# Weight\n",
        "W = tf.Variable(tf.random.normal([1]))\n",
        "# bias\n",
        "b = tf.Variable(tf.zeros([1]))"
      ],
      "metadata": {
        "id": "dZHo8jdBj69Q"
      },
      "execution_count": 5,
      "outputs": []
    },
    {
      "cell_type": "code",
      "source": [
        "# Create a function for MSE - mean squared error\n",
        "def mse_loss():\n",
        "  ypred = W * x + b\n",
        "  loss = tf.reduce_mean(tf.square(ypred-y))\n",
        "  return loss"
      ],
      "metadata": {
        "id": "KZ5ErszLj_Fo"
      },
      "execution_count": 8,
      "outputs": []
    },
    {
      "cell_type": "code",
      "source": [
        "# Optimizer\n",
        "optimizer = tf.keras.optimizers.Adam()"
      ],
      "metadata": {
        "id": "s--FR2exkBnI"
      },
      "execution_count": 9,
      "outputs": []
    },
    {
      "cell_type": "code",
      "source": [
        "# Iterations\n",
        "for step in range(5000):\n",
        "  optimizer.minimize(mse_loss,var_list=[W,b])\n",
        "  if step % 500 == 0:\n",
        "    print(step, W.numpy(), b.numpy())"
      ],
      "metadata": {
        "colab": {
          "base_uri": "https://localhost:8080/"
        },
        "id": "dRWJMk5zkLgr",
        "outputId": "4a1847f6-050a-4a73-ca3d-66a5a1607c47"
      },
      "execution_count": 11,
      "outputs": [
        {
          "output_type": "stream",
          "name": "stdout",
          "text": [
            "0 [0.0227623] [0.00099999]\n",
            "500 [0.21035466] [0.1930387]\n",
            "1000 [0.20595092] [0.19666514]\n",
            "1500 [0.20232867] [0.19869505]\n",
            "2000 [0.2006308] [0.1996465]\n",
            "2500 [0.20010844] [0.19993925]\n",
            "3000 [0.20001055] [0.19999397]\n",
            "3500 [0.2000014] [0.19999918]\n",
            "4000 [0.20000108] [0.19999938]\n",
            "4500 [0.2000008] [0.19999954]\n"
          ]
        }
      ]
    },
    {
      "cell_type": "markdown",
      "source": [
        "#KERAS"
      ],
      "metadata": {
        "id": "18A2QE_BkgT3"
      }
    },
    {
      "cell_type": "code",
      "source": [
        "# Step 1 - Load the dataset\n",
        "from numpy import loadtxt\n",
        "from tensorflow.keras.models import Sequential\n",
        "from tensorflow.keras.layers import Dense"
      ],
      "metadata": {
        "id": "8JOZPcTHkMEN"
      },
      "execution_count": 12,
      "outputs": []
    },
    {
      "cell_type": "markdown",
      "source": [
        "INPUT Variables\n",
        "x1 - Number of times pregnant\n",
        "x2 - plasma glucose\n",
        "x3 - diastolic blood pressure\n",
        "x4 - Triceps skin fold thickness\n",
        "x5 - 2-hour serum insulin\n",
        "x6 - bmi\n",
        "x7 - diabetes pedigree function\n",
        "x8 - age (yrs)\n",
        "Output Variable ##\n",
        "Class Variable - 0 or 1"
      ],
      "metadata": {
        "id": "L_-BQP5dkrcz"
      }
    },
    {
      "cell_type": "code",
      "source": [
        "import numpy\n",
        "dataset = numpy.loadtxt('/content/pima-indians-diabetes.csv',delimiter=',',skiprows=1)\n",
        "dataset"
      ],
      "metadata": {
        "colab": {
          "base_uri": "https://localhost:8080/"
        },
        "id": "teN0SRdxkrB8",
        "outputId": "e81867e5-418f-4415-97a7-396e7df29327"
      },
      "execution_count": 15,
      "outputs": [
        {
          "output_type": "execute_result",
          "data": {
            "text/plain": [
              "array([[  6.   , 148.   ,  72.   , ...,   0.627,  50.   ,   1.   ],\n",
              "       [  1.   ,  85.   ,  66.   , ...,   0.351,  31.   ,   0.   ],\n",
              "       [  8.   , 183.   ,  64.   , ...,   0.672,  32.   ,   1.   ],\n",
              "       ...,\n",
              "       [  5.   , 121.   ,  72.   , ...,   0.245,  30.   ,   0.   ],\n",
              "       [  1.   , 126.   ,  60.   , ...,   0.349,  47.   ,   1.   ],\n",
              "       [  1.   ,  93.   ,  70.   , ...,   0.315,  23.   ,   0.   ]])"
            ]
          },
          "metadata": {},
          "execution_count": 15
        }
      ]
    },
    {
      "cell_type": "code",
      "source": [
        "x = dataset[:,0:8]\n",
        "print(type(x))\n",
        "print(x.shape)\n",
        "y = dataset[:,8]\n",
        "print(y)"
      ],
      "metadata": {
        "colab": {
          "base_uri": "https://localhost:8080/"
        },
        "id": "vlUQraKpkoB7",
        "outputId": "1578d478-7c01-4bb4-8b3a-850c651be8e2"
      },
      "execution_count": 16,
      "outputs": [
        {
          "output_type": "stream",
          "name": "stdout",
          "text": [
            "<class 'numpy.ndarray'>\n",
            "(768, 8)\n",
            "[1. 0. 1. 0. 1. 0. 1. 0. 1. 1. 0. 1. 0. 1. 1. 1. 1. 1. 0. 1. 0. 0. 1. 1.\n",
            " 1. 1. 1. 0. 0. 0. 0. 1. 0. 0. 0. 0. 0. 1. 1. 1. 0. 0. 0. 1. 0. 1. 0. 0.\n",
            " 1. 0. 0. 0. 0. 1. 0. 0. 1. 0. 0. 0. 0. 1. 0. 0. 1. 0. 1. 0. 0. 0. 1. 0.\n",
            " 1. 0. 0. 0. 0. 0. 1. 0. 0. 0. 0. 0. 1. 0. 0. 0. 1. 0. 0. 0. 0. 1. 0. 0.\n",
            " 0. 0. 0. 1. 1. 0. 0. 0. 0. 0. 0. 0. 0. 1. 1. 1. 0. 0. 1. 1. 1. 0. 0. 0.\n",
            " 1. 0. 0. 0. 1. 1. 0. 0. 1. 1. 1. 1. 1. 0. 0. 0. 0. 0. 0. 0. 0. 0. 0. 1.\n",
            " 0. 0. 0. 0. 0. 0. 0. 0. 1. 0. 1. 1. 0. 0. 0. 1. 0. 0. 0. 0. 1. 1. 0. 0.\n",
            " 0. 0. 1. 1. 0. 0. 0. 1. 0. 1. 0. 1. 0. 0. 0. 0. 0. 1. 1. 1. 1. 1. 0. 0.\n",
            " 1. 1. 0. 1. 0. 1. 1. 1. 0. 0. 0. 0. 0. 0. 1. 1. 0. 1. 0. 0. 0. 1. 1. 1.\n",
            " 1. 0. 1. 1. 1. 1. 0. 0. 0. 0. 0. 1. 0. 0. 1. 1. 0. 0. 0. 1. 1. 1. 1. 0.\n",
            " 0. 0. 1. 1. 0. 1. 0. 0. 0. 0. 0. 0. 0. 0. 1. 1. 0. 0. 0. 1. 0. 1. 0. 0.\n",
            " 1. 0. 1. 0. 0. 1. 1. 0. 0. 0. 0. 0. 1. 0. 0. 0. 1. 0. 0. 1. 1. 0. 0. 1.\n",
            " 0. 0. 0. 1. 1. 1. 0. 0. 1. 0. 1. 0. 1. 1. 0. 1. 0. 0. 1. 0. 1. 1. 0. 0.\n",
            " 1. 0. 1. 0. 0. 1. 0. 1. 0. 1. 1. 1. 0. 0. 1. 0. 1. 0. 0. 0. 1. 0. 0. 0.\n",
            " 0. 1. 1. 1. 0. 0. 0. 0. 0. 0. 0. 0. 0. 1. 0. 0. 0. 0. 0. 1. 1. 1. 0. 1.\n",
            " 1. 0. 0. 1. 0. 0. 1. 0. 0. 1. 1. 0. 0. 0. 0. 1. 0. 0. 1. 0. 0. 0. 0. 0.\n",
            " 0. 0. 1. 1. 1. 0. 0. 1. 0. 0. 1. 0. 0. 1. 0. 1. 1. 0. 1. 0. 1. 0. 1. 0.\n",
            " 1. 1. 0. 0. 0. 0. 1. 1. 0. 1. 0. 1. 0. 0. 0. 0. 1. 1. 0. 1. 0. 1. 0. 0.\n",
            " 0. 0. 0. 1. 0. 0. 0. 0. 1. 0. 0. 1. 1. 1. 0. 0. 1. 0. 0. 1. 0. 0. 0. 1.\n",
            " 0. 0. 1. 0. 0. 0. 0. 0. 0. 0. 0. 0. 1. 0. 0. 0. 0. 0. 0. 0. 1. 0. 0. 0.\n",
            " 1. 0. 0. 0. 1. 1. 0. 0. 0. 0. 0. 0. 0. 1. 0. 0. 0. 0. 1. 0. 0. 0. 1. 0.\n",
            " 0. 0. 1. 0. 0. 0. 1. 0. 0. 0. 0. 1. 1. 0. 0. 0. 0. 0. 0. 1. 0. 0. 0. 0.\n",
            " 0. 0. 0. 0. 0. 0. 0. 1. 0. 0. 0. 1. 1. 1. 1. 0. 0. 1. 1. 0. 0. 0. 0. 0.\n",
            " 0. 0. 0. 0. 0. 0. 0. 0. 1. 1. 0. 0. 0. 0. 0. 0. 0. 1. 0. 0. 0. 0. 0. 0.\n",
            " 0. 1. 0. 1. 1. 0. 0. 0. 1. 0. 1. 0. 1. 0. 1. 0. 1. 0. 0. 1. 0. 0. 1. 0.\n",
            " 0. 0. 0. 1. 1. 0. 1. 0. 0. 0. 0. 1. 1. 0. 1. 0. 0. 0. 1. 1. 0. 0. 0. 0.\n",
            " 0. 0. 0. 0. 0. 0. 1. 0. 0. 0. 0. 1. 0. 0. 1. 0. 0. 0. 1. 0. 0. 0. 1. 1.\n",
            " 1. 0. 0. 0. 0. 0. 0. 1. 0. 0. 0. 1. 0. 1. 1. 1. 1. 0. 1. 1. 0. 0. 0. 0.\n",
            " 0. 0. 0. 1. 1. 0. 1. 0. 0. 1. 0. 1. 0. 0. 0. 0. 0. 1. 0. 1. 0. 1. 0. 1.\n",
            " 1. 0. 0. 0. 0. 1. 1. 0. 0. 0. 1. 0. 1. 1. 0. 0. 1. 0. 0. 1. 1. 0. 0. 1.\n",
            " 0. 0. 1. 0. 0. 0. 0. 0. 0. 0. 1. 1. 1. 0. 0. 0. 0. 0. 0. 1. 1. 0. 0. 1.\n",
            " 0. 0. 1. 0. 1. 1. 1. 0. 0. 1. 1. 1. 0. 1. 0. 1. 0. 1. 0. 0. 0. 0. 1. 0.]\n"
          ]
        }
      ]
    },
    {
      "cell_type": "markdown",
      "source": [
        "Step 2 - Creating or define the Keras Model\n",
        "Sequential Model\n",
        "Layer1 -> Layer2 -> Layer3"
      ],
      "metadata": {
        "id": "YmIbeGVol3D7"
      }
    },
    {
      "cell_type": "code",
      "source": [
        "model = Sequential()"
      ],
      "metadata": {
        "id": "zPfdAJCClxzJ"
      },
      "execution_count": 17,
      "outputs": []
    },
    {
      "cell_type": "markdown",
      "source": [
        "The model expects row of data with 8 variables\n",
        "12 = nodes"
      ],
      "metadata": {
        "id": "sRsTWdnlmHY0"
      }
    },
    {
      "cell_type": "code",
      "source": [
        "model.add(Dense(12, input_shape=(8,), activation='relu'))"
      ],
      "metadata": {
        "id": "uhSs-15-l9W7"
      },
      "execution_count": 18,
      "outputs": []
    },
    {
      "cell_type": "markdown",
      "source": [
        "Hidden Layer\n",
        "8 = nodes"
      ],
      "metadata": {
        "id": "jTfS0JuymMZL"
      }
    },
    {
      "cell_type": "code",
      "source": [
        "model.add(Dense(8, activation='relu'))"
      ],
      "metadata": {
        "id": "S7mKMbL-mAc2"
      },
      "execution_count": 19,
      "outputs": []
    },
    {
      "cell_type": "code",
      "source": [
        "# Output layer\n",
        "model.add(Dense(1,activation='sigmoid'))"
      ],
      "metadata": {
        "id": "M0YdQ0UKmCik"
      },
      "execution_count": 20,
      "outputs": []
    },
    {
      "cell_type": "markdown",
      "source": [
        "Step 3 - Compile the Keras model\n",
        "loss (error)\n",
        "optimizer (adam)\n",
        "metrics = accuracy"
      ],
      "metadata": {
        "id": "tPOhxcDJmWPI"
      }
    },
    {
      "cell_type": "code",
      "source": [
        "model.compile(loss='binary_crossentropy', optimizer='adam', metrics=['accuracy'])"
      ],
      "metadata": {
        "id": "Klpb9yR3mEfj"
      },
      "execution_count": 21,
      "outputs": []
    },
    {
      "cell_type": "markdown",
      "source": [
        "Step 4 - Fit / Train the model\n",
        "1 = Epochs - number of iterations / passes\n",
        "2 - Batch - sample data"
      ],
      "metadata": {
        "id": "ZkoVvOdOmefa"
      }
    },
    {
      "cell_type": "code",
      "source": [
        "model.fit(x,y, epochs=50, batch_size=10)"
      ],
      "metadata": {
        "colab": {
          "base_uri": "https://localhost:8080/"
        },
        "id": "zajme31vmbdN",
        "outputId": "baa4456d-397a-459c-c0a0-71c61de97353"
      },
      "execution_count": 23,
      "outputs": [
        {
          "output_type": "stream",
          "name": "stdout",
          "text": [
            "Epoch 1/50\n",
            "77/77 [==============================] - 0s 3ms/step - loss: 0.4726 - accuracy: 0.7656\n",
            "Epoch 2/50\n",
            "77/77 [==============================] - 0s 2ms/step - loss: 0.4795 - accuracy: 0.7708\n",
            "Epoch 3/50\n",
            "77/77 [==============================] - 0s 2ms/step - loss: 0.4761 - accuracy: 0.7760\n",
            "Epoch 4/50\n",
            "77/77 [==============================] - 0s 2ms/step - loss: 0.4752 - accuracy: 0.7669\n",
            "Epoch 5/50\n",
            "77/77 [==============================] - 0s 2ms/step - loss: 0.4884 - accuracy: 0.7695\n",
            "Epoch 6/50\n",
            "77/77 [==============================] - 0s 2ms/step - loss: 0.4671 - accuracy: 0.7695\n",
            "Epoch 7/50\n",
            "77/77 [==============================] - 0s 2ms/step - loss: 0.4784 - accuracy: 0.7734\n",
            "Epoch 8/50\n",
            "77/77 [==============================] - 0s 2ms/step - loss: 0.4829 - accuracy: 0.7565\n",
            "Epoch 9/50\n",
            "77/77 [==============================] - 0s 2ms/step - loss: 0.4748 - accuracy: 0.7682\n",
            "Epoch 10/50\n",
            "77/77 [==============================] - 0s 2ms/step - loss: 0.4661 - accuracy: 0.7747\n",
            "Epoch 11/50\n",
            "77/77 [==============================] - 0s 2ms/step - loss: 0.4796 - accuracy: 0.7734\n",
            "Epoch 12/50\n",
            "77/77 [==============================] - 0s 2ms/step - loss: 0.4648 - accuracy: 0.7799\n",
            "Epoch 13/50\n",
            "77/77 [==============================] - 0s 2ms/step - loss: 0.4640 - accuracy: 0.7721\n",
            "Epoch 14/50\n",
            "77/77 [==============================] - 0s 2ms/step - loss: 0.4731 - accuracy: 0.7617\n",
            "Epoch 15/50\n",
            "77/77 [==============================] - 0s 2ms/step - loss: 0.4653 - accuracy: 0.7760\n",
            "Epoch 16/50\n",
            "77/77 [==============================] - 0s 2ms/step - loss: 0.4660 - accuracy: 0.7708\n",
            "Epoch 17/50\n",
            "77/77 [==============================] - 0s 2ms/step - loss: 0.4747 - accuracy: 0.7539\n",
            "Epoch 18/50\n",
            "77/77 [==============================] - 0s 2ms/step - loss: 0.4819 - accuracy: 0.7656\n",
            "Epoch 19/50\n",
            "77/77 [==============================] - 0s 2ms/step - loss: 0.4714 - accuracy: 0.7578\n",
            "Epoch 20/50\n",
            "77/77 [==============================] - 0s 2ms/step - loss: 0.4551 - accuracy: 0.7852\n",
            "Epoch 21/50\n",
            "77/77 [==============================] - 0s 2ms/step - loss: 0.4586 - accuracy: 0.7917\n",
            "Epoch 22/50\n",
            "77/77 [==============================] - 0s 2ms/step - loss: 0.4964 - accuracy: 0.7630\n",
            "Epoch 23/50\n",
            "77/77 [==============================] - 0s 2ms/step - loss: 0.4671 - accuracy: 0.7747\n",
            "Epoch 24/50\n",
            "77/77 [==============================] - 0s 2ms/step - loss: 0.4658 - accuracy: 0.7904\n",
            "Epoch 25/50\n",
            "77/77 [==============================] - 0s 2ms/step - loss: 0.4729 - accuracy: 0.7812\n",
            "Epoch 26/50\n",
            "77/77 [==============================] - 0s 2ms/step - loss: 0.4705 - accuracy: 0.7708\n",
            "Epoch 27/50\n",
            "77/77 [==============================] - 0s 2ms/step - loss: 0.4809 - accuracy: 0.7630\n",
            "Epoch 28/50\n",
            "77/77 [==============================] - 0s 2ms/step - loss: 0.4546 - accuracy: 0.7839\n",
            "Epoch 29/50\n",
            "77/77 [==============================] - 0s 2ms/step - loss: 0.4771 - accuracy: 0.7747\n",
            "Epoch 30/50\n",
            "77/77 [==============================] - 0s 2ms/step - loss: 0.4650 - accuracy: 0.7695\n",
            "Epoch 31/50\n",
            "77/77 [==============================] - 0s 2ms/step - loss: 0.4565 - accuracy: 0.8034\n",
            "Epoch 32/50\n",
            "77/77 [==============================] - 0s 2ms/step - loss: 0.4681 - accuracy: 0.7682\n",
            "Epoch 33/50\n",
            "77/77 [==============================] - 0s 2ms/step - loss: 0.4636 - accuracy: 0.7773\n",
            "Epoch 34/50\n",
            "77/77 [==============================] - 0s 2ms/step - loss: 0.4694 - accuracy: 0.7799\n",
            "Epoch 35/50\n",
            "77/77 [==============================] - 0s 2ms/step - loss: 0.4596 - accuracy: 0.7799\n",
            "Epoch 36/50\n",
            "77/77 [==============================] - 0s 2ms/step - loss: 0.4820 - accuracy: 0.7695\n",
            "Epoch 37/50\n",
            "77/77 [==============================] - 0s 2ms/step - loss: 0.4559 - accuracy: 0.7865\n",
            "Epoch 38/50\n",
            "77/77 [==============================] - 0s 2ms/step - loss: 0.4753 - accuracy: 0.7760\n",
            "Epoch 39/50\n",
            "77/77 [==============================] - 0s 2ms/step - loss: 0.4628 - accuracy: 0.7760\n",
            "Epoch 40/50\n",
            "77/77 [==============================] - 0s 2ms/step - loss: 0.4615 - accuracy: 0.7865\n",
            "Epoch 41/50\n",
            "77/77 [==============================] - 0s 2ms/step - loss: 0.4574 - accuracy: 0.7708\n",
            "Epoch 42/50\n",
            "77/77 [==============================] - 0s 2ms/step - loss: 0.4690 - accuracy: 0.7773\n",
            "Epoch 43/50\n",
            "77/77 [==============================] - 0s 2ms/step - loss: 0.4661 - accuracy: 0.7721\n",
            "Epoch 44/50\n",
            "77/77 [==============================] - 0s 2ms/step - loss: 0.4649 - accuracy: 0.7786\n",
            "Epoch 45/50\n",
            "77/77 [==============================] - 0s 2ms/step - loss: 0.4687 - accuracy: 0.7734\n",
            "Epoch 46/50\n",
            "77/77 [==============================] - 0s 2ms/step - loss: 0.4722 - accuracy: 0.7604\n",
            "Epoch 47/50\n",
            "77/77 [==============================] - 0s 2ms/step - loss: 0.4582 - accuracy: 0.7852\n",
            "Epoch 48/50\n",
            "77/77 [==============================] - 0s 2ms/step - loss: 0.4652 - accuracy: 0.7930\n",
            "Epoch 49/50\n",
            "77/77 [==============================] - 0s 2ms/step - loss: 0.4644 - accuracy: 0.7747\n",
            "Epoch 50/50\n",
            "77/77 [==============================] - 0s 2ms/step - loss: 0.4756 - accuracy: 0.7734\n"
          ]
        },
        {
          "output_type": "execute_result",
          "data": {
            "text/plain": [
              "<keras.callbacks.History at 0x7f060d1f0350>"
            ]
          },
          "metadata": {},
          "execution_count": 23
        }
      ]
    },
    {
      "cell_type": "markdown",
      "source": [
        "Step 5 - evaluate the model"
      ],
      "metadata": {
        "id": "FbbMXAazmlVU"
      }
    },
    {
      "cell_type": "code",
      "source": [
        "model.evaluate(x,y)"
      ],
      "metadata": {
        "colab": {
          "base_uri": "https://localhost:8080/"
        },
        "id": "8w4lBVT6mijx",
        "outputId": "1b0b2552-8c21-41b5-d1ac-1ae08749c7ec"
      },
      "execution_count": 24,
      "outputs": [
        {
          "output_type": "stream",
          "name": "stdout",
          "text": [
            "24/24 [==============================] - 0s 2ms/step - loss: 0.4709 - accuracy: 0.7682\n"
          ]
        },
        {
          "output_type": "execute_result",
          "data": {
            "text/plain": [
              "[0.4709261655807495, 0.7682291865348816]"
            ]
          },
          "metadata": {},
          "execution_count": 24
        }
      ]
    },
    {
      "cell_type": "markdown",
      "source": [
        "#THEANO"
      ],
      "metadata": {
        "id": "Ax9B3MiSmzSB"
      }
    },
    {
      "cell_type": "code",
      "source": [
        "import theano\n",
        "from theano import *\n",
        "import theano.tensor as T\n",
        "import numpy as np\n",
        "import pandas as pd\n",
        "from theano import function"
      ],
      "metadata": {
        "colab": {
          "base_uri": "https://localhost:8080/"
        },
        "id": "aP9HTIRem2UG",
        "outputId": "009e200b-7276-4530-c90b-48a25ff140a0"
      },
      "execution_count": 25,
      "outputs": [
        {
          "output_type": "stream",
          "name": "stdout",
          "text": [
            "Looking in indexes: https://pypi.org/simple, https://us-python.pkg.dev/colab-wheels/public/simple/\n",
            "Collecting theano\n",
            "  Downloading Theano-1.0.5.tar.gz (2.8 MB)\n",
            "\u001b[K     |████████████████████████████████| 2.8 MB 5.1 MB/s \n",
            "\u001b[?25hRequirement already satisfied: numpy>=1.9.1 in /usr/local/lib/python3.7/dist-packages (from theano) (1.21.6)\n",
            "Requirement already satisfied: scipy>=0.14 in /usr/local/lib/python3.7/dist-packages (from theano) (1.7.3)\n",
            "Requirement already satisfied: six>=1.9.0 in /usr/local/lib/python3.7/dist-packages (from theano) (1.15.0)\n",
            "Building wheels for collected packages: theano\n",
            "  Building wheel for theano (setup.py) ... \u001b[?25l\u001b[?25hdone\n",
            "  Created wheel for theano: filename=Theano-1.0.5-py3-none-any.whl size=2668111 sha256=ca5a29a4ba871ecd8b45315bd2bd1534f46d5d296630cefcb454a85c22114f3d\n",
            "  Stored in directory: /root/.cache/pip/wheels/26/68/6f/745330367ce7822fe0cd863712858151f5723a0a5e322cc144\n",
            "Successfully built theano\n",
            "Installing collected packages: theano\n",
            "Successfully installed theano-1.0.5\n"
          ]
        }
      ]
    },
    {
      "cell_type": "code",
      "source": [
        "# scalar variables\n",
        "v1 = T.dscalar()\n",
        "v2 = T.scalar()\n",
        "# subtraction\n",
        "sres = v1-v2"
      ],
      "metadata": {
        "id": "Xo00-vcRm3M6"
      },
      "execution_count": 26,
      "outputs": []
    },
    {
      "cell_type": "code",
      "source": [
        "#add\n",
        "ares = v1+v2\n",
        "#convert the results into functions\n",
        "calcsres = theano.function([v1,v2],sres)\n",
        "calcares = theano.function([v1,v2],ares)\n",
        "calcares(12,23)\n",
        "calcsres(13,12)\n",
        "x = T.dmatrix('x')\n",
        "y = T.dmatrix('y')"
      ],
      "metadata": {
        "id": "KvTJ71HWm3Jo"
      },
      "execution_count": 28,
      "outputs": []
    },
    {
      "cell_type": "code",
      "source": [
        "z = x+y\n",
        "func = function([x,y],z)\n",
        "m1 = [\n",
        "[1,2],\n",
        "[3,4]\n",
        "]\n",
        "m2 = [\n",
        "[4,5],\n",
        "[6,7]\n",
        "]\n",
        "func(m1,m2)"
      ],
      "metadata": {
        "colab": {
          "base_uri": "https://localhost:8080/"
        },
        "id": "CZsEMOXIm3Hd",
        "outputId": "45e69258-e9be-4f50-a9ac-1ca4419973bf"
      },
      "execution_count": 29,
      "outputs": [
        {
          "output_type": "execute_result",
          "data": {
            "text/plain": [
              "array([[ 5.,  7.],\n",
              "       [ 9., 11.]])"
            ]
          },
          "metadata": {},
          "execution_count": 29
        }
      ]
    },
    {
      "cell_type": "markdown",
      "source": [
        "#Pytorch"
      ],
      "metadata": {
        "id": "VX75ManInSDa"
      }
    },
    {
      "cell_type": "code",
      "source": [
        "import torch\n",
        "import numpy as np"
      ],
      "metadata": {
        "id": "sqbuZpRGnNCP"
      },
      "execution_count": 30,
      "outputs": []
    },
    {
      "cell_type": "markdown",
      "source": [
        "### 1 - using data"
      ],
      "metadata": {
        "id": "UvORLnhCne1Z"
      }
    },
    {
      "cell_type": "code",
      "source": [
        "data = [\n",
        "[1,2],\n",
        "[3,4]\n",
        "]\n",
        "x_data = torch.tensor(data)"
      ],
      "metadata": {
        "id": "S6b0CkEVnWC0"
      },
      "execution_count": 31,
      "outputs": []
    },
    {
      "cell_type": "code",
      "source": [
        "print(type(x_data))"
      ],
      "metadata": {
        "colab": {
          "base_uri": "https://localhost:8080/"
        },
        "id": "1pN-Q9trnZT4",
        "outputId": "f709e611-fa0a-48b9-c38d-781c8660c577"
      },
      "execution_count": 32,
      "outputs": [
        {
          "output_type": "stream",
          "name": "stdout",
          "text": [
            "<class 'torch.Tensor'>\n"
          ]
        }
      ]
    },
    {
      "cell_type": "markdown",
      "source": [
        "### 2 - using numpy array"
      ],
      "metadata": {
        "id": "JGIrMbZwnjZY"
      }
    },
    {
      "cell_type": "code",
      "source": [
        "np_array = np.array(data)\n",
        "x_np = torch.from_numpy(np_array)\n",
        "print(x_np)\n",
        "print(type(x_np))"
      ],
      "metadata": {
        "colab": {
          "base_uri": "https://localhost:8080/"
        },
        "id": "Nd4TX8iVnbos",
        "outputId": "1f2d97de-1271-499e-f1ef-c94e15906eaa"
      },
      "execution_count": 33,
      "outputs": [
        {
          "output_type": "stream",
          "name": "stdout",
          "text": [
            "tensor([[1, 2],\n",
            "        [3, 4]])\n",
            "<class 'torch.Tensor'>\n"
          ]
        }
      ]
    },
    {
      "cell_type": "markdown",
      "source": [
        "### 3 - using another tensor"
      ],
      "metadata": {
        "id": "gw7Zna2gnpmG"
      }
    },
    {
      "cell_type": "code",
      "source": [
        "x_ones = torch.ones_like(x_data)\n",
        "print(\"One Tensor: \\n\",x_ones)\n",
        "x_rand = torch.rand_like(x_data,dtype=torch.float)\n",
        "print(x_rand)"
      ],
      "metadata": {
        "colab": {
          "base_uri": "https://localhost:8080/"
        },
        "id": "OuUWExdUnmcY",
        "outputId": "ff0ff93b-e8da-4ba2-8197-dd32be13d8bf"
      },
      "execution_count": 34,
      "outputs": [
        {
          "output_type": "stream",
          "name": "stdout",
          "text": [
            "One Tensor: \n",
            " tensor([[1, 1],\n",
            "        [1, 1]])\n",
            "tensor([[0.1233, 0.5974],\n",
            "        [0.5984, 0.7637]])\n"
          ]
        }
      ]
    },
    {
      "cell_type": "markdown",
      "source": [
        "#### more ways to create tensors"
      ],
      "metadata": {
        "id": "-3rNiBptnwVj"
      }
    },
    {
      "cell_type": "code",
      "source": [
        "shape = (2,3)\n",
        "random_tensor = torch.rand(shape)\n",
        "print(random_tensor)\n",
        "print(type(random_tensor))\n",
        "ones_tensor = torch.ones(shape)\n",
        "print(ones_tensor)\n",
        "print(type(ones_tensor))\n",
        "zeros_tensor = torch.zeros(shape)\n",
        "print(zeros_tensor)\n",
        "print(type(zeros_tensor))\n",
        "tensor = torch.rand(3,4)\n",
        "print(tensor)\n",
        "tensor.shape\n",
        "tensor.dtype\n",
        "tensor.device"
      ],
      "metadata": {
        "colab": {
          "base_uri": "https://localhost:8080/"
        },
        "id": "yKpVTar7ns2b",
        "outputId": "48a85d16-6ffe-4283-9d2e-6df8a43da738"
      },
      "execution_count": 35,
      "outputs": [
        {
          "output_type": "stream",
          "name": "stdout",
          "text": [
            "tensor([[0.9378, 0.5080, 0.9005],\n",
            "        [0.3791, 0.8897, 0.5984]])\n",
            "<class 'torch.Tensor'>\n",
            "tensor([[1., 1., 1.],\n",
            "        [1., 1., 1.]])\n",
            "<class 'torch.Tensor'>\n",
            "tensor([[0., 0., 0.],\n",
            "        [0., 0., 0.]])\n",
            "<class 'torch.Tensor'>\n",
            "tensor([[0.3468, 0.8177, 0.0115, 0.2408],\n",
            "        [0.7795, 0.7669, 0.6804, 0.4550],\n",
            "        [0.9616, 0.3821, 0.9734, 0.5598]])\n"
          ]
        },
        {
          "output_type": "execute_result",
          "data": {
            "text/plain": [
              "device(type='cpu')"
            ]
          },
          "metadata": {},
          "execution_count": 35
        }
      ]
    },
    {
      "cell_type": "markdown",
      "source": [
        "# Tensor Operations"
      ],
      "metadata": {
        "id": "lfcdqAShn4ug"
      }
    },
    {
      "cell_type": "code",
      "source": [
        "if torch.cuda.is_available():\n",
        "  tensor = tensor.to('cuda')\n",
        "  print(\"Device tensor is stored in \", tensor.device)"
      ],
      "metadata": {
        "id": "UMoT3knKn2HC"
      },
      "execution_count": 37,
      "outputs": []
    },
    {
      "cell_type": "markdown",
      "source": [
        "###Indexing, Slicing"
      ],
      "metadata": {
        "id": "mwG1eej9oAnv"
      }
    },
    {
      "cell_type": "code",
      "source": [
        "tensor = torch.ones(4,4)\n",
        "print(tensor)\n",
        "print(tensor)\n",
        "tensor1 = torch.zeros(4,4)\n",
        "print(tensor1)\n",
        "tensor2 = torch.cat([tensor,tensor1])\n",
        "print(tensor2)\n",
        "# Multiply Operation\n",
        "tensor.mul(tensor1)\n",
        "tensor * tensor1\n",
        "tensor.T\n",
        "# inplace - change the original tensor\n",
        "tensor.add_(3)\n",
        "print(tensor)\n",
        "# from tensor to numpy\n",
        "t = torch.ones(5)\n",
        "print(t)\n",
        "n = t.numpy()\n",
        "print(n)\n",
        "print(type(n))"
      ],
      "metadata": {
        "colab": {
          "base_uri": "https://localhost:8080/"
        },
        "id": "K9SQJCv5n7xd",
        "outputId": "f1591f05-5765-4a94-d71b-a653ae07187c"
      },
      "execution_count": 38,
      "outputs": [
        {
          "output_type": "stream",
          "name": "stdout",
          "text": [
            "tensor([[1., 1., 1., 1.],\n",
            "        [1., 1., 1., 1.],\n",
            "        [1., 1., 1., 1.],\n",
            "        [1., 1., 1., 1.]])\n",
            "tensor([[1., 1., 1., 1.],\n",
            "        [1., 1., 1., 1.],\n",
            "        [1., 1., 1., 1.],\n",
            "        [1., 1., 1., 1.]])\n",
            "tensor([[0., 0., 0., 0.],\n",
            "        [0., 0., 0., 0.],\n",
            "        [0., 0., 0., 0.],\n",
            "        [0., 0., 0., 0.]])\n",
            "tensor([[1., 1., 1., 1.],\n",
            "        [1., 1., 1., 1.],\n",
            "        [1., 1., 1., 1.],\n",
            "        [1., 1., 1., 1.],\n",
            "        [0., 0., 0., 0.],\n",
            "        [0., 0., 0., 0.],\n",
            "        [0., 0., 0., 0.],\n",
            "        [0., 0., 0., 0.]])\n",
            "tensor([[4., 4., 4., 4.],\n",
            "        [4., 4., 4., 4.],\n",
            "        [4., 4., 4., 4.],\n",
            "        [4., 4., 4., 4.]])\n",
            "tensor([1., 1., 1., 1., 1.])\n",
            "[1. 1. 1. 1. 1.]\n",
            "<class 'numpy.ndarray'>\n"
          ]
        }
      ]
    }
  ]
}