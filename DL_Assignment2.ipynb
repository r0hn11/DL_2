{
  "nbformat": 4,
  "nbformat_minor": 0,
  "metadata": {
    "colab": {
      "provenance": []
    },
    "kernelspec": {
      "name": "python3",
      "display_name": "Python 3"
    },
    "language_info": {
      "name": "python"
    }
  },
  "cells": [
    {
      "cell_type": "code",
      "execution_count": null,
      "metadata": {
        "id": "BBset8gn8kNX"
      },
      "outputs": [],
      "source": [
        "from sklearn.preprocessing import LabelBinarizer\n",
        "from sklearn.metrics import classification_report\n",
        "from tensorflow.keras.models import Sequential\n",
        "from tensorflow.keras.layers import Dense\n",
        "from tensorflow.keras.optimizers import SGD\n",
        "from tensorflow.keras.datasets import mnist\n",
        "from tensorflow.keras import backend as K\n",
        "import matplotlib.pyplot as plt\n",
        "import numpy as np\n",
        "import argparse"
      ]
    },
    {
      "cell_type": "markdown",
      "source": [
        "TensorFlow is a Python library for fast numerical computing that can be used to create Deep Learning models directly.\n",
        "Keras is a deep learning API written in Python, running on top of the machine learning platform TensorFlow.\n",
        "Matplotlib is a cross-platform, data visualization and graphical plotting library for Python and its numerical extension NumPy."
      ],
      "metadata": {
        "id": "F6XMzbstbh0T"
      }
    },
    {
      "cell_type": "code",
      "source": [
        "ap = argparse.ArgumentParser()\n",
        "ap.add_argument(\"-o\", \"--output\", required=True,\n",
        "\thelp=\"path to the output loss/accuracy plot\")\n",
        "args = vars(ap.parse_args())"
      ],
      "metadata": {
        "colab": {
          "base_uri": "https://localhost:8080/",
          "height": 183
        },
        "id": "phuqYgAw9_CA",
        "outputId": "b3448f5d-2664-4df2-ef00-05269242de86"
      },
      "execution_count": null,
      "outputs": [
        {
          "output_type": "stream",
          "name": "stderr",
          "text": [
            "usage: ipykernel_launcher.py [-h] -o OUTPUT\n",
            "ipykernel_launcher.py: error: the following arguments are required: -o/--output\n"
          ]
        },
        {
          "output_type": "error",
          "ename": "SystemExit",
          "evalue": "ignored",
          "traceback": [
            "An exception has occurred, use %tb to see the full traceback.\n",
            "\u001b[0;31mSystemExit\u001b[0m\u001b[0;31m:\u001b[0m 2\n"
          ]
        },
        {
          "output_type": "stream",
          "name": "stderr",
          "text": [
            "/usr/local/lib/python3.7/dist-packages/IPython/core/interactiveshell.py:2890: UserWarning: To exit: use 'exit', 'quit', or Ctrl-D.\n",
            "  warn(\"To exit: use 'exit', 'quit', or Ctrl-D.\", stacklevel=1)\n"
          ]
        }
      ]
    },
    {
      "cell_type": "code",
      "source": [
        "# grab the MNIST dataset (if this is your first time using this\n",
        "# dataset then the 11MB download may take a minute)\n",
        "print(\"[INFO] accessing MNIST...\")\n",
        "((trainX, trainY), (testX, testY)) = mnist.load_data()\n",
        "# each image in the MNIST dataset is represented as a 28x28x1\n",
        "# image, but in order to apply a standard neural network we must\n",
        "# first \"flatten\" the image to be simple list of 28x28=784 pixels\n",
        "trainX = trainX.reshape((trainX.shape[0], 28 * 28 * 1))\n",
        "testX = testX.reshape((testX.shape[0], 28 * 28 * 1))\n",
        "# scale data to the range of [0, 1]\n",
        "trainX = trainX.astype(\"float32\") / 255.0\n",
        "testX = testX.astype(\"float32\") / 255.0"
      ],
      "metadata": {
        "colab": {
          "base_uri": "https://localhost:8080/"
        },
        "id": "8odTFyVv-PvW",
        "outputId": "97e876ba-8518-4a86-f781-67161dceea8e"
      },
      "execution_count": null,
      "outputs": [
        {
          "output_type": "stream",
          "name": "stdout",
          "text": [
            "[INFO] accessing MNIST...\n",
            "Downloading data from https://storage.googleapis.com/tensorflow/tf-keras-datasets/mnist.npz\n",
            "11493376/11490434 [==============================] - 0s 0us/step\n",
            "11501568/11490434 [==============================] - 0s 0us/step\n"
          ]
        }
      ]
    },
    {
      "cell_type": "code",
      "source": [
        "# convert the labels from integers to vectors\n",
        "lb = LabelBinarizer()\n",
        "trainY = lb.fit_transform(trainY)\n",
        "testY = lb.transform(testY)"
      ],
      "metadata": {
        "id": "yT-Tw1hqD583"
      },
      "execution_count": null,
      "outputs": []
    },
    {
      "cell_type": "code",
      "source": [
        "[0, 0, 0, 1, 0, 0, 0, 0, 0, 0]"
      ],
      "metadata": {
        "colab": {
          "base_uri": "https://localhost:8080/"
        },
        "id": "8TGqpoc9D_cd",
        "outputId": "2aede8e2-d96d-4cf2-80f1-69c2a794016a"
      },
      "execution_count": null,
      "outputs": [
        {
          "output_type": "execute_result",
          "data": {
            "text/plain": [
              "[0, 0, 0, 1, 0, 0, 0, 0, 0, 0]"
            ]
          },
          "metadata": {},
          "execution_count": 10
        }
      ]
    },
    {
      "cell_type": "code",
      "source": [
        "[0, 1, 0, 0, 0, 0, 0, 0, 0, 0]"
      ],
      "metadata": {
        "colab": {
          "base_uri": "https://localhost:8080/"
        },
        "id": "qtTIMWMxEFL-",
        "outputId": "df194940-4b88-469b-abc4-77bd2408d618"
      },
      "execution_count": null,
      "outputs": [
        {
          "output_type": "execute_result",
          "data": {
            "text/plain": [
              "[0, 1, 0, 0, 0, 0, 0, 0, 0, 0]"
            ]
          },
          "metadata": {},
          "execution_count": 11
        }
      ]
    },
    {
      "cell_type": "code",
      "source": [
        "0: [1, 0, 0, 0, 0, 0, 0, 0, 0, 0]\n",
        "1: [0, 1, 0, 0, 0, 0, 0, 0, 0, 0]\n",
        "2: [0, 0, 1, 0, 0, 0, 0, 0, 0, 0]\n",
        "3: [0, 0, 0, 1, 0, 0, 0, 0, 0, 0]\n",
        "4: [0, 0, 0, 0, 1, 0, 0, 0, 0, 0]\n",
        "5: [0, 0, 0, 0, 0, 1, 0, 0, 0, 0]\n",
        "6: [0, 0, 0, 0, 0, 0, 1, 0, 0, 0]\n",
        "7: [0, 0, 0, 0, 0, 0, 0, 1, 0, 0]\n",
        "8: [0, 0, 0, 0, 0, 0, 0, 0, 1, 0]\n",
        "9: [0, 0, 0, 0, 0, 0, 0, 0, 0, 1]"
      ],
      "metadata": {
        "colab": {
          "base_uri": "https://localhost:8080/",
          "height": 130
        },
        "id": "OE3pa_CZEPcM",
        "outputId": "ce763f31-6ca8-4e29-99d3-a9ea916fa218"
      },
      "execution_count": null,
      "outputs": [
        {
          "output_type": "error",
          "ename": "SyntaxError",
          "evalue": "ignored",
          "traceback": [
            "\u001b[0;36m  File \u001b[0;32m\"<ipython-input-17-66feae7e7534>\"\u001b[0;36m, line \u001b[0;32m1\u001b[0m\n\u001b[0;31m    0: [1, 0, 0, 0, 0, 0, 0, 0, 0, 0]\u001b[0m\n\u001b[0m                                     ^\u001b[0m\n\u001b[0;31mSyntaxError\u001b[0m\u001b[0;31m:\u001b[0m illegal target for annotation\n"
          ]
        }
      ]
    },
    {
      "cell_type": "code",
      "source": [
        "# define the 784-256-128-10 architecture using Keras\n",
        "model = Sequential()\n",
        "model.add(Dense(256, input_shape=(784,), activation=\"sigmoid\"))\n",
        "model.add(Dense(128, activation=\"sigmoid\"))\n",
        "model.add(Dense(10, activation=\"softmax\"))"
      ],
      "metadata": {
        "id": "NlLTH2cBESzt"
      },
      "execution_count": null,
      "outputs": []
    },
    {
      "cell_type": "code",
      "source": [
        "# train the model using SGD\n",
        "print(\"[INFO] training network...\")\n",
        "sgd = SGD(0.01)\n",
        "model.compile(loss=\"categorical_crossentropy\", optimizer=sgd,\n",
        "\tmetrics=[\"accuracy\"])\n",
        "H = model.fit(trainX, trainY, validation_data=(testX, testY),\n",
        "\tepochs=100, batch_size=128)"
      ],
      "metadata": {
        "colab": {
          "base_uri": "https://localhost:8080/"
        },
        "id": "adV_cWKNHHd-",
        "outputId": "1e08e2ad-fcac-4640-a88a-6ef93168f6bf"
      },
      "execution_count": null,
      "outputs": [
        {
          "output_type": "stream",
          "name": "stdout",
          "text": [
            "[INFO] training network...\n",
            "Epoch 1/100\n",
            "469/469 [==============================] - 3s 5ms/step - loss: 2.2738 - accuracy: 0.1997 - val_loss: 2.2323 - val_accuracy: 0.2855\n",
            "Epoch 2/100\n",
            "469/469 [==============================] - 2s 5ms/step - loss: 2.1974 - accuracy: 0.4117 - val_loss: 2.1543 - val_accuracy: 0.5436\n",
            "Epoch 3/100\n",
            "469/469 [==============================] - 3s 5ms/step - loss: 2.1063 - accuracy: 0.5562 - val_loss: 2.0426 - val_accuracy: 0.5949\n",
            "Epoch 4/100\n",
            "469/469 [==============================] - 3s 7ms/step - loss: 1.9731 - accuracy: 0.6182 - val_loss: 1.8819 - val_accuracy: 0.6224\n",
            "Epoch 5/100\n",
            "469/469 [==============================] - 5s 10ms/step - loss: 1.7879 - accuracy: 0.6570 - val_loss: 1.6697 - val_accuracy: 0.6906\n",
            "Epoch 6/100\n",
            "469/469 [==============================] - 2s 5ms/step - loss: 1.5681 - accuracy: 0.6919 - val_loss: 1.4445 - val_accuracy: 0.7249\n",
            "Epoch 7/100\n",
            "469/469 [==============================] - 2s 5ms/step - loss: 1.3555 - accuracy: 0.7220 - val_loss: 1.2461 - val_accuracy: 0.7453\n",
            "Epoch 8/100\n",
            "469/469 [==============================] - 2s 5ms/step - loss: 1.1775 - accuracy: 0.7471 - val_loss: 1.0876 - val_accuracy: 0.7673\n",
            "Epoch 9/100\n",
            "469/469 [==============================] - 2s 5ms/step - loss: 1.0374 - accuracy: 0.7688 - val_loss: 0.9643 - val_accuracy: 0.7851\n",
            "Epoch 10/100\n",
            "469/469 [==============================] - 2s 5ms/step - loss: 0.9286 - accuracy: 0.7859 - val_loss: 0.8682 - val_accuracy: 0.8005\n",
            "Epoch 11/100\n",
            "469/469 [==============================] - 2s 5ms/step - loss: 0.8430 - accuracy: 0.8007 - val_loss: 0.7923 - val_accuracy: 0.8096\n",
            "Epoch 12/100\n",
            "469/469 [==============================] - 3s 5ms/step - loss: 0.7750 - accuracy: 0.8130 - val_loss: 0.7309 - val_accuracy: 0.8231\n",
            "Epoch 13/100\n",
            "469/469 [==============================] - 2s 5ms/step - loss: 0.7198 - accuracy: 0.8230 - val_loss: 0.6813 - val_accuracy: 0.8316\n",
            "Epoch 14/100\n",
            "469/469 [==============================] - 2s 5ms/step - loss: 0.6745 - accuracy: 0.8312 - val_loss: 0.6401 - val_accuracy: 0.8378\n",
            "Epoch 15/100\n",
            "469/469 [==============================] - 2s 5ms/step - loss: 0.6366 - accuracy: 0.8385 - val_loss: 0.6056 - val_accuracy: 0.8466\n",
            "Epoch 16/100\n",
            "469/469 [==============================] - 2s 5ms/step - loss: 0.6047 - accuracy: 0.8447 - val_loss: 0.5757 - val_accuracy: 0.8522\n",
            "Epoch 17/100\n",
            "469/469 [==============================] - 2s 5ms/step - loss: 0.5773 - accuracy: 0.8506 - val_loss: 0.5505 - val_accuracy: 0.8591\n",
            "Epoch 18/100\n",
            "469/469 [==============================] - 2s 5ms/step - loss: 0.5537 - accuracy: 0.8557 - val_loss: 0.5283 - val_accuracy: 0.8633\n",
            "Epoch 19/100\n",
            "469/469 [==============================] - 2s 5ms/step - loss: 0.5329 - accuracy: 0.8599 - val_loss: 0.5087 - val_accuracy: 0.8677\n",
            "Epoch 20/100\n",
            "469/469 [==============================] - 2s 5ms/step - loss: 0.5147 - accuracy: 0.8632 - val_loss: 0.4916 - val_accuracy: 0.8714\n",
            "Epoch 21/100\n",
            "469/469 [==============================] - 2s 5ms/step - loss: 0.4985 - accuracy: 0.8668 - val_loss: 0.4760 - val_accuracy: 0.8740\n",
            "Epoch 22/100\n",
            "469/469 [==============================] - 3s 5ms/step - loss: 0.4839 - accuracy: 0.8698 - val_loss: 0.4623 - val_accuracy: 0.8767\n",
            "Epoch 23/100\n",
            "469/469 [==============================] - 2s 5ms/step - loss: 0.4708 - accuracy: 0.8727 - val_loss: 0.4501 - val_accuracy: 0.8784\n",
            "Epoch 24/100\n",
            "469/469 [==============================] - 2s 5ms/step - loss: 0.4590 - accuracy: 0.8758 - val_loss: 0.4388 - val_accuracy: 0.8807\n",
            "Epoch 25/100\n",
            "469/469 [==============================] - 2s 5ms/step - loss: 0.4483 - accuracy: 0.8785 - val_loss: 0.4289 - val_accuracy: 0.8827\n",
            "Epoch 26/100\n",
            "469/469 [==============================] - 3s 5ms/step - loss: 0.4386 - accuracy: 0.8814 - val_loss: 0.4196 - val_accuracy: 0.8849\n",
            "Epoch 27/100\n",
            "469/469 [==============================] - 2s 5ms/step - loss: 0.4297 - accuracy: 0.8831 - val_loss: 0.4110 - val_accuracy: 0.8874\n",
            "Epoch 28/100\n",
            "469/469 [==============================] - 2s 5ms/step - loss: 0.4215 - accuracy: 0.8850 - val_loss: 0.4035 - val_accuracy: 0.8891\n",
            "Epoch 29/100\n",
            "469/469 [==============================] - 2s 5ms/step - loss: 0.4141 - accuracy: 0.8864 - val_loss: 0.3963 - val_accuracy: 0.8903\n",
            "Epoch 30/100\n",
            "469/469 [==============================] - 2s 5ms/step - loss: 0.4072 - accuracy: 0.8880 - val_loss: 0.3903 - val_accuracy: 0.8916\n",
            "Epoch 31/100\n",
            "469/469 [==============================] - 2s 5ms/step - loss: 0.4008 - accuracy: 0.8895 - val_loss: 0.3844 - val_accuracy: 0.8927\n",
            "Epoch 32/100\n",
            "469/469 [==============================] - 2s 5ms/step - loss: 0.3950 - accuracy: 0.8908 - val_loss: 0.3785 - val_accuracy: 0.8935\n",
            "Epoch 33/100\n",
            "469/469 [==============================] - 2s 5ms/step - loss: 0.3895 - accuracy: 0.8917 - val_loss: 0.3734 - val_accuracy: 0.8952\n",
            "Epoch 34/100\n",
            "469/469 [==============================] - 2s 5ms/step - loss: 0.3845 - accuracy: 0.8928 - val_loss: 0.3685 - val_accuracy: 0.8956\n",
            "Epoch 35/100\n",
            "469/469 [==============================] - 3s 5ms/step - loss: 0.3797 - accuracy: 0.8943 - val_loss: 0.3642 - val_accuracy: 0.8968\n",
            "Epoch 36/100\n",
            "469/469 [==============================] - 3s 5ms/step - loss: 0.3753 - accuracy: 0.8951 - val_loss: 0.3597 - val_accuracy: 0.8971\n",
            "Epoch 37/100\n",
            "469/469 [==============================] - 2s 5ms/step - loss: 0.3712 - accuracy: 0.8958 - val_loss: 0.3566 - val_accuracy: 0.8986\n",
            "Epoch 38/100\n",
            "469/469 [==============================] - 4s 8ms/step - loss: 0.3672 - accuracy: 0.8973 - val_loss: 0.3527 - val_accuracy: 0.8984\n",
            "Epoch 39/100\n",
            "469/469 [==============================] - 3s 6ms/step - loss: 0.3636 - accuracy: 0.8973 - val_loss: 0.3489 - val_accuracy: 0.9000\n",
            "Epoch 40/100\n",
            "469/469 [==============================] - 2s 5ms/step - loss: 0.3601 - accuracy: 0.8985 - val_loss: 0.3460 - val_accuracy: 0.9006\n",
            "Epoch 41/100\n",
            "469/469 [==============================] - 2s 5ms/step - loss: 0.3568 - accuracy: 0.8992 - val_loss: 0.3429 - val_accuracy: 0.9016\n",
            "Epoch 42/100\n",
            "469/469 [==============================] - 2s 5ms/step - loss: 0.3536 - accuracy: 0.8998 - val_loss: 0.3400 - val_accuracy: 0.9030\n",
            "Epoch 43/100\n",
            "469/469 [==============================] - 2s 5ms/step - loss: 0.3507 - accuracy: 0.9007 - val_loss: 0.3374 - val_accuracy: 0.9025\n",
            "Epoch 44/100\n",
            "469/469 [==============================] - 2s 5ms/step - loss: 0.3479 - accuracy: 0.9012 - val_loss: 0.3343 - val_accuracy: 0.9033\n",
            "Epoch 45/100\n",
            "469/469 [==============================] - 2s 5ms/step - loss: 0.3451 - accuracy: 0.9018 - val_loss: 0.3318 - val_accuracy: 0.9042\n",
            "Epoch 46/100\n",
            "469/469 [==============================] - 2s 5ms/step - loss: 0.3426 - accuracy: 0.9022 - val_loss: 0.3295 - val_accuracy: 0.9047\n",
            "Epoch 47/100\n",
            "469/469 [==============================] - 2s 5ms/step - loss: 0.3400 - accuracy: 0.9030 - val_loss: 0.3273 - val_accuracy: 0.9055\n",
            "Epoch 48/100\n",
            "469/469 [==============================] - 3s 5ms/step - loss: 0.3377 - accuracy: 0.9035 - val_loss: 0.3249 - val_accuracy: 0.9060\n",
            "Epoch 49/100\n",
            "469/469 [==============================] - 2s 5ms/step - loss: 0.3354 - accuracy: 0.9038 - val_loss: 0.3231 - val_accuracy: 0.9071\n",
            "Epoch 50/100\n",
            "469/469 [==============================] - 3s 5ms/step - loss: 0.3332 - accuracy: 0.9045 - val_loss: 0.3216 - val_accuracy: 0.9068\n",
            "Epoch 51/100\n",
            "469/469 [==============================] - 2s 5ms/step - loss: 0.3311 - accuracy: 0.9051 - val_loss: 0.3190 - val_accuracy: 0.9076\n",
            "Epoch 52/100\n",
            "469/469 [==============================] - 2s 5ms/step - loss: 0.3290 - accuracy: 0.9054 - val_loss: 0.3167 - val_accuracy: 0.9084\n",
            "Epoch 53/100\n",
            "469/469 [==============================] - 2s 5ms/step - loss: 0.3270 - accuracy: 0.9057 - val_loss: 0.3156 - val_accuracy: 0.9076\n",
            "Epoch 54/100\n",
            "469/469 [==============================] - 2s 5ms/step - loss: 0.3251 - accuracy: 0.9062 - val_loss: 0.3136 - val_accuracy: 0.9085\n",
            "Epoch 55/100\n",
            "469/469 [==============================] - 3s 5ms/step - loss: 0.3232 - accuracy: 0.9069 - val_loss: 0.3117 - val_accuracy: 0.9089\n",
            "Epoch 56/100\n",
            "469/469 [==============================] - 2s 5ms/step - loss: 0.3214 - accuracy: 0.9075 - val_loss: 0.3100 - val_accuracy: 0.9100\n",
            "Epoch 57/100\n",
            "469/469 [==============================] - 2s 5ms/step - loss: 0.3197 - accuracy: 0.9076 - val_loss: 0.3087 - val_accuracy: 0.9102\n",
            "Epoch 58/100\n",
            "469/469 [==============================] - 2s 5ms/step - loss: 0.3179 - accuracy: 0.9082 - val_loss: 0.3074 - val_accuracy: 0.9104\n",
            "Epoch 59/100\n",
            "469/469 [==============================] - 2s 5ms/step - loss: 0.3163 - accuracy: 0.9087 - val_loss: 0.3056 - val_accuracy: 0.9114\n",
            "Epoch 60/100\n",
            "469/469 [==============================] - 2s 5ms/step - loss: 0.3146 - accuracy: 0.9092 - val_loss: 0.3042 - val_accuracy: 0.9116\n",
            "Epoch 61/100\n",
            "469/469 [==============================] - 3s 5ms/step - loss: 0.3131 - accuracy: 0.9094 - val_loss: 0.3029 - val_accuracy: 0.9114\n",
            "Epoch 62/100\n",
            "469/469 [==============================] - 2s 5ms/step - loss: 0.3115 - accuracy: 0.9096 - val_loss: 0.3009 - val_accuracy: 0.9131\n",
            "Epoch 63/100\n",
            "469/469 [==============================] - 2s 5ms/step - loss: 0.3100 - accuracy: 0.9100 - val_loss: 0.2997 - val_accuracy: 0.9131\n",
            "Epoch 64/100\n",
            "469/469 [==============================] - 3s 5ms/step - loss: 0.3086 - accuracy: 0.9107 - val_loss: 0.2991 - val_accuracy: 0.9122\n",
            "Epoch 65/100\n",
            "469/469 [==============================] - 3s 5ms/step - loss: 0.3072 - accuracy: 0.9112 - val_loss: 0.2980 - val_accuracy: 0.9134\n",
            "Epoch 66/100\n",
            "469/469 [==============================] - 2s 5ms/step - loss: 0.3058 - accuracy: 0.9114 - val_loss: 0.2961 - val_accuracy: 0.9140\n",
            "Epoch 67/100\n",
            "469/469 [==============================] - 2s 5ms/step - loss: 0.3045 - accuracy: 0.9119 - val_loss: 0.2946 - val_accuracy: 0.9141\n",
            "Epoch 68/100\n",
            "469/469 [==============================] - 2s 5ms/step - loss: 0.3030 - accuracy: 0.9122 - val_loss: 0.2939 - val_accuracy: 0.9144\n",
            "Epoch 69/100\n",
            "469/469 [==============================] - 3s 5ms/step - loss: 0.3017 - accuracy: 0.9128 - val_loss: 0.2924 - val_accuracy: 0.9162\n",
            "Epoch 70/100\n",
            "469/469 [==============================] - 3s 5ms/step - loss: 0.3005 - accuracy: 0.9132 - val_loss: 0.2912 - val_accuracy: 0.9154\n",
            "Epoch 71/100\n",
            "469/469 [==============================] - 2s 5ms/step - loss: 0.2991 - accuracy: 0.9134 - val_loss: 0.2903 - val_accuracy: 0.9147\n",
            "Epoch 72/100\n",
            "469/469 [==============================] - 3s 5ms/step - loss: 0.2980 - accuracy: 0.9137 - val_loss: 0.2890 - val_accuracy: 0.9163\n",
            "Epoch 73/100\n",
            "469/469 [==============================] - 3s 5ms/step - loss: 0.2967 - accuracy: 0.9142 - val_loss: 0.2881 - val_accuracy: 0.9170\n",
            "Epoch 74/100\n",
            "469/469 [==============================] - 2s 5ms/step - loss: 0.2955 - accuracy: 0.9144 - val_loss: 0.2870 - val_accuracy: 0.9163\n",
            "Epoch 75/100\n",
            "469/469 [==============================] - 2s 5ms/step - loss: 0.2943 - accuracy: 0.9150 - val_loss: 0.2856 - val_accuracy: 0.9176\n",
            "Epoch 76/100\n",
            "469/469 [==============================] - 3s 5ms/step - loss: 0.2932 - accuracy: 0.9154 - val_loss: 0.2846 - val_accuracy: 0.9161\n",
            "Epoch 77/100\n",
            "469/469 [==============================] - 2s 5ms/step - loss: 0.2920 - accuracy: 0.9155 - val_loss: 0.2837 - val_accuracy: 0.9183\n",
            "Epoch 78/100\n",
            "469/469 [==============================] - 2s 5ms/step - loss: 0.2909 - accuracy: 0.9159 - val_loss: 0.2825 - val_accuracy: 0.9176\n",
            "Epoch 79/100\n",
            "469/469 [==============================] - 2s 5ms/step - loss: 0.2898 - accuracy: 0.9159 - val_loss: 0.2818 - val_accuracy: 0.9174\n",
            "Epoch 80/100\n",
            "469/469 [==============================] - 2s 5ms/step - loss: 0.2887 - accuracy: 0.9166 - val_loss: 0.2809 - val_accuracy: 0.9190\n",
            "Epoch 81/100\n",
            "469/469 [==============================] - 2s 5ms/step - loss: 0.2876 - accuracy: 0.9168 - val_loss: 0.2803 - val_accuracy: 0.9184\n",
            "Epoch 82/100\n",
            "469/469 [==============================] - 2s 5ms/step - loss: 0.2866 - accuracy: 0.9166 - val_loss: 0.2794 - val_accuracy: 0.9184\n",
            "Epoch 83/100\n",
            "469/469 [==============================] - 3s 5ms/step - loss: 0.2855 - accuracy: 0.9174 - val_loss: 0.2780 - val_accuracy: 0.9189\n",
            "Epoch 84/100\n",
            "469/469 [==============================] - 3s 6ms/step - loss: 0.2846 - accuracy: 0.9175 - val_loss: 0.2770 - val_accuracy: 0.9192\n",
            "Epoch 85/100\n",
            "469/469 [==============================] - 3s 7ms/step - loss: 0.2835 - accuracy: 0.9179 - val_loss: 0.2760 - val_accuracy: 0.9200\n",
            "Epoch 86/100\n",
            "469/469 [==============================] - 3s 5ms/step - loss: 0.2824 - accuracy: 0.9180 - val_loss: 0.2756 - val_accuracy: 0.9194\n",
            "Epoch 87/100\n",
            "469/469 [==============================] - 2s 5ms/step - loss: 0.2816 - accuracy: 0.9182 - val_loss: 0.2744 - val_accuracy: 0.9202\n",
            "Epoch 88/100\n",
            "469/469 [==============================] - 2s 5ms/step - loss: 0.2805 - accuracy: 0.9186 - val_loss: 0.2735 - val_accuracy: 0.9207\n",
            "Epoch 89/100\n",
            "469/469 [==============================] - 2s 5ms/step - loss: 0.2796 - accuracy: 0.9185 - val_loss: 0.2726 - val_accuracy: 0.9212\n",
            "Epoch 90/100\n",
            "469/469 [==============================] - 2s 5ms/step - loss: 0.2786 - accuracy: 0.9193 - val_loss: 0.2719 - val_accuracy: 0.9211\n",
            "Epoch 91/100\n",
            "469/469 [==============================] - 2s 5ms/step - loss: 0.2776 - accuracy: 0.9192 - val_loss: 0.2709 - val_accuracy: 0.9209\n",
            "Epoch 92/100\n",
            "469/469 [==============================] - 2s 5ms/step - loss: 0.2766 - accuracy: 0.9197 - val_loss: 0.2700 - val_accuracy: 0.9211\n",
            "Epoch 93/100\n",
            "469/469 [==============================] - 3s 5ms/step - loss: 0.2757 - accuracy: 0.9200 - val_loss: 0.2697 - val_accuracy: 0.9215\n",
            "Epoch 94/100\n",
            "469/469 [==============================] - 2s 5ms/step - loss: 0.2748 - accuracy: 0.9202 - val_loss: 0.2687 - val_accuracy: 0.9217\n",
            "Epoch 95/100\n",
            "469/469 [==============================] - 3s 6ms/step - loss: 0.2739 - accuracy: 0.9203 - val_loss: 0.2679 - val_accuracy: 0.9223\n",
            "Epoch 96/100\n",
            "469/469 [==============================] - 3s 6ms/step - loss: 0.2730 - accuracy: 0.9207 - val_loss: 0.2671 - val_accuracy: 0.9217\n",
            "Epoch 97/100\n",
            "469/469 [==============================] - 3s 5ms/step - loss: 0.2720 - accuracy: 0.9212 - val_loss: 0.2663 - val_accuracy: 0.9225\n",
            "Epoch 98/100\n",
            "469/469 [==============================] - 3s 5ms/step - loss: 0.2711 - accuracy: 0.9209 - val_loss: 0.2653 - val_accuracy: 0.9224\n",
            "Epoch 99/100\n",
            "469/469 [==============================] - 2s 5ms/step - loss: 0.2703 - accuracy: 0.9216 - val_loss: 0.2645 - val_accuracy: 0.9229\n",
            "Epoch 100/100\n",
            "469/469 [==============================] - 2s 5ms/step - loss: 0.2694 - accuracy: 0.9215 - val_loss: 0.2638 - val_accuracy: 0.9224\n"
          ]
        }
      ]
    },
    {
      "cell_type": "code",
      "source": [
        "# define the 784-256-128-10 architecture using Keras\n",
        "model = Sequential()\n",
        "model.add(Dense(256, input_shape=(784,), activation=\"sigmoid\"))\n",
        "model.add(Dense(128, activation=\"sigmoid\"))\n",
        "model.add(Dense(10, activation=\"softmax\"))"
      ],
      "metadata": {
        "id": "Psoz_3-xHKnd"
      },
      "execution_count": null,
      "outputs": []
    },
    {
      "cell_type": "code",
      "source": [
        "# train the model using SGD\n",
        "print(\"[INFO] training network...\")\n",
        "sgd = SGD(0.01)\n",
        "model.compile(loss=\"categorical_crossentropy\", optimizer=sgd,\n",
        "\tmetrics=[\"accuracy\"])\n",
        "H = model.fit(trainX, trainY, validation_data=(testX, testY),\n",
        "\tepochs=100, batch_size=128)"
      ],
      "metadata": {
        "colab": {
          "base_uri": "https://localhost:8080/"
        },
        "id": "o4qXCJ8lISk1",
        "outputId": "858b65c1-d1cf-4174-9acd-a550214e96da"
      },
      "execution_count": null,
      "outputs": [
        {
          "output_type": "stream",
          "name": "stdout",
          "text": [
            "[INFO] training network...\n",
            "Epoch 1/100\n",
            "469/469 [==============================] - 3s 6ms/step - loss: 2.2711 - accuracy: 0.1964 - val_loss: 2.2350 - val_accuracy: 0.2922\n",
            "Epoch 2/100\n",
            "469/469 [==============================] - 3s 5ms/step - loss: 2.2038 - accuracy: 0.3958 - val_loss: 2.1632 - val_accuracy: 0.5878\n",
            "Epoch 3/100\n",
            "469/469 [==============================] - 2s 5ms/step - loss: 2.1198 - accuracy: 0.5580 - val_loss: 2.0608 - val_accuracy: 0.5542\n",
            "Epoch 4/100\n",
            "469/469 [==============================] - 2s 5ms/step - loss: 1.9981 - accuracy: 0.6259 - val_loss: 1.9134 - val_accuracy: 0.6949\n",
            "Epoch 5/100\n",
            "469/469 [==============================] - 2s 5ms/step - loss: 1.8269 - accuracy: 0.6710 - val_loss: 1.7143 - val_accuracy: 0.7093\n",
            "Epoch 6/100\n",
            "469/469 [==============================] - 2s 5ms/step - loss: 1.6159 - accuracy: 0.7092 - val_loss: 1.4899 - val_accuracy: 0.7389\n",
            "Epoch 7/100\n",
            "469/469 [==============================] - 2s 5ms/step - loss: 1.3973 - accuracy: 0.7372 - val_loss: 1.2782 - val_accuracy: 0.7635\n",
            "Epoch 8/100\n",
            "469/469 [==============================] - 3s 7ms/step - loss: 1.2045 - accuracy: 0.7611 - val_loss: 1.1042 - val_accuracy: 0.7772\n",
            "Epoch 9/100\n",
            "469/469 [==============================] - 2s 5ms/step - loss: 1.0515 - accuracy: 0.7788 - val_loss: 0.9702 - val_accuracy: 0.7994\n",
            "Epoch 10/100\n",
            "469/469 [==============================] - 3s 5ms/step - loss: 0.9345 - accuracy: 0.7952 - val_loss: 0.8686 - val_accuracy: 0.8071\n",
            "Epoch 11/100\n",
            "469/469 [==============================] - 2s 5ms/step - loss: 0.8445 - accuracy: 0.8068 - val_loss: 0.7893 - val_accuracy: 0.8178\n",
            "Epoch 12/100\n",
            "469/469 [==============================] - 2s 5ms/step - loss: 0.7735 - accuracy: 0.8176 - val_loss: 0.7261 - val_accuracy: 0.8289\n",
            "Epoch 13/100\n",
            "469/469 [==============================] - 2s 5ms/step - loss: 0.7164 - accuracy: 0.8281 - val_loss: 0.6751 - val_accuracy: 0.8354\n",
            "Epoch 14/100\n",
            "469/469 [==============================] - 2s 5ms/step - loss: 0.6698 - accuracy: 0.8350 - val_loss: 0.6329 - val_accuracy: 0.8448\n",
            "Epoch 15/100\n",
            "469/469 [==============================] - 2s 5ms/step - loss: 0.6310 - accuracy: 0.8420 - val_loss: 0.5974 - val_accuracy: 0.8500\n",
            "Epoch 16/100\n",
            "469/469 [==============================] - 3s 5ms/step - loss: 0.5985 - accuracy: 0.8482 - val_loss: 0.5687 - val_accuracy: 0.8558\n",
            "Epoch 17/100\n",
            "469/469 [==============================] - 2s 5ms/step - loss: 0.5707 - accuracy: 0.8536 - val_loss: 0.5425 - val_accuracy: 0.8611\n",
            "Epoch 18/100\n",
            "469/469 [==============================] - 2s 5ms/step - loss: 0.5469 - accuracy: 0.8576 - val_loss: 0.5212 - val_accuracy: 0.8645\n",
            "Epoch 19/100\n",
            "469/469 [==============================] - 3s 5ms/step - loss: 0.5262 - accuracy: 0.8622 - val_loss: 0.5011 - val_accuracy: 0.8677\n",
            "Epoch 20/100\n",
            "469/469 [==============================] - 3s 5ms/step - loss: 0.5079 - accuracy: 0.8660 - val_loss: 0.4846 - val_accuracy: 0.8709\n",
            "Epoch 21/100\n",
            "469/469 [==============================] - 3s 5ms/step - loss: 0.4919 - accuracy: 0.8692 - val_loss: 0.4691 - val_accuracy: 0.8744\n",
            "Epoch 22/100\n",
            "469/469 [==============================] - 2s 5ms/step - loss: 0.4775 - accuracy: 0.8723 - val_loss: 0.4559 - val_accuracy: 0.8774\n",
            "Epoch 23/100\n",
            "469/469 [==============================] - 2s 5ms/step - loss: 0.4646 - accuracy: 0.8754 - val_loss: 0.4443 - val_accuracy: 0.8797\n",
            "Epoch 24/100\n",
            "469/469 [==============================] - 3s 5ms/step - loss: 0.4530 - accuracy: 0.8780 - val_loss: 0.4332 - val_accuracy: 0.8820\n",
            "Epoch 25/100\n",
            "469/469 [==============================] - 2s 5ms/step - loss: 0.4425 - accuracy: 0.8813 - val_loss: 0.4233 - val_accuracy: 0.8844\n",
            "Epoch 26/100\n",
            "469/469 [==============================] - 3s 5ms/step - loss: 0.4330 - accuracy: 0.8832 - val_loss: 0.4141 - val_accuracy: 0.8864\n",
            "Epoch 27/100\n",
            "469/469 [==============================] - 2s 5ms/step - loss: 0.4243 - accuracy: 0.8853 - val_loss: 0.4058 - val_accuracy: 0.8890\n",
            "Epoch 28/100\n",
            "469/469 [==============================] - 2s 5ms/step - loss: 0.4163 - accuracy: 0.8872 - val_loss: 0.3982 - val_accuracy: 0.8904\n",
            "Epoch 29/100\n",
            "469/469 [==============================] - 2s 5ms/step - loss: 0.4090 - accuracy: 0.8889 - val_loss: 0.3921 - val_accuracy: 0.8907\n",
            "Epoch 30/100\n",
            "469/469 [==============================] - 3s 5ms/step - loss: 0.4023 - accuracy: 0.8905 - val_loss: 0.3855 - val_accuracy: 0.8938\n",
            "Epoch 31/100\n",
            "469/469 [==============================] - 2s 5ms/step - loss: 0.3961 - accuracy: 0.8916 - val_loss: 0.3794 - val_accuracy: 0.8941\n",
            "Epoch 32/100\n",
            "469/469 [==============================] - 2s 5ms/step - loss: 0.3904 - accuracy: 0.8928 - val_loss: 0.3744 - val_accuracy: 0.8949\n",
            "Epoch 33/100\n",
            "469/469 [==============================] - 4s 9ms/step - loss: 0.3850 - accuracy: 0.8940 - val_loss: 0.3695 - val_accuracy: 0.8964\n",
            "Epoch 34/100\n",
            "469/469 [==============================] - 3s 7ms/step - loss: 0.3799 - accuracy: 0.8953 - val_loss: 0.3650 - val_accuracy: 0.8976\n",
            "Epoch 35/100\n",
            "469/469 [==============================] - 2s 5ms/step - loss: 0.3755 - accuracy: 0.8960 - val_loss: 0.3601 - val_accuracy: 0.8990\n",
            "Epoch 36/100\n",
            "469/469 [==============================] - 2s 5ms/step - loss: 0.3711 - accuracy: 0.8967 - val_loss: 0.3561 - val_accuracy: 0.8995\n",
            "Epoch 37/100\n",
            "469/469 [==============================] - 2s 5ms/step - loss: 0.3670 - accuracy: 0.8977 - val_loss: 0.3519 - val_accuracy: 0.8998\n",
            "Epoch 38/100\n",
            "469/469 [==============================] - 2s 5ms/step - loss: 0.3632 - accuracy: 0.8984 - val_loss: 0.3487 - val_accuracy: 0.9007\n",
            "Epoch 39/100\n",
            "469/469 [==============================] - 2s 5ms/step - loss: 0.3595 - accuracy: 0.8993 - val_loss: 0.3453 - val_accuracy: 0.9017\n",
            "Epoch 40/100\n",
            "469/469 [==============================] - 3s 5ms/step - loss: 0.3561 - accuracy: 0.9001 - val_loss: 0.3420 - val_accuracy: 0.9021\n",
            "Epoch 41/100\n",
            "469/469 [==============================] - 3s 5ms/step - loss: 0.3529 - accuracy: 0.9006 - val_loss: 0.3394 - val_accuracy: 0.9027\n",
            "Epoch 42/100\n",
            "469/469 [==============================] - 2s 5ms/step - loss: 0.3498 - accuracy: 0.9013 - val_loss: 0.3361 - val_accuracy: 0.9037\n",
            "Epoch 43/100\n",
            "469/469 [==============================] - 2s 5ms/step - loss: 0.3468 - accuracy: 0.9021 - val_loss: 0.3333 - val_accuracy: 0.9041\n",
            "Epoch 44/100\n",
            "469/469 [==============================] - 2s 5ms/step - loss: 0.3440 - accuracy: 0.9025 - val_loss: 0.3309 - val_accuracy: 0.9047\n",
            "Epoch 45/100\n",
            "469/469 [==============================] - 3s 5ms/step - loss: 0.3414 - accuracy: 0.9036 - val_loss: 0.3281 - val_accuracy: 0.9048\n",
            "Epoch 46/100\n",
            "469/469 [==============================] - 3s 5ms/step - loss: 0.3388 - accuracy: 0.9040 - val_loss: 0.3259 - val_accuracy: 0.9052\n",
            "Epoch 47/100\n",
            "469/469 [==============================] - 3s 5ms/step - loss: 0.3364 - accuracy: 0.9045 - val_loss: 0.3239 - val_accuracy: 0.9062\n",
            "Epoch 48/100\n",
            "469/469 [==============================] - 2s 5ms/step - loss: 0.3340 - accuracy: 0.9054 - val_loss: 0.3213 - val_accuracy: 0.9068\n",
            "Epoch 49/100\n",
            "469/469 [==============================] - 2s 5ms/step - loss: 0.3317 - accuracy: 0.9057 - val_loss: 0.3195 - val_accuracy: 0.9056\n",
            "Epoch 50/100\n",
            "469/469 [==============================] - 2s 5ms/step - loss: 0.3296 - accuracy: 0.9062 - val_loss: 0.3171 - val_accuracy: 0.9073\n",
            "Epoch 51/100\n",
            "469/469 [==============================] - 2s 5ms/step - loss: 0.3275 - accuracy: 0.9067 - val_loss: 0.3154 - val_accuracy: 0.9074\n",
            "Epoch 52/100\n",
            "469/469 [==============================] - 3s 5ms/step - loss: 0.3255 - accuracy: 0.9068 - val_loss: 0.3134 - val_accuracy: 0.9095\n",
            "Epoch 53/100\n",
            "469/469 [==============================] - 3s 5ms/step - loss: 0.3235 - accuracy: 0.9073 - val_loss: 0.3120 - val_accuracy: 0.9092\n",
            "Epoch 54/100\n",
            "469/469 [==============================] - 3s 7ms/step - loss: 0.3216 - accuracy: 0.9080 - val_loss: 0.3098 - val_accuracy: 0.9100\n",
            "Epoch 55/100\n",
            "469/469 [==============================] - 3s 5ms/step - loss: 0.3198 - accuracy: 0.9085 - val_loss: 0.3081 - val_accuracy: 0.9106\n",
            "Epoch 56/100\n",
            "469/469 [==============================] - 2s 5ms/step - loss: 0.3180 - accuracy: 0.9088 - val_loss: 0.3072 - val_accuracy: 0.9100\n",
            "Epoch 57/100\n",
            "469/469 [==============================] - 2s 5ms/step - loss: 0.3162 - accuracy: 0.9089 - val_loss: 0.3053 - val_accuracy: 0.9104\n",
            "Epoch 58/100\n",
            "469/469 [==============================] - 2s 5ms/step - loss: 0.3145 - accuracy: 0.9097 - val_loss: 0.3035 - val_accuracy: 0.9107\n",
            "Epoch 59/100\n",
            "469/469 [==============================] - 3s 5ms/step - loss: 0.3130 - accuracy: 0.9104 - val_loss: 0.3022 - val_accuracy: 0.9110\n",
            "Epoch 60/100\n",
            "469/469 [==============================] - 2s 5ms/step - loss: 0.3113 - accuracy: 0.9104 - val_loss: 0.3010 - val_accuracy: 0.9129\n",
            "Epoch 61/100\n",
            "469/469 [==============================] - 3s 5ms/step - loss: 0.3098 - accuracy: 0.9110 - val_loss: 0.2989 - val_accuracy: 0.9119\n",
            "Epoch 62/100\n",
            "469/469 [==============================] - 3s 6ms/step - loss: 0.3083 - accuracy: 0.9112 - val_loss: 0.2976 - val_accuracy: 0.9135\n",
            "Epoch 63/100\n",
            "469/469 [==============================] - 3s 6ms/step - loss: 0.3068 - accuracy: 0.9116 - val_loss: 0.2965 - val_accuracy: 0.9132\n",
            "Epoch 64/100\n",
            "469/469 [==============================] - 2s 5ms/step - loss: 0.3054 - accuracy: 0.9120 - val_loss: 0.2950 - val_accuracy: 0.9149\n",
            "Epoch 65/100\n",
            "469/469 [==============================] - 3s 5ms/step - loss: 0.3040 - accuracy: 0.9124 - val_loss: 0.2939 - val_accuracy: 0.9142\n",
            "Epoch 66/100\n",
            "469/469 [==============================] - 2s 5ms/step - loss: 0.3026 - accuracy: 0.9128 - val_loss: 0.2927 - val_accuracy: 0.9157\n",
            "Epoch 67/100\n",
            "469/469 [==============================] - 2s 5ms/step - loss: 0.3012 - accuracy: 0.9130 - val_loss: 0.2911 - val_accuracy: 0.9153\n",
            "Epoch 68/100\n",
            "469/469 [==============================] - 2s 5ms/step - loss: 0.2999 - accuracy: 0.9137 - val_loss: 0.2904 - val_accuracy: 0.9160\n",
            "Epoch 69/100\n",
            "469/469 [==============================] - 3s 6ms/step - loss: 0.2987 - accuracy: 0.9134 - val_loss: 0.2890 - val_accuracy: 0.9160\n",
            "Epoch 70/100\n",
            "469/469 [==============================] - 2s 5ms/step - loss: 0.2974 - accuracy: 0.9140 - val_loss: 0.2880 - val_accuracy: 0.9166\n",
            "Epoch 71/100\n",
            "469/469 [==============================] - 2s 5ms/step - loss: 0.2962 - accuracy: 0.9144 - val_loss: 0.2867 - val_accuracy: 0.9167\n",
            "Epoch 72/100\n",
            "469/469 [==============================] - 2s 5ms/step - loss: 0.2950 - accuracy: 0.9147 - val_loss: 0.2859 - val_accuracy: 0.9163\n",
            "Epoch 73/100\n",
            "469/469 [==============================] - 2s 5ms/step - loss: 0.2937 - accuracy: 0.9155 - val_loss: 0.2847 - val_accuracy: 0.9179\n",
            "Epoch 74/100\n",
            "469/469 [==============================] - 2s 5ms/step - loss: 0.2925 - accuracy: 0.9153 - val_loss: 0.2833 - val_accuracy: 0.9179\n",
            "Epoch 75/100\n",
            "469/469 [==============================] - 3s 6ms/step - loss: 0.2914 - accuracy: 0.9156 - val_loss: 0.2831 - val_accuracy: 0.9186\n",
            "Epoch 76/100\n",
            "469/469 [==============================] - 3s 6ms/step - loss: 0.2903 - accuracy: 0.9157 - val_loss: 0.2812 - val_accuracy: 0.9194\n",
            "Epoch 77/100\n",
            "469/469 [==============================] - 3s 5ms/step - loss: 0.2893 - accuracy: 0.9161 - val_loss: 0.2807 - val_accuracy: 0.9192\n",
            "Epoch 78/100\n",
            "469/469 [==============================] - 3s 5ms/step - loss: 0.2881 - accuracy: 0.9163 - val_loss: 0.2799 - val_accuracy: 0.9185\n",
            "Epoch 79/100\n",
            "469/469 [==============================] - 2s 5ms/step - loss: 0.2870 - accuracy: 0.9169 - val_loss: 0.2788 - val_accuracy: 0.9190\n",
            "Epoch 80/100\n",
            "469/469 [==============================] - 2s 5ms/step - loss: 0.2859 - accuracy: 0.9168 - val_loss: 0.2778 - val_accuracy: 0.9199\n",
            "Epoch 81/100\n",
            "469/469 [==============================] - 2s 5ms/step - loss: 0.2850 - accuracy: 0.9173 - val_loss: 0.2776 - val_accuracy: 0.9188\n",
            "Epoch 82/100\n",
            "469/469 [==============================] - 3s 6ms/step - loss: 0.2839 - accuracy: 0.9176 - val_loss: 0.2760 - val_accuracy: 0.9201\n",
            "Epoch 83/100\n",
            "469/469 [==============================] - 3s 6ms/step - loss: 0.2828 - accuracy: 0.9179 - val_loss: 0.2746 - val_accuracy: 0.9219\n",
            "Epoch 84/100\n",
            "469/469 [==============================] - 2s 5ms/step - loss: 0.2819 - accuracy: 0.9181 - val_loss: 0.2745 - val_accuracy: 0.9205\n",
            "Epoch 85/100\n",
            "469/469 [==============================] - 3s 5ms/step - loss: 0.2809 - accuracy: 0.9182 - val_loss: 0.2736 - val_accuracy: 0.9209\n",
            "Epoch 86/100\n",
            "469/469 [==============================] - 3s 6ms/step - loss: 0.2799 - accuracy: 0.9184 - val_loss: 0.2726 - val_accuracy: 0.9209\n",
            "Epoch 87/100\n",
            "469/469 [==============================] - 2s 5ms/step - loss: 0.2789 - accuracy: 0.9190 - val_loss: 0.2714 - val_accuracy: 0.9220\n",
            "Epoch 88/100\n",
            "469/469 [==============================] - 2s 5ms/step - loss: 0.2780 - accuracy: 0.9192 - val_loss: 0.2710 - val_accuracy: 0.9210\n",
            "Epoch 89/100\n",
            "469/469 [==============================] - 3s 6ms/step - loss: 0.2771 - accuracy: 0.9197 - val_loss: 0.2698 - val_accuracy: 0.9214\n",
            "Epoch 90/100\n",
            "469/469 [==============================] - 2s 5ms/step - loss: 0.2761 - accuracy: 0.9198 - val_loss: 0.2690 - val_accuracy: 0.9215\n",
            "Epoch 91/100\n",
            "469/469 [==============================] - 2s 5ms/step - loss: 0.2752 - accuracy: 0.9202 - val_loss: 0.2680 - val_accuracy: 0.9220\n",
            "Epoch 92/100\n",
            "469/469 [==============================] - 3s 5ms/step - loss: 0.2742 - accuracy: 0.9203 - val_loss: 0.2676 - val_accuracy: 0.9217\n",
            "Epoch 93/100\n",
            "469/469 [==============================] - 2s 5ms/step - loss: 0.2733 - accuracy: 0.9202 - val_loss: 0.2668 - val_accuracy: 0.9226\n",
            "Epoch 94/100\n",
            "469/469 [==============================] - 2s 5ms/step - loss: 0.2724 - accuracy: 0.9209 - val_loss: 0.2661 - val_accuracy: 0.9224\n",
            "Epoch 95/100\n",
            "469/469 [==============================] - 2s 5ms/step - loss: 0.2715 - accuracy: 0.9207 - val_loss: 0.2650 - val_accuracy: 0.9226\n",
            "Epoch 96/100\n",
            "469/469 [==============================] - 2s 5ms/step - loss: 0.2707 - accuracy: 0.9215 - val_loss: 0.2644 - val_accuracy: 0.9234\n",
            "Epoch 97/100\n",
            "469/469 [==============================] - 2s 5ms/step - loss: 0.2697 - accuracy: 0.9215 - val_loss: 0.2641 - val_accuracy: 0.9232\n",
            "Epoch 98/100\n",
            "469/469 [==============================] - 2s 5ms/step - loss: 0.2689 - accuracy: 0.9215 - val_loss: 0.2633 - val_accuracy: 0.9235\n",
            "Epoch 99/100\n",
            "469/469 [==============================] - 3s 5ms/step - loss: 0.2681 - accuracy: 0.9215 - val_loss: 0.2620 - val_accuracy: 0.9237\n",
            "Epoch 100/100\n",
            "469/469 [==============================] - 3s 5ms/step - loss: 0.2672 - accuracy: 0.9219 - val_loss: 0.2613 - val_accuracy: 0.9238\n"
          ]
        }
      ]
    },
    {
      "cell_type": "code",
      "source": [
        "# evaluate the network\n",
        "print(\"[INFO] evaluating network...\")\n",
        "predictions = model.predict(testX, batch_size=128)\n",
        "print(classification_report(testY.argmax(axis=1),\n",
        "\tpredictions.argmax(axis=1),\n",
        "\ttarget_names=[str(x) for x in lb.classes_]))"
      ],
      "metadata": {
        "colab": {
          "base_uri": "https://localhost:8080/"
        },
        "id": "rly4g8KYIV10",
        "outputId": "b1d54305-8761-47b4-b6c3-17de00881458"
      },
      "execution_count": null,
      "outputs": [
        {
          "output_type": "stream",
          "name": "stdout",
          "text": [
            "[INFO] evaluating network...\n",
            "              precision    recall  f1-score   support\n",
            "\n",
            "           0       0.94      0.98      0.96       980\n",
            "           1       0.97      0.97      0.97      1135\n",
            "           2       0.92      0.90      0.91      1032\n",
            "           3       0.91      0.90      0.91      1010\n",
            "           4       0.92      0.93      0.93       982\n",
            "           5       0.90      0.87      0.88       892\n",
            "           6       0.93      0.95      0.94       958\n",
            "           7       0.93      0.92      0.93      1028\n",
            "           8       0.89      0.89      0.89       974\n",
            "           9       0.91      0.90      0.91      1009\n",
            "\n",
            "    accuracy                           0.92     10000\n",
            "   macro avg       0.92      0.92      0.92     10000\n",
            "weighted avg       0.92      0.92      0.92     10000\n",
            "\n"
          ]
        }
      ]
    },
    {
      "cell_type": "code",
      "source": [
        "# plot the training loss and accuracy\n",
        "plt.style.use(\"ggplot\")\n",
        "plt.figure()\n",
        "plt.plot(np.arange(0, 100), H.history[\"loss\"], label=\"train_loss\")\n",
        "plt.plot(np.arange(0, 100), H.history[\"val_loss\"], label=\"val_loss\")\n",
        "plt.plot(np.arange(0, 100), H.history[\"accuracy\"], label=\"train_acc\")\n",
        "plt.plot(np.arange(0, 100), H.history[\"val_accuracy\"], label=\"val_acc\")\n",
        "plt.title(\"Training Loss and Accuracy\")\n",
        "plt.xlabel(\"Epoch #\")\n",
        "plt.ylabel(\"Loss/Accuracy\")\n",
        "plt.legend()\n",
        "#plt.savefig(args[\"output\"])"
      ],
      "metadata": {
        "colab": {
          "base_uri": "https://localhost:8080/",
          "height": 316
        },
        "id": "99VVJGmjJk0c",
        "outputId": "f78fc458-d3f3-4557-9038-9540a26b4965"
      },
      "execution_count": null,
      "outputs": [
        {
          "output_type": "execute_result",
          "data": {
            "text/plain": [
              "<matplotlib.legend.Legend at 0x7f272b38f250>"
            ]
          },
          "metadata": {},
          "execution_count": 24
        },
        {
          "output_type": "display_data",
          "data": {
            "text/plain": [
              "<Figure size 432x288 with 1 Axes>"
            ],
            "image/png": "[encoded data removed]"
          },
          "metadata": {}
        }
      ]
    },
    {
      "cell_type": "code",
      "source": [],
      "metadata": {
        "id": "PoenU3zMJpss"
      },
      "execution_count": null,
      "outputs": []
    }
  ]
}