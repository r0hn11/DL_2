{
  "cells": [
    {
      "cell_type": "code",
      "execution_count": 1,
      "metadata": {
        "id": "77jWXLA3N4fJ"
      },
      "outputs": [],
      "source": [
        "# import the necessary packages\n",
        "from sklearn.preprocessing import LabelBinarizer\n",
        "from sklearn.metrics import classification_report\n",
        "from tensorflow.keras.models import Sequential\n",
        "from tensorflow.keras.layers import Dense\n",
        "from tensorflow.keras.optimizers import SGD\n",
        "from tensorflow.keras.datasets import cifar10\n",
        "import matplotlib.pyplot as plt\n",
        "import numpy as np\n",
        "import argparse"
      ]
    },
    {
      "cell_type": "code",
      "execution_count": 2,
      "metadata": {
        "colab": {
          "base_uri": "https://localhost:8080/"
        },
        "id": "uqPUP3-RN9ob",
        "outputId": "9ca4ee5e-e0f4-4efb-a60c-38e197ef3003"
      },
      "outputs": [
        {
          "output_type": "stream",
          "name": "stdout",
          "text": [
            "[INFO] loading CIFAR-10 data...\n",
            "Downloading data from https://www.cs.toronto.edu/~kriz/cifar-10-python.tar.gz\n",
            "170498071/170498071 [==============================] - 14s 0us/step\n"
          ]
        }
      ],
      "source": [
        "# load the training and testing data, scale it into the range [0, 1],\n",
        "# then reshape the design matrix\n",
        "print(\"[INFO] loading CIFAR-10 data...\")\n",
        "((trainX, trainY), (testX, testY)) = cifar10.load_data()\n",
        "trainX = trainX.astype(\"float\") / 255.0\n",
        "testX = testX.astype(\"float\") / 255.0\n",
        "trainX = trainX.reshape((trainX.shape[0], 3072))\n",
        "testX = testX.reshape((testX.shape[0], 3072))"
      ]
    },
    {
      "cell_type": "code",
      "execution_count": 3,
      "metadata": {
        "id": "uF9kmT0JN9lX"
      },
      "outputs": [],
      "source": [
        "# convert the labels from integers to vectors\n",
        "lb = LabelBinarizer()\n",
        "trainY = lb.fit_transform(trainY)\n",
        "testY = lb.transform(testY)\n",
        "\n",
        "# initialize the label names for the CIFAR-10 dataset\n",
        "labelNames = [\"airplane\", \"automobile\", \"bird\", \"cat\", \"deer\",\n",
        "\t\"dog\", \"frog\", \"horse\", \"ship\", \"truck\"]"
      ]
    },
    {
      "cell_type": "code",
      "execution_count": 4,
      "metadata": {
        "id": "5q0CRkSiN9h3"
      },
      "outputs": [],
      "source": [
        "# define the 3072-1024-512-10 architecture using Keras\n",
        "model = Sequential()\n",
        "model.add(Dense(1024, input_shape=(3072,), activation=\"relu\"))\n",
        "model.add(Dense(512, activation=\"relu\"))\n",
        "model.add(Dense(10, activation=\"softmax\"))"
      ]
    },
    {
      "cell_type": "code",
      "execution_count": 5,
      "metadata": {
        "colab": {
          "base_uri": "https://localhost:8080/"
        },
        "id": "JKFkYh4NN9gE",
        "outputId": "ae500aa1-599f-4f41-f525-589ea99201c1"
      },
      "outputs": [
        {
          "output_type": "stream",
          "name": "stdout",
          "text": [
            "[INFO] training network...\n",
            "Epoch 1/100\n",
            "1563/1563 [==============================] - 9s 4ms/step - loss: 1.8422 - accuracy: 0.3424 - val_loss: 1.7060 - val_accuracy: 0.3992\n",
            "Epoch 2/100\n",
            "1563/1563 [==============================] - 6s 4ms/step - loss: 1.6501 - accuracy: 0.4144 - val_loss: 1.6215 - val_accuracy: 0.4211\n",
            "Epoch 3/100\n",
            "1563/1563 [==============================] - 6s 4ms/step - loss: 1.5653 - accuracy: 0.4456 - val_loss: 1.5932 - val_accuracy: 0.4412\n",
            "Epoch 4/100\n",
            "1563/1563 [==============================] - 6s 4ms/step - loss: 1.5072 - accuracy: 0.4687 - val_loss: 1.5101 - val_accuracy: 0.4723\n",
            "Epoch 5/100\n",
            "1563/1563 [==============================] - 6s 4ms/step - loss: 1.4592 - accuracy: 0.4849 - val_loss: 1.5095 - val_accuracy: 0.4640\n",
            "Epoch 6/100\n",
            "1563/1563 [==============================] - 7s 4ms/step - loss: 1.4191 - accuracy: 0.5007 - val_loss: 1.4418 - val_accuracy: 0.4912\n",
            "Epoch 7/100\n",
            "1563/1563 [==============================] - 5s 4ms/step - loss: 1.3834 - accuracy: 0.5113 - val_loss: 1.4599 - val_accuracy: 0.4804\n",
            "Epoch 8/100\n",
            "1563/1563 [==============================] - 7s 4ms/step - loss: 1.3511 - accuracy: 0.5240 - val_loss: 1.4553 - val_accuracy: 0.4861\n",
            "Epoch 9/100\n",
            "1563/1563 [==============================] - 6s 4ms/step - loss: 1.3214 - accuracy: 0.5353 - val_loss: 1.4513 - val_accuracy: 0.4857\n",
            "Epoch 10/100\n",
            "1563/1563 [==============================] - 6s 4ms/step - loss: 1.2931 - accuracy: 0.5447 - val_loss: 1.3958 - val_accuracy: 0.4969\n",
            "Epoch 11/100\n",
            "1563/1563 [==============================] - 6s 4ms/step - loss: 1.2670 - accuracy: 0.5543 - val_loss: 1.4119 - val_accuracy: 0.4967\n",
            "Epoch 12/100\n",
            "1563/1563 [==============================] - 7s 4ms/step - loss: 1.2408 - accuracy: 0.5657 - val_loss: 1.4821 - val_accuracy: 0.4769\n",
            "Epoch 13/100\n",
            "1563/1563 [==============================] - 6s 4ms/step - loss: 1.2188 - accuracy: 0.5727 - val_loss: 1.3814 - val_accuracy: 0.5080\n",
            "Epoch 14/100\n",
            "1563/1563 [==============================] - 6s 4ms/step - loss: 1.1922 - accuracy: 0.5815 - val_loss: 1.3718 - val_accuracy: 0.5136\n",
            "Epoch 15/100\n",
            "1563/1563 [==============================] - 6s 4ms/step - loss: 1.1707 - accuracy: 0.5897 - val_loss: 1.3577 - val_accuracy: 0.5212\n",
            "Epoch 16/100\n",
            "1563/1563 [==============================] - 6s 4ms/step - loss: 1.1469 - accuracy: 0.5971 - val_loss: 1.3878 - val_accuracy: 0.5170\n",
            "Epoch 17/100\n",
            "1563/1563 [==============================] - 5s 3ms/step - loss: 1.1214 - accuracy: 0.6058 - val_loss: 1.3749 - val_accuracy: 0.5153\n",
            "Epoch 18/100\n",
            "1563/1563 [==============================] - 5s 3ms/step - loss: 1.1016 - accuracy: 0.6146 - val_loss: 1.3733 - val_accuracy: 0.5194\n",
            "Epoch 19/100\n",
            "1563/1563 [==============================] - 6s 4ms/step - loss: 1.0792 - accuracy: 0.6215 - val_loss: 1.3775 - val_accuracy: 0.5120\n",
            "Epoch 20/100\n",
            "1563/1563 [==============================] - 6s 4ms/step - loss: 1.0598 - accuracy: 0.6275 - val_loss: 1.3697 - val_accuracy: 0.5243\n",
            "Epoch 21/100\n",
            "1563/1563 [==============================] - 5s 3ms/step - loss: 1.0356 - accuracy: 0.6364 - val_loss: 1.3703 - val_accuracy: 0.5242\n",
            "Epoch 22/100\n",
            "1563/1563 [==============================] - 5s 3ms/step - loss: 1.0154 - accuracy: 0.6442 - val_loss: 1.3910 - val_accuracy: 0.5240\n",
            "Epoch 23/100\n",
            "1563/1563 [==============================] - 6s 4ms/step - loss: 0.9955 - accuracy: 0.6514 - val_loss: 1.5433 - val_accuracy: 0.4751\n",
            "Epoch 24/100\n",
            "1563/1563 [==============================] - 6s 4ms/step - loss: 0.9734 - accuracy: 0.6612 - val_loss: 1.5276 - val_accuracy: 0.4802\n",
            "Epoch 25/100\n",
            "1563/1563 [==============================] - 5s 3ms/step - loss: 0.9521 - accuracy: 0.6686 - val_loss: 1.5297 - val_accuracy: 0.4879\n",
            "Epoch 26/100\n",
            "1563/1563 [==============================] - 5s 3ms/step - loss: 0.9309 - accuracy: 0.6741 - val_loss: 1.3506 - val_accuracy: 0.5286\n",
            "Epoch 27/100\n",
            "1563/1563 [==============================] - 6s 4ms/step - loss: 0.9092 - accuracy: 0.6844 - val_loss: 1.3174 - val_accuracy: 0.5522\n",
            "Epoch 28/100\n",
            "1563/1563 [==============================] - 5s 3ms/step - loss: 0.8894 - accuracy: 0.6899 - val_loss: 1.3733 - val_accuracy: 0.5356\n",
            "Epoch 29/100\n",
            "1563/1563 [==============================] - 6s 4ms/step - loss: 0.8699 - accuracy: 0.6975 - val_loss: 1.3940 - val_accuracy: 0.5298\n",
            "Epoch 30/100\n",
            "1563/1563 [==============================] - 6s 4ms/step - loss: 0.8489 - accuracy: 0.7057 - val_loss: 1.4194 - val_accuracy: 0.5263\n",
            "Epoch 31/100\n",
            "1563/1563 [==============================] - 5s 3ms/step - loss: 0.8292 - accuracy: 0.7112 - val_loss: 1.4081 - val_accuracy: 0.5318\n",
            "Epoch 32/100\n",
            "1563/1563 [==============================] - 6s 4ms/step - loss: 0.8092 - accuracy: 0.7194 - val_loss: 1.3809 - val_accuracy: 0.5407\n",
            "Epoch 33/100\n",
            "1563/1563 [==============================] - 5s 3ms/step - loss: 0.7885 - accuracy: 0.7273 - val_loss: 1.3917 - val_accuracy: 0.5374\n",
            "Epoch 34/100\n",
            "1563/1563 [==============================] - 6s 4ms/step - loss: 0.7648 - accuracy: 0.7358 - val_loss: 1.8278 - val_accuracy: 0.4586\n",
            "Epoch 35/100\n",
            "1563/1563 [==============================] - 6s 4ms/step - loss: 0.7453 - accuracy: 0.7409 - val_loss: 1.5527 - val_accuracy: 0.5133\n",
            "Epoch 36/100\n",
            "1563/1563 [==============================] - 5s 3ms/step - loss: 0.7218 - accuracy: 0.7517 - val_loss: 1.3858 - val_accuracy: 0.5441\n",
            "Epoch 37/100\n",
            "1563/1563 [==============================] - 5s 3ms/step - loss: 0.7066 - accuracy: 0.7544 - val_loss: 1.6969 - val_accuracy: 0.4873\n",
            "Epoch 38/100\n",
            "1563/1563 [==============================] - 6s 4ms/step - loss: 0.6860 - accuracy: 0.7629 - val_loss: 1.3960 - val_accuracy: 0.5413\n",
            "Epoch 39/100\n",
            "1563/1563 [==============================] - 6s 4ms/step - loss: 0.6646 - accuracy: 0.7710 - val_loss: 1.4452 - val_accuracy: 0.5452\n",
            "Epoch 40/100\n",
            "1563/1563 [==============================] - 6s 4ms/step - loss: 0.6433 - accuracy: 0.7792 - val_loss: 1.3980 - val_accuracy: 0.5559\n",
            "Epoch 41/100\n",
            "1563/1563 [==============================] - 6s 4ms/step - loss: 0.6270 - accuracy: 0.7856 - val_loss: 1.6306 - val_accuracy: 0.5095\n",
            "Epoch 42/100\n",
            "1563/1563 [==============================] - 6s 4ms/step - loss: 0.6035 - accuracy: 0.7930 - val_loss: 1.4198 - val_accuracy: 0.5555\n",
            "Epoch 43/100\n",
            "1563/1563 [==============================] - 6s 4ms/step - loss: 0.5867 - accuracy: 0.8013 - val_loss: 1.5040 - val_accuracy: 0.5395\n",
            "Epoch 44/100\n",
            "1563/1563 [==============================] - 6s 4ms/step - loss: 0.5676 - accuracy: 0.8072 - val_loss: 1.4532 - val_accuracy: 0.5563\n",
            "Epoch 45/100\n",
            "1563/1563 [==============================] - 5s 3ms/step - loss: 0.5475 - accuracy: 0.8154 - val_loss: 1.8706 - val_accuracy: 0.4923\n",
            "Epoch 46/100\n",
            "1563/1563 [==============================] - 6s 4ms/step - loss: 0.5299 - accuracy: 0.8215 - val_loss: 1.4894 - val_accuracy: 0.5438\n",
            "Epoch 47/100\n",
            "1563/1563 [==============================] - 6s 4ms/step - loss: 0.5143 - accuracy: 0.8262 - val_loss: 1.7890 - val_accuracy: 0.5042\n",
            "Epoch 48/100\n",
            "1563/1563 [==============================] - 6s 4ms/step - loss: 0.4937 - accuracy: 0.8345 - val_loss: 1.5471 - val_accuracy: 0.5438\n",
            "Epoch 49/100\n",
            "1563/1563 [==============================] - 6s 4ms/step - loss: 0.4760 - accuracy: 0.8392 - val_loss: 1.6349 - val_accuracy: 0.5382\n",
            "Epoch 50/100\n",
            "1563/1563 [==============================] - 5s 3ms/step - loss: 0.4577 - accuracy: 0.8473 - val_loss: 1.5984 - val_accuracy: 0.5449\n",
            "Epoch 51/100\n",
            "1563/1563 [==============================] - 6s 4ms/step - loss: 0.4376 - accuracy: 0.8547 - val_loss: 1.7343 - val_accuracy: 0.5298\n",
            "Epoch 52/100\n",
            "1563/1563 [==============================] - 5s 3ms/step - loss: 0.4249 - accuracy: 0.8599 - val_loss: 1.5550 - val_accuracy: 0.5511\n",
            "Epoch 53/100\n",
            "1563/1563 [==============================] - 5s 3ms/step - loss: 0.4063 - accuracy: 0.8669 - val_loss: 1.5994 - val_accuracy: 0.5478\n",
            "Epoch 54/100\n",
            "1563/1563 [==============================] - 6s 4ms/step - loss: 0.3933 - accuracy: 0.8709 - val_loss: 1.6266 - val_accuracy: 0.5450\n",
            "Epoch 55/100\n",
            "1563/1563 [==============================] - 5s 3ms/step - loss: 0.3775 - accuracy: 0.8786 - val_loss: 1.6710 - val_accuracy: 0.5439\n",
            "Epoch 56/100\n",
            "1563/1563 [==============================] - 6s 4ms/step - loss: 0.3604 - accuracy: 0.8827 - val_loss: 1.6277 - val_accuracy: 0.5537\n",
            "Epoch 57/100\n",
            "1563/1563 [==============================] - 6s 4ms/step - loss: 0.3479 - accuracy: 0.8867 - val_loss: 1.7304 - val_accuracy: 0.5365\n",
            "Epoch 58/100\n",
            "1563/1563 [==============================] - 6s 4ms/step - loss: 0.3304 - accuracy: 0.8940 - val_loss: 1.7126 - val_accuracy: 0.5390\n",
            "Epoch 59/100\n",
            "1563/1563 [==============================] - 7s 4ms/step - loss: 0.3177 - accuracy: 0.8985 - val_loss: 1.9753 - val_accuracy: 0.5081\n",
            "Epoch 60/100\n",
            "1563/1563 [==============================] - 6s 4ms/step - loss: 0.3027 - accuracy: 0.9041 - val_loss: 1.7036 - val_accuracy: 0.5519\n",
            "Epoch 61/100\n",
            "1563/1563 [==============================] - 6s 4ms/step - loss: 0.2907 - accuracy: 0.9089 - val_loss: 1.7335 - val_accuracy: 0.5528\n",
            "Epoch 62/100\n",
            "1563/1563 [==============================] - 6s 4ms/step - loss: 0.2778 - accuracy: 0.9128 - val_loss: 2.4623 - val_accuracy: 0.4583\n",
            "Epoch 63/100\n",
            "1563/1563 [==============================] - 5s 3ms/step - loss: 0.2681 - accuracy: 0.9184 - val_loss: 1.7535 - val_accuracy: 0.5521\n",
            "Epoch 64/100\n",
            "1563/1563 [==============================] - 6s 4ms/step - loss: 0.2483 - accuracy: 0.9242 - val_loss: 1.8432 - val_accuracy: 0.5491\n",
            "Epoch 65/100\n",
            "1563/1563 [==============================] - 6s 4ms/step - loss: 0.2394 - accuracy: 0.9291 - val_loss: 1.7821 - val_accuracy: 0.5544\n",
            "Epoch 66/100\n",
            "1563/1563 [==============================] - 5s 3ms/step - loss: 0.2251 - accuracy: 0.9329 - val_loss: 1.8056 - val_accuracy: 0.5622\n",
            "Epoch 67/100\n",
            "1563/1563 [==============================] - 6s 4ms/step - loss: 0.2172 - accuracy: 0.9346 - val_loss: 1.8509 - val_accuracy: 0.5484\n",
            "Epoch 68/100\n",
            "1563/1563 [==============================] - 5s 3ms/step - loss: 0.2076 - accuracy: 0.9387 - val_loss: 1.9402 - val_accuracy: 0.5412\n",
            "Epoch 69/100\n",
            "1563/1563 [==============================] - 5s 3ms/step - loss: 0.1975 - accuracy: 0.9415 - val_loss: 1.7951 - val_accuracy: 0.5600\n",
            "Epoch 70/100\n",
            "1563/1563 [==============================] - 6s 4ms/step - loss: 0.1841 - accuracy: 0.9476 - val_loss: 2.0149 - val_accuracy: 0.5325\n",
            "Epoch 71/100\n",
            "1563/1563 [==============================] - 5s 3ms/step - loss: 0.1751 - accuracy: 0.9507 - val_loss: 2.0350 - val_accuracy: 0.5398\n",
            "Epoch 72/100\n",
            "1563/1563 [==============================] - 6s 4ms/step - loss: 0.1655 - accuracy: 0.9557 - val_loss: 1.9739 - val_accuracy: 0.5461\n",
            "Epoch 73/100\n",
            "1563/1563 [==============================] - 5s 3ms/step - loss: 0.1560 - accuracy: 0.9573 - val_loss: 1.9081 - val_accuracy: 0.5597\n",
            "Epoch 74/100\n",
            "1563/1563 [==============================] - 6s 4ms/step - loss: 0.1465 - accuracy: 0.9611 - val_loss: 2.0421 - val_accuracy: 0.5398\n",
            "Epoch 75/100\n",
            "1563/1563 [==============================] - 6s 4ms/step - loss: 0.1454 - accuracy: 0.9607 - val_loss: 2.1298 - val_accuracy: 0.5423\n",
            "Epoch 76/100\n",
            "1563/1563 [==============================] - 6s 4ms/step - loss: 0.1331 - accuracy: 0.9662 - val_loss: 2.2291 - val_accuracy: 0.5287\n",
            "Epoch 77/100\n",
            "1563/1563 [==============================] - 5s 3ms/step - loss: 0.1266 - accuracy: 0.9665 - val_loss: 1.9733 - val_accuracy: 0.5644\n",
            "Epoch 78/100\n",
            "1563/1563 [==============================] - 5s 3ms/step - loss: 0.1178 - accuracy: 0.9704 - val_loss: 2.0271 - val_accuracy: 0.5541\n",
            "Epoch 79/100\n",
            "1563/1563 [==============================] - 6s 4ms/step - loss: 0.1116 - accuracy: 0.9729 - val_loss: 1.9824 - val_accuracy: 0.5648\n",
            "Epoch 80/100\n",
            "1563/1563 [==============================] - 6s 4ms/step - loss: 0.1020 - accuracy: 0.9756 - val_loss: 2.2124 - val_accuracy: 0.5411\n",
            "Epoch 81/100\n",
            "1563/1563 [==============================] - 6s 4ms/step - loss: 0.0969 - accuracy: 0.9773 - val_loss: 2.1143 - val_accuracy: 0.5516\n",
            "Epoch 82/100\n",
            "1563/1563 [==============================] - 6s 4ms/step - loss: 0.0882 - accuracy: 0.9805 - val_loss: 2.0771 - val_accuracy: 0.5557\n",
            "Epoch 83/100\n",
            "1563/1563 [==============================] - 5s 4ms/step - loss: 0.0842 - accuracy: 0.9820 - val_loss: 2.0364 - val_accuracy: 0.5588\n",
            "Epoch 84/100\n",
            "1563/1563 [==============================] - 6s 4ms/step - loss: 0.0761 - accuracy: 0.9844 - val_loss: 2.1452 - val_accuracy: 0.5582\n",
            "Epoch 85/100\n",
            "1563/1563 [==============================] - 5s 3ms/step - loss: 0.0721 - accuracy: 0.9849 - val_loss: 2.2076 - val_accuracy: 0.5543\n",
            "Epoch 86/100\n",
            "1563/1563 [==============================] - 5s 3ms/step - loss: 0.0717 - accuracy: 0.9851 - val_loss: 2.0923 - val_accuracy: 0.5679\n",
            "Epoch 87/100\n",
            "1563/1563 [==============================] - 6s 4ms/step - loss: 0.0649 - accuracy: 0.9868 - val_loss: 2.1335 - val_accuracy: 0.5624\n",
            "Epoch 88/100\n",
            "1563/1563 [==============================] - 6s 4ms/step - loss: 0.0585 - accuracy: 0.9890 - val_loss: 2.1533 - val_accuracy: 0.5621\n",
            "Epoch 89/100\n",
            "1563/1563 [==============================] - 5s 3ms/step - loss: 0.0571 - accuracy: 0.9894 - val_loss: 2.1753 - val_accuracy: 0.5628\n",
            "Epoch 90/100\n",
            "1563/1563 [==============================] - 5s 3ms/step - loss: 0.0520 - accuracy: 0.9911 - val_loss: 2.2527 - val_accuracy: 0.5533\n",
            "Epoch 91/100\n",
            "1563/1563 [==============================] - 6s 4ms/step - loss: 0.0479 - accuracy: 0.9924 - val_loss: 2.1697 - val_accuracy: 0.5686\n",
            "Epoch 92/100\n",
            "1563/1563 [==============================] - 5s 3ms/step - loss: 0.0435 - accuracy: 0.9938 - val_loss: 2.1896 - val_accuracy: 0.5669\n",
            "Epoch 93/100\n",
            "1563/1563 [==============================] - 7s 4ms/step - loss: 0.0433 - accuracy: 0.9937 - val_loss: 2.1793 - val_accuracy: 0.5704\n",
            "Epoch 94/100\n",
            "1563/1563 [==============================] - 5s 3ms/step - loss: 0.0391 - accuracy: 0.9944 - val_loss: 2.2378 - val_accuracy: 0.5643\n",
            "Epoch 95/100\n",
            "1563/1563 [==============================] - 6s 4ms/step - loss: 0.0370 - accuracy: 0.9952 - val_loss: 2.2408 - val_accuracy: 0.5619\n",
            "Epoch 96/100\n",
            "1563/1563 [==============================] - 6s 4ms/step - loss: 0.0340 - accuracy: 0.9956 - val_loss: 2.4126 - val_accuracy: 0.5473\n",
            "Epoch 97/100\n",
            "1563/1563 [==============================] - 6s 4ms/step - loss: 0.0309 - accuracy: 0.9961 - val_loss: 2.3191 - val_accuracy: 0.5580\n",
            "Epoch 98/100\n",
            "1563/1563 [==============================] - 6s 4ms/step - loss: 0.0295 - accuracy: 0.9967 - val_loss: 2.2649 - val_accuracy: 0.5731\n",
            "Epoch 99/100\n",
            "1563/1563 [==============================] - 5s 3ms/step - loss: 0.0294 - accuracy: 0.9964 - val_loss: 2.2906 - val_accuracy: 0.5670\n",
            "Epoch 100/100\n",
            "1563/1563 [==============================] - 6s 4ms/step - loss: 0.0275 - accuracy: 0.9969 - val_loss: 2.2877 - val_accuracy: 0.5627\n"
          ]
        }
      ],
      "source": [
        "# train the model using SGD\n",
        "print(\"[INFO] training network...\")\n",
        "sgd = SGD(0.01)\n",
        "model.compile(loss=\"categorical_crossentropy\", optimizer=sgd,\n",
        "\tmetrics=[\"accuracy\"])\n",
        "H = model.fit(trainX, trainY, validation_data=(testX, testY),\n",
        "\tepochs=100, batch_size=32)"
      ]
    },
    {
      "cell_type": "code",
      "execution_count": 7,
      "metadata": {
        "id": "I5RGmI3qN9cu",
        "colab": {
          "base_uri": "https://localhost:8080/"
        },
        "outputId": "44952671-932a-456b-eac9-73975720ff1b"
      },
      "outputs": [
        {
          "output_type": "stream",
          "name": "stdout",
          "text": [
            "[INFO] evaluating network...\n",
            "313/313 [==============================] - 1s 3ms/step\n",
            "              precision    recall  f1-score   support\n",
            "\n",
            "    airplane       0.59      0.71      0.65      1000\n",
            "  automobile       0.67      0.65      0.66      1000\n",
            "        bird       0.47      0.47      0.47      1000\n",
            "         cat       0.39      0.42      0.40      1000\n",
            "        deer       0.49      0.46      0.48      1000\n",
            "         dog       0.47      0.46      0.47      1000\n",
            "        frog       0.64      0.61      0.62      1000\n",
            "       horse       0.66      0.60      0.63      1000\n",
            "        ship       0.67      0.66      0.66      1000\n",
            "       truck       0.58      0.60      0.59      1000\n",
            "\n",
            "    accuracy                           0.56     10000\n",
            "   macro avg       0.56      0.56      0.56     10000\n",
            "weighted avg       0.56      0.56      0.56     10000\n",
            "\n"
          ]
        }
      ],
      "source": [
        "# evaluate the network\n",
        "print(\"[INFO] evaluating network...\")\n",
        "predictions = model.predict(testX, batch_size=32)\n",
        "print(classification_report(testY.argmax(axis=1),predictions.argmax(axis=1), target_names=labelNames))"
      ]
    },
    {
      "cell_type": "code",
      "execution_count": 8,
      "metadata": {
        "id": "o_yTG6ZIOhju",
        "colab": {
          "base_uri": "https://localhost:8080/",
          "height": 316
        },
        "outputId": "2ca2005a-0629-44d1-d94b-7a3a5996a015"
      },
      "outputs": [
        {
          "output_type": "execute_result",
          "data": {
            "text/plain": [
              "<matplotlib.legend.Legend at 0x7fba5d7be490>"
            ]
          },
          "metadata": {},
          "execution_count": 8
        },
        {
          "output_type": "display_data",
          "data": {
            "text/plain": [
              "<Figure size 432x288 with 1 Axes>"
            ],
            "image/png": "[encoded data removed]"
          },
          "metadata": {}
        }
      ],
      "source": [
        "# plot the training loss and accuracy\n",
        "plt.style.use(\"ggplot\")\n",
        "plt.figure()\n",
        "plt.plot(np.arange(0, 100), H.history[\"loss\"], label=\"train_loss\")\n",
        "plt.plot(np.arange(0, 100), H.history[\"val_loss\"], label=\"val_loss\")\n",
        "plt.plot(np.arange(0, 100), H.history[\"accuracy\"], label=\"train_acc\")\n",
        "plt.plot(np.arange(0, 100), H.history[\"val_accuracy\"], label=\"val_acc\")\n",
        "plt.title(\"Training Loss and Accuracy\")\n",
        "plt.xlabel(\"Epoch #\")\n",
        "plt.ylabel(\"Loss/Accuracy\")\n",
        "plt.legend()\n",
        "#plt.savefig(args[\"output\"])"
      ]
    },
    {
      "cell_type": "code",
      "source": [],
      "metadata": {
        "id": "R9kY2N4UC1Ez"
      },
      "execution_count": null,
      "outputs": []
    }
  ],
  "metadata": {
    "colab": {
      "provenance": []
    },
    "kernelspec": {
      "display_name": "Python 3",
      "name": "python3"
    },
    "language_info": {
      "name": "python"
    },
    "accelerator": "GPU",
    "gpuClass": "standard"
  },
  "nbformat": 4,
  "nbformat_minor": 0
}