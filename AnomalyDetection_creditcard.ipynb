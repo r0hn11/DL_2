{
  "nbformat": 4,
  "nbformat_minor": 0,
  "metadata": {
    "colab": {
      "provenance": []
    },
    "kernelspec": {
      "name": "python3",
      "display_name": "Python 3"
    },
    "language_info": {
      "name": "python"
    }
  },
  "cells": [
    {
      "cell_type": "markdown",
      "source": [
        "###Import required libraries"
      ],
      "metadata": {
        "id": "E4Wmb2mLu5WQ"
      }
    },
    {
      "cell_type": "code",
      "execution_count": 2,
      "metadata": {
        "id": "NS8Qy391qGmd"
      },
      "outputs": [],
      "source": [
        "import pandas as pd\n",
        "import numpy as np\n",
        "import tensorflow as tf\n",
        "import matplotlib.pyplot as plt\n",
        "import seaborn as sns\n",
        "from sklearn.model_selection import train_test_split"
      ]
    },
    {
      "cell_type": "code",
      "source": [
        "from sklearn.preprocessing import StandardScaler\n",
        "from sklearn.metrics import confusion_matrix, recall_score, accuracy_score,precision_score\n",
        "RANDOM_SEED = 2021\n",
        "TEST_PCT = 0.3\n",
        "LABELS = [\"Normal\",\"Fraud\"]"
      ],
      "metadata": {
        "id": "fucP3ZMCr1qh"
      },
      "execution_count": 5,
      "outputs": []
    },
    {
      "cell_type": "code",
      "source": [
        "dataset = pd.read_csv(\"/content/drive/MyDrive/creditcard.csv\")\n",
        "#dataset.head\n",
        "print(list(dataset.columns))\n",
        "#dataset.describe()\n",
        "dataset.head(5)"
      ],
      "metadata": {
        "colab": {
          "base_uri": "https://localhost:8080/",
          "height": 317
        },
        "id": "GZFEEqzPr2Sa",
        "outputId": "117337a4-fbe1-4bd3-c15a-1b0f6900fdda"
      },
      "execution_count": 26,
      "outputs": [
        {
          "output_type": "stream",
          "name": "stdout",
          "text": [
            "['Time', 'V1', 'V2', 'V3', 'V4', 'V5', 'V6', 'V7', 'V8', 'V9', 'V10', 'V11', 'V12', 'V13', 'V14', 'V15', 'V16', 'V17', 'V18', 'V19', 'V20', 'V21', 'V22', 'V23', 'V24', 'V25', 'V26', 'V27', 'V28', 'Amount', 'Class']\n"
          ]
        },
        {
          "output_type": "execute_result",
          "data": {
            "text/plain": [
              "   Time        V1        V2        V3        V4        V5        V6        V7  \\\n",
              "0   0.0 -1.359807 -0.072781  2.536347  1.378155 -0.338321  0.462388  0.239599   \n",
              "1   0.0  1.191857  0.266151  0.166480  0.448154  0.060018 -0.082361 -0.078803   \n",
              "2   1.0 -1.358354 -1.340163  1.773209  0.379780 -0.503198  1.800499  0.791461   \n",
              "3   1.0 -0.966272 -0.185226  1.792993 -0.863291 -0.010309  1.247203  0.237609   \n",
              "4   2.0 -1.158233  0.877737  1.548718  0.403034 -0.407193  0.095921  0.592941   \n",
              "\n",
              "         V8        V9  ...       V21       V22       V23       V24       V25  \\\n",
              "0  0.098698  0.363787  ... -0.018307  0.277838 -0.110474  0.066928  0.128539   \n",
              "1  0.085102 -0.255425  ... -0.225775 -0.638672  0.101288 -0.339846  0.167170   \n",
              "2  0.247676 -1.514654  ...  0.247998  0.771679  0.909412 -0.689281 -0.327642   \n",
              "3  0.377436 -1.387024  ... -0.108300  0.005274 -0.190321 -1.175575  0.647376   \n",
              "4 -0.270533  0.817739  ... -0.009431  0.798278 -0.137458  0.141267 -0.206010   \n",
              "\n",
              "        V26       V27       V28  Amount  Class  \n",
              "0 -0.189115  0.133558 -0.021053  149.62      0  \n",
              "1  0.125895 -0.008983  0.014724    2.69      0  \n",
              "2 -0.139097 -0.055353 -0.059752  378.66      0  \n",
              "3 -0.221929  0.062723  0.061458  123.50      0  \n",
              "4  0.502292  0.219422  0.215153   69.99      0  \n",
              "\n",
              "[5 rows x 31 columns]"
            ],
            "text/html": [
              "\n",
              "  <div id=\"df-31aec633-671f-46be-a71c-373a1ef2f6c7\">\n",
              "    <div class=\"colab-df-container\">\n",
              "      <div>\n",
              "<style scoped>\n",
              "    .dataframe tbody tr th:only-of-type {\n",
              "        vertical-align: middle;\n",
              "    }\n",
              "\n",
              "    .dataframe tbody tr th {\n",
              "        vertical-align: top;\n",
              "    }\n",
              "\n",
              "    .dataframe thead th {\n",
              "        text-align: right;\n",
              "    }\n",
              "</style>\n",
              "<table border=\"1\" class=\"dataframe\">\n",
              "  <thead>\n",
              "    <tr style=\"text-align: right;\">\n",
              "      <th></th>\n",
              "      <th>Time</th>\n",
              "      <th>V1</th>\n",
              "      <th>V2</th>\n",
              "      <th>V3</th>\n",
              "      <th>V4</th>\n",
              "      <th>V5</th>\n",
              "      <th>V6</th>\n",
              "      <th>V7</th>\n",
              "      <th>V8</th>\n",
              "      <th>V9</th>\n",
              "      <th>...</th>\n",
              "      <th>V21</th>\n",
              "      <th>V22</th>\n",
              "      <th>V23</th>\n",
              "      <th>V24</th>\n",
              "      <th>V25</th>\n",
              "      <th>V26</th>\n",
              "      <th>V27</th>\n",
              "      <th>V28</th>\n",
              "      <th>Amount</th>\n",
              "      <th>Class</th>\n",
              "    </tr>\n",
              "  </thead>\n",
              "  <tbody>\n",
              "    <tr>\n",
              "      <th>0</th>\n",
              "      <td>0.0</td>\n",
              "      <td>-1.359807</td>\n",
              "      <td>-0.072781</td>\n",
              "      <td>2.536347</td>\n",
              "      <td>1.378155</td>\n",
              "      <td>-0.338321</td>\n",
              "      <td>0.462388</td>\n",
              "      <td>0.239599</td>\n",
              "      <td>0.098698</td>\n",
              "      <td>0.363787</td>\n",
              "      <td>...</td>\n",
              "      <td>-0.018307</td>\n",
              "      <td>0.277838</td>\n",
              "      <td>-0.110474</td>\n",
              "      <td>0.066928</td>\n",
              "      <td>0.128539</td>\n",
              "      <td>-0.189115</td>\n",
              "      <td>0.133558</td>\n",
              "      <td>-0.021053</td>\n",
              "      <td>149.62</td>\n",
              "      <td>0</td>\n",
              "    </tr>\n",
              "    <tr>\n",
              "      <th>1</th>\n",
              "      <td>0.0</td>\n",
              "      <td>1.191857</td>\n",
              "      <td>0.266151</td>\n",
              "      <td>0.166480</td>\n",
              "      <td>0.448154</td>\n",
              "      <td>0.060018</td>\n",
              "      <td>-0.082361</td>\n",
              "      <td>-0.078803</td>\n",
              "      <td>0.085102</td>\n",
              "      <td>-0.255425</td>\n",
              "      <td>...</td>\n",
              "      <td>-0.225775</td>\n",
              "      <td>-0.638672</td>\n",
              "      <td>0.101288</td>\n",
              "      <td>-0.339846</td>\n",
              "      <td>0.167170</td>\n",
              "      <td>0.125895</td>\n",
              "      <td>-0.008983</td>\n",
              "      <td>0.014724</td>\n",
              "      <td>2.69</td>\n",
              "      <td>0</td>\n",
              "    </tr>\n",
              "    <tr>\n",
              "      <th>2</th>\n",
              "      <td>1.0</td>\n",
              "      <td>-1.358354</td>\n",
              "      <td>-1.340163</td>\n",
              "      <td>1.773209</td>\n",
              "      <td>0.379780</td>\n",
              "      <td>-0.503198</td>\n",
              "      <td>1.800499</td>\n",
              "      <td>0.791461</td>\n",
              "      <td>0.247676</td>\n",
              "      <td>-1.514654</td>\n",
              "      <td>...</td>\n",
              "      <td>0.247998</td>\n",
              "      <td>0.771679</td>\n",
              "      <td>0.909412</td>\n",
              "      <td>-0.689281</td>\n",
              "      <td>-0.327642</td>\n",
              "      <td>-0.139097</td>\n",
              "      <td>-0.055353</td>\n",
              "      <td>-0.059752</td>\n",
              "      <td>378.66</td>\n",
              "      <td>0</td>\n",
              "    </tr>\n",
              "    <tr>\n",
              "      <th>3</th>\n",
              "      <td>1.0</td>\n",
              "      <td>-0.966272</td>\n",
              "      <td>-0.185226</td>\n",
              "      <td>1.792993</td>\n",
              "      <td>-0.863291</td>\n",
              "      <td>-0.010309</td>\n",
              "      <td>1.247203</td>\n",
              "      <td>0.237609</td>\n",
              "      <td>0.377436</td>\n",
              "      <td>-1.387024</td>\n",
              "      <td>...</td>\n",
              "      <td>-0.108300</td>\n",
              "      <td>0.005274</td>\n",
              "      <td>-0.190321</td>\n",
              "      <td>-1.175575</td>\n",
              "      <td>0.647376</td>\n",
              "      <td>-0.221929</td>\n",
              "      <td>0.062723</td>\n",
              "      <td>0.061458</td>\n",
              "      <td>123.50</td>\n",
              "      <td>0</td>\n",
              "    </tr>\n",
              "    <tr>\n",
              "      <th>4</th>\n",
              "      <td>2.0</td>\n",
              "      <td>-1.158233</td>\n",
              "      <td>0.877737</td>\n",
              "      <td>1.548718</td>\n",
              "      <td>0.403034</td>\n",
              "      <td>-0.407193</td>\n",
              "      <td>0.095921</td>\n",
              "      <td>0.592941</td>\n",
              "      <td>-0.270533</td>\n",
              "      <td>0.817739</td>\n",
              "      <td>...</td>\n",
              "      <td>-0.009431</td>\n",
              "      <td>0.798278</td>\n",
              "      <td>-0.137458</td>\n",
              "      <td>0.141267</td>\n",
              "      <td>-0.206010</td>\n",
              "      <td>0.502292</td>\n",
              "      <td>0.219422</td>\n",
              "      <td>0.215153</td>\n",
              "      <td>69.99</td>\n",
              "      <td>0</td>\n",
              "    </tr>\n",
              "  </tbody>\n",
              "</table>\n",
              "<p>5 rows × 31 columns</p>\n",
              "</div>\n",
              "      <button class=\"colab-df-convert\" onclick=\"convertToInteractive('df-31aec633-671f-46be-a71c-373a1ef2f6c7')\"\n",
              "              title=\"Convert this dataframe to an interactive table.\"\n",
              "              style=\"display:none;\">\n",
              "        \n",
              "  <svg xmlns=\"http://www.w3.org/2000/svg\" height=\"24px\"viewBox=\"0 0 24 24\"\n",
              "       width=\"24px\">\n",
              "    <path d=\"M0 0h24v24H0V0z\" fill=\"none\"/>\n",
              "    <path d=\"M18.56 5.44l.94 2.06.94-2.06 2.06-.94-2.06-.94-.94-2.06-.94 2.06-2.06.94zm-11 1L8.5 8.5l.94-2.06 2.06-.94-2.06-.94L8.5 2.5l-.94 2.06-2.06.94zm10 10l.94 2.06.94-2.06 2.06-.94-2.06-.94-.94-2.06-.94 2.06-2.06.94z\"/><path d=\"M17.41 7.96l-1.37-1.37c-.4-.4-.92-.59-1.43-.59-.52 0-1.04.2-1.43.59L10.3 9.45l-7.72 7.72c-.78.78-.78 2.05 0 2.83L4 21.41c.39.39.9.59 1.41.59.51 0 1.02-.2 1.41-.59l7.78-7.78 2.81-2.81c.8-.78.8-2.07 0-2.86zM5.41 20L4 18.59l7.72-7.72 1.47 1.35L5.41 20z\"/>\n",
              "  </svg>\n",
              "      </button>\n",
              "      \n",
              "  <style>\n",
              "    .colab-df-container {\n",
              "      display:flex;\n",
              "      flex-wrap:wrap;\n",
              "      gap: 12px;\n",
              "    }\n",
              "\n",
              "    .colab-df-convert {\n",
              "      background-color: #E8F0FE;\n",
              "      border: none;\n",
              "      border-radius: 50%;\n",
              "      cursor: pointer;\n",
              "      display: none;\n",
              "      fill: #1967D2;\n",
              "      height: 32px;\n",
              "      padding: 0 0 0 0;\n",
              "      width: 32px;\n",
              "    }\n",
              "\n",
              "    .colab-df-convert:hover {\n",
              "      background-color: #E2EBFA;\n",
              "      box-shadow: 0px 1px 2px rgba(60, 64, 67, 0.3), 0px 1px 3px 1px rgba(60, 64, 67, 0.15);\n",
              "      fill: #174EA6;\n",
              "    }\n",
              "\n",
              "    [theme=dark] .colab-df-convert {\n",
              "      background-color: #3B4455;\n",
              "      fill: #D2E3FC;\n",
              "    }\n",
              "\n",
              "    [theme=dark] .colab-df-convert:hover {\n",
              "      background-color: #434B5C;\n",
              "      box-shadow: 0px 1px 3px 1px rgba(0, 0, 0, 0.15);\n",
              "      filter: drop-shadow(0px 1px 2px rgba(0, 0, 0, 0.3));\n",
              "      fill: #FFFFFF;\n",
              "    }\n",
              "  </style>\n",
              "\n",
              "      <script>\n",
              "        const buttonEl =\n",
              "          document.querySelector('#df-31aec633-671f-46be-a71c-373a1ef2f6c7 button.colab-df-convert');\n",
              "        buttonEl.style.display =\n",
              "          google.colab.kernel.accessAllowed ? 'block' : 'none';\n",
              "\n",
              "        async function convertToInteractive(key) {\n",
              "          const element = document.querySelector('#df-31aec633-671f-46be-a71c-373a1ef2f6c7');\n",
              "          const dataTable =\n",
              "            await google.colab.kernel.invokeFunction('convertToInteractive',\n",
              "                                                     [key], {});\n",
              "          if (!dataTable) return;\n",
              "\n",
              "          const docLinkHtml = 'Like what you see? Visit the ' +\n",
              "            '<a target=\"_blank\" href=https://colab.research.google.com/notebooks/data_table.ipynb>data table notebook</a>'\n",
              "            + ' to learn more about interactive tables.';\n",
              "          element.innerHTML = '';\n",
              "          dataTable['output_type'] = 'display_data';\n",
              "          await google.colab.output.renderOutput(dataTable, element);\n",
              "          const docLink = document.createElement('div');\n",
              "          docLink.innerHTML = docLinkHtml;\n",
              "          element.appendChild(docLink);\n",
              "        }\n",
              "      </script>\n",
              "    </div>\n",
              "  </div>\n",
              "  "
            ]
          },
          "metadata": {},
          "execution_count": 26
        }
      ]
    },
    {
      "cell_type": "markdown",
      "source": [
        "###Exploratory Data Analysis"
      ],
      "metadata": {
        "id": "hzmFx3Yru-a4"
      }
    },
    {
      "cell_type": "code",
      "source": [
        "#check for any nullvalues\n",
        "print(\"Any nulls in the dataset \",dataset.isnull().values.any() )\n",
        "print('-------')\n",
        "print(\"No. of unique labels \", len(dataset['Class'].unique()))\n",
        "print(\"Label values \",dataset.Class.unique())\n",
        "#0 is for normal credit card transaction\n",
        "#1 is for fraudulent credit card transaction\n",
        "print('-------')\n",
        "print(\"Break down of the Normal and Fraud Transactions\")\n",
        "print(pd.value_counts(dataset['Class'], sort = True) )"
      ],
      "metadata": {
        "colab": {
          "base_uri": "https://localhost:8080/"
        },
        "id": "bxe0g9kNs6dy",
        "outputId": "bd256592-22d4-486f-9c04-1773872bf875"
      },
      "execution_count": 27,
      "outputs": [
        {
          "output_type": "stream",
          "name": "stdout",
          "text": [
            "Any nulls in the dataset  False\n",
            "-------\n",
            "No. of unique labels  2\n",
            "Label values  [0 1]\n",
            "-------\n",
            "Break down of the Normal and Fraud Transactions\n",
            "0    284315\n",
            "1       492\n",
            "Name: Class, dtype: int64\n"
          ]
        }
      ]
    },
    {
      "cell_type": "markdown",
      "source": [
        "Visualize the dataset\n",
        "\n",
        "plotting the number of normal and fraud transactions in the dataset."
      ],
      "metadata": {
        "id": "BW9SPcJvvFRS"
      }
    },
    {
      "cell_type": "code",
      "source": [
        "#Visualizing the imbalanced dataset\n",
        "count_classes = pd.value_counts(dataset['Class'], sort = True)\n",
        "count_classes.plot(kind = 'bar', rot=0)\n",
        "plt.xticks(range(len(dataset['Class'].unique())), dataset.Class.unique())\n",
        "plt.title(\"Frequency by observation number\")\n",
        "plt.xlabel(\"Class\")\n",
        "plt.ylabel(\"Number of Observations\")"
      ],
      "metadata": {
        "colab": {
          "base_uri": "https://localhost:8080/",
          "height": 313
        },
        "id": "TxdLscNQtF_0",
        "outputId": "b45dd542-0a9d-4379-eb42-b58a9d5aae24"
      },
      "execution_count": 28,
      "outputs": [
        {
          "output_type": "execute_result",
          "data": {
            "text/plain": [
              "Text(0, 0.5, 'Number of Observations')"
            ]
          },
          "metadata": {},
          "execution_count": 28
        },
        {
          "output_type": "display_data",
          "data": {
            "text/plain": [
              "<Figure size 432x288 with 1 Axes>"
            ],
            "image/png": "[encoded data removed]"
          },
          "metadata": {
            "needs_background": "light"
          }
        }
      ]
    },
    {
      "cell_type": "markdown",
      "source": [
        "###Visualizing the amount for normal and fraud transactions."
      ],
      "metadata": {
        "id": "zbSvPU1LvLf1"
      }
    },
    {
      "cell_type": "code",
      "source": [
        "normal_dataset = dataset[dataset.Class == 0]\n",
        "fraud_dataset = dataset[dataset.Class == 1]\n",
        "#Visualize transactionamounts for normal and fraudulent transactions\n",
        "bins = np.linspace(200, 2500, 100)\n",
        "plt.hist(normal_dataset.Amount, bins=bins, alpha=1, density=True, label='Normal')\n",
        "plt.hist(fraud_dataset.Amount, bins=bins, alpha=0.5, density=True, label='Fraud')\n",
        "plt.legend(loc='upper right')\n",
        "plt.title(\"Transaction amount vs Percentage of transactions\")\n",
        "plt.xlabel(\"Transaction amount (USD)\")\n",
        "plt.ylabel(\"Percentage of transactions\");\n",
        "plt.show()"
      ],
      "metadata": {
        "colab": {
          "base_uri": "https://localhost:8080/",
          "height": 295
        },
        "id": "NjE38tMNtF0L",
        "outputId": "742fd746-c16e-4b86-e9ca-eb01ddd935e2"
      },
      "execution_count": 29,
      "outputs": [
        {
          "output_type": "display_data",
          "data": {
            "text/plain": [
              "<Figure size 432x288 with 1 Axes>"
            ],
            "image/png": "[encoded data removed]"
          },
          "metadata": {
            "needs_background": "light"
          }
        }
      ]
    },
    {
      "cell_type": "markdown",
      "source": [
        "###Create train and test dataset\n",
        "\n",
        "Checking on the dataset"
      ],
      "metadata": {
        "id": "XGhNmZtkvPVY"
      }
    },
    {
      "cell_type": "code",
      "source": [
        "sc=StandardScaler()\n",
        "dataset['Time'] = sc.fit_transform(dataset['Time'].values.reshape(-1, 1))\n",
        "dataset['Amount'] = sc.fit_transform(dataset['Amount'].values.reshape(-1, 1))"
      ],
      "metadata": {
        "id": "8zr3521NtNRC"
      },
      "execution_count": 30,
      "outputs": []
    },
    {
      "cell_type": "markdown",
      "source": [
        "Time and Amount are the columns that are not scaled, so applying StandardScaler to only Amount and Time columns. Normalizing the values between 0 and 1 did not work great for the dataset.\n",
        "The last column in the dataset is our target variable."
      ],
      "metadata": {
        "id": "DkvmG_vzvUHX"
      }
    },
    {
      "cell_type": "code",
      "source": [
        "raw_data = dataset.values\n",
        "# The last element contains if the transaction is normal which is represented by a 0 and if fraud then 1\n",
        "labels = raw_data[:, -1]\n",
        "# The other data points are the electrocadriogram data\n",
        "data = raw_data[:, 0:-1]\n",
        "train_data, test_data, train_labels, test_labels = train_test_split(\n",
        "    data, labels, test_size=0.2, random_state=2021\n",
        ")"
      ],
      "metadata": {
        "id": "4p28J3o_tT9B"
      },
      "execution_count": 31,
      "outputs": []
    },
    {
      "cell_type": "markdown",
      "source": [
        "Normalize the data to have a value between 0 and 1"
      ],
      "metadata": {
        "id": "eB3pUUIWvZuv"
      }
    },
    {
      "cell_type": "code",
      "source": [
        "min_val = tf.reduce_min(train_data)\n",
        "max_val = tf.reduce_max(train_data)\n",
        "train_data = (train_data - min_val) / (max_val - min_val)\n",
        "test_data = (test_data - min_val) / (max_val - min_val)\n",
        "train_data = tf.cast(train_data, tf.float32)\n",
        "test_data = tf.cast(test_data, tf.float32)"
      ],
      "metadata": {
        "id": "Qz1wLt-Btd9y"
      },
      "execution_count": 32,
      "outputs": []
    },
    {
      "cell_type": "markdown",
      "source": [
        "Normal data has a value of 0 in the target variable. Using the target variable to create a normal and fraud dataset."
      ],
      "metadata": {
        "id": "h0vZx4o1vcu1"
      }
    },
    {
      "cell_type": "code",
      "source": [
        "train_labels = train_labels.astype(bool)\n",
        "test_labels = test_labels.astype(bool)\n",
        "#creating normal and fraud datasets\n",
        "normal_train_data = train_data[~train_labels]\n",
        "normal_test_data = test_data[~test_labels]\n",
        "fraud_train_data = train_data[train_labels]\n",
        "fraud_test_data = test_data[test_labels]\n",
        "print(\" No. of records in Fraud Train Data=\",len(fraud_train_data))\n",
        "print(\" No. of records in Normal Train data=\",len(normal_train_data))\n",
        "print(\" No. of records in Fraud Test Data=\",len(fraud_test_data))\n",
        "print(\" No. of records in Normal Test data=\",len(normal_test_data))"
      ],
      "metadata": {
        "colab": {
          "base_uri": "https://localhost:8080/"
        },
        "id": "iQK5_aomth4m",
        "outputId": "ee118a1b-1165-4c72-a6f2-66dacdfb5b9d"
      },
      "execution_count": 33,
      "outputs": [
        {
          "output_type": "stream",
          "name": "stdout",
          "text": [
            " No. of records in Fraud Train Data= 389\n",
            " No. of records in Normal Train data= 227456\n",
            " No. of records in Fraud Test Data= 103\n",
            " No. of records in Normal Test data= 56859\n"
          ]
        }
      ]
    },
    {
      "cell_type": "markdown",
      "source": [
        "###Set the training parameter values"
      ],
      "metadata": {
        "id": "dbNpUGmyvfoM"
      }
    },
    {
      "cell_type": "code",
      "source": [
        "nb_epoch = 50\n",
        "batch_size = 64\n",
        "input_dim = normal_train_data.shape[1] #num of columns, 30\n",
        "encoding_dim = 14\n",
        "hidden_dim_1 = int(encoding_dim / 2) #\n",
        "hidden_dim_2=4  \n",
        "learning_rate = 1e-7"
      ],
      "metadata": {
        "id": "ruT-6FSCr_Xg"
      },
      "execution_count": 34,
      "outputs": []
    },
    {
      "cell_type": "markdown",
      "source": [
        "#Create the Autoencoder"
      ],
      "metadata": {
        "id": "Zbg_plzyvi5r"
      }
    },
    {
      "cell_type": "code",
      "source": [
        "#input Layer\n",
        "input_layer = tf.keras.layers.Input(shape=(input_dim, ))\n",
        "#Encoder\n",
        "encoder = tf.keras.layers.Dense(encoding_dim, activation=\"tanh\",                                activity_regularizer=tf.keras.regularizers.l2(learning_rate))(input_layer)\n",
        "encoder=tf.keras.layers.Dropout(0.2)(encoder)\n",
        "encoder = tf.keras.layers.Dense(hidden_dim_1, activation='relu')(encoder)\n",
        "encoder = tf.keras.layers.Dense(hidden_dim_2, activation=tf.nn.leaky_relu)(encoder)\n",
        "# Decoder\n",
        "decoder = tf.keras.layers.Dense(hidden_dim_1, activation='relu')(encoder)\n",
        "decoder=tf.keras.layers.Dropout(0.2)(decoder)\n",
        "decoder = tf.keras.layers.Dense(encoding_dim, activation='relu')(decoder)\n",
        "decoder = tf.keras.layers.Dense(input_dim, activation='tanh')(decoder)\n",
        "#Autoencoder\n",
        "autoencoder = tf.keras.Model(inputs=input_layer, outputs=decoder)\n",
        "autoencoder.summary()"
      ],
      "metadata": {
        "colab": {
          "base_uri": "https://localhost:8080/"
        },
        "id": "z0Zex21Pr_RH",
        "outputId": "63ebab7f-40c8-490d-9d39-973f757a641f"
      },
      "execution_count": 35,
      "outputs": [
        {
          "output_type": "stream",
          "name": "stdout",
          "text": [
            "Model: \"model_1\"\n",
            "_________________________________________________________________\n",
            " Layer (type)                Output Shape              Param #   \n",
            "=================================================================\n",
            " input_2 (InputLayer)        [(None, 30)]              0         \n",
            "                                                                 \n",
            " dense_6 (Dense)             (None, 14)                434       \n",
            "                                                                 \n",
            " dropout_2 (Dropout)         (None, 14)                0         \n",
            "                                                                 \n",
            " dense_7 (Dense)             (None, 7)                 105       \n",
            "                                                                 \n",
            " dense_8 (Dense)             (None, 4)                 32        \n",
            "                                                                 \n",
            " dense_9 (Dense)             (None, 7)                 35        \n",
            "                                                                 \n",
            " dropout_3 (Dropout)         (None, 7)                 0         \n",
            "                                                                 \n",
            " dense_10 (Dense)            (None, 14)                112       \n",
            "                                                                 \n",
            " dense_11 (Dense)            (None, 30)                450       \n",
            "                                                                 \n",
            "=================================================================\n",
            "Total params: 1,168\n",
            "Trainable params: 1,168\n",
            "Non-trainable params: 0\n",
            "_________________________________________________________________\n"
          ]
        }
      ]
    },
    {
      "cell_type": "markdown",
      "source": [
        "###Define the callbacks for checkpoints and early stopping"
      ],
      "metadata": {
        "id": "bLOkBqOnvml_"
      }
    },
    {
      "cell_type": "code",
      "source": [
        "cp = tf.keras.callbacks.ModelCheckpoint(filepath=\"autoencoder_fraud.h5\",\n",
        "                               mode='min', monitor='val_loss', verbose=2, save_best_only=True)\n",
        "# define our early stopping\n",
        "early_stop = tf.keras.callbacks.EarlyStopping(\n",
        "    monitor='val_loss',\n",
        "    min_delta=0.0001,\n",
        "    patience=10,\n",
        "    verbose=1, \n",
        "    mode='min',\n",
        "    restore_best_weights=True)"
      ],
      "metadata": {
        "id": "P2iQN0ycuIpT"
      },
      "execution_count": 36,
      "outputs": []
    },
    {
      "cell_type": "markdown",
      "source": [
        "###Compile the Autoencoder"
      ],
      "metadata": {
        "id": "NJBzLgPPvrY6"
      }
    },
    {
      "cell_type": "code",
      "source": [
        "autoencoder.compile(metrics=['accuracy'],loss='mean_squared_error',optimizer='adam')"
      ],
      "metadata": {
        "id": "CDYhsPl2uRM3"
      },
      "execution_count": 37,
      "outputs": []
    },
    {
      "cell_type": "markdown",
      "source": [
        "###Train the Autoencoder"
      ],
      "metadata": {
        "id": "dVdNc60cvwi4"
      }
    },
    {
      "cell_type": "code",
      "source": [
        "history = autoencoder.fit(normal_train_data, normal_train_data,\n",
        "                    epochs=nb_epoch,\n",
        "                    batch_size=batch_size,\n",
        "                    shuffle=True,\n",
        "                    validation_data=(test_data, test_data),\n",
        "                    verbose=1,\n",
        "                    callbacks=[cp, early_stop]\n",
        "                    ).history"
      ],
      "metadata": {
        "colab": {
          "base_uri": "https://localhost:8080/"
        },
        "id": "-0jI257YuYfy",
        "outputId": "6f3eb57c-221c-41cf-ced8-aa4a6f93c02b"
      },
      "execution_count": 38,
      "outputs": [
        {
          "output_type": "stream",
          "name": "stdout",
          "text": [
            "Epoch 1/50\n",
            "3551/3554 [============================>.] - ETA: 0s - loss: 0.0037 - accuracy: 0.0636\n",
            "Epoch 1: val_loss improved from inf to 0.00002, saving model to autoencoder_fraud.h5\n",
            "3554/3554 [==============================] - 6s 2ms/step - loss: 0.0037 - accuracy: 0.0638 - val_loss: 2.0029e-05 - val_accuracy: 0.2168\n",
            "Epoch 2/50\n",
            "3539/3554 [============================>.] - ETA: 0s - loss: 1.9466e-05 - accuracy: 0.0720\n",
            "Epoch 2: val_loss did not improve from 0.00002\n",
            "3554/3554 [==============================] - 6s 2ms/step - loss: 1.9457e-05 - accuracy: 0.0720 - val_loss: 2.0122e-05 - val_accuracy: 0.0420\n",
            "Epoch 3/50\n",
            "3541/3554 [============================>.] - ETA: 0s - loss: 1.9574e-05 - accuracy: 0.0648\n",
            "Epoch 3: val_loss did not improve from 0.00002\n",
            "3554/3554 [==============================] - 6s 2ms/step - loss: 1.9569e-05 - accuracy: 0.0646 - val_loss: 2.0078e-05 - val_accuracy: 0.0596\n",
            "Epoch 4/50\n",
            "3547/3554 [============================>.] - ETA: 0s - loss: 1.9633e-05 - accuracy: 0.0572\n",
            "Epoch 4: val_loss did not improve from 0.00002\n",
            "3554/3554 [==============================] - 6s 2ms/step - loss: 1.9629e-05 - accuracy: 0.0572 - val_loss: 2.0132e-05 - val_accuracy: 0.0078\n",
            "Epoch 5/50\n",
            "3545/3554 [============================>.] - ETA: 0s - loss: 1.9416e-05 - accuracy: 0.0932\n",
            "Epoch 5: val_loss improved from 0.00002 to 0.00002, saving model to autoencoder_fraud.h5\n",
            "3554/3554 [==============================] - 6s 2ms/step - loss: 1.9415e-05 - accuracy: 0.0934 - val_loss: 1.9209e-05 - val_accuracy: 0.2613\n",
            "Epoch 6/50\n",
            "3549/3554 [============================>.] - ETA: 0s - loss: 1.8742e-05 - accuracy: 0.2139\n",
            "Epoch 6: val_loss improved from 0.00002 to 0.00002, saving model to autoencoder_fraud.h5\n",
            "3554/3554 [==============================] - 6s 2ms/step - loss: 1.8739e-05 - accuracy: 0.2138 - val_loss: 1.8804e-05 - val_accuracy: 0.2166\n",
            "Epoch 7/50\n",
            "3553/3554 [============================>.] - ETA: 0s - loss: 1.8652e-05 - accuracy: 0.2282\n",
            "Epoch 7: val_loss improved from 0.00002 to 0.00002, saving model to autoencoder_fraud.h5\n",
            "3554/3554 [==============================] - 6s 2ms/step - loss: 1.8651e-05 - accuracy: 0.2282 - val_loss: 1.8779e-05 - val_accuracy: 0.2178\n",
            "Epoch 8/50\n",
            "3554/3554 [==============================] - ETA: 0s - loss: 1.8596e-05 - accuracy: 0.2356\n",
            "Epoch 8: val_loss did not improve from 0.00002\n",
            "3554/3554 [==============================] - 6s 2ms/step - loss: 1.8596e-05 - accuracy: 0.2356 - val_loss: 1.8810e-05 - val_accuracy: 0.2187\n",
            "Epoch 9/50\n",
            "3536/3554 [============================>.] - ETA: 0s - loss: 1.8541e-05 - accuracy: 0.2429\n",
            "Epoch 9: val_loss improved from 0.00002 to 0.00002, saving model to autoencoder_fraud.h5\n",
            "3554/3554 [==============================] - 6s 2ms/step - loss: 1.8544e-05 - accuracy: 0.2428 - val_loss: 1.8678e-05 - val_accuracy: 0.2884\n",
            "Epoch 10/50\n",
            "3543/3554 [============================>.] - ETA: 0s - loss: 1.8511e-05 - accuracy: 0.2471\n",
            "Epoch 10: val_loss did not improve from 0.00002\n",
            "3554/3554 [==============================] - 6s 2ms/step - loss: 1.8501e-05 - accuracy: 0.2472 - val_loss: 1.8699e-05 - val_accuracy: 0.3340\n",
            "Epoch 11/50\n",
            "3527/3554 [============================>.] - ETA: 0s - loss: 1.8417e-05 - accuracy: 0.2534\n",
            "Epoch 11: val_loss did not improve from 0.00002\n",
            "Restoring model weights from the end of the best epoch: 1.\n",
            "3554/3554 [==============================] - 6s 2ms/step - loss: 1.8446e-05 - accuracy: 0.2531 - val_loss: 1.9020e-05 - val_accuracy: 0.3323\n",
            "Epoch 11: early stopping\n"
          ]
        }
      ]
    },
    {
      "cell_type": "markdown",
      "source": [
        "###Plot training and test loss"
      ],
      "metadata": {
        "id": "_FBofXFAv0RD"
      }
    },
    {
      "cell_type": "code",
      "source": [
        "plt.plot(history['loss'], linewidth=2, label='Train')\n",
        "plt.plot(history['val_loss'], linewidth=2, label='Test')\n",
        "plt.legend(loc='upper right')\n",
        "plt.title('Model loss')\n",
        "plt.ylabel('Loss')\n",
        "plt.xlabel('Epoch')\n",
        "#plt.ylim(ymin=0.70,ymax=1)\n",
        "plt.show()"
      ],
      "metadata": {
        "colab": {
          "base_uri": "https://localhost:8080/",
          "height": 295
        },
        "id": "6EVBxU1runQe",
        "outputId": "0c8ef2cc-0319-4b6e-e554-9d6e0c4d5476"
      },
      "execution_count": 39,
      "outputs": [
        {
          "output_type": "display_data",
          "data": {
            "text/plain": [
              "<Figure size 432x288 with 1 Axes>"
            ],
            "image/png": "[encoded data removed]"
          },
          "metadata": {
            "needs_background": "light"
          }
        }
      ]
    },
    {
      "cell_type": "markdown",
      "source": [
        "###Detect Anomalies on test data"
      ],
      "metadata": {
        "id": "GOmRIxxDv32S"
      }
    },
    {
      "cell_type": "markdown",
      "source": [
        "To calculate the reconstruction loss on test data, predict the test data and calculate the mean square error between the test data and the reconstructed test data."
      ],
      "metadata": {
        "id": "xgNdDOG9v5Tw"
      }
    },
    {
      "cell_type": "code",
      "source": [
        "test_x_predictions = autoencoder.predict(test_data)\n",
        "mse = np.mean(np.power(test_data - test_x_predictions, 2), axis=1)\n",
        "error_df = pd.DataFrame({'Reconstruction_error': mse,\n",
        "                        'True_class': test_labels})"
      ],
      "metadata": {
        "colab": {
          "base_uri": "https://localhost:8080/"
        },
        "id": "gQfnAXF5unNB",
        "outputId": "1c942cc0-bc88-4dd4-f479-210860df5b5c"
      },
      "execution_count": 40,
      "outputs": [
        {
          "output_type": "stream",
          "name": "stdout",
          "text": [
            "1781/1781 [==============================] - 1s 798us/step\n"
          ]
        }
      ]
    },
    {
      "cell_type": "markdown",
      "source": [
        "Plotting the test data points and their respective reconstruction error sets a threshold value to visualize if the threshold value needs to be adjusted.\n",
        "Detect anomalies as points where the reconstruction loss is greater than a fixed threshold. Here we see that a value of 52 for the threshold will be good."
      ],
      "metadata": {
        "id": "_4L9Kl0Zv_Vu"
      }
    },
    {
      "cell_type": "code",
      "source": [
        "threshold_fixed = 50\n",
        "groups = error_df.groupby('True_class')\n",
        "fig, ax = plt.subplots()\n",
        "for name, group in groups:\n",
        "    ax.plot(group.index, group.Reconstruction_error, marker='o', ms=3.5, linestyle='',\n",
        "            label= \"Fraud\" if name == 1 else \"Normal\")\n",
        "ax.hlines(threshold_fixed, ax.get_xlim()[0], ax.get_xlim()[1], colors=\"r\", zorder=100, label='Threshold')\n",
        "ax.legend()\n",
        "plt.title(\"Reconstruction error for normal and fraud data\")\n",
        "plt.ylabel(\"Reconstruction error\")\n",
        "plt.xlabel(\"Data point index\")\n",
        "plt.show();"
      ],
      "metadata": {
        "colab": {
          "base_uri": "https://localhost:8080/",
          "height": 295
        },
        "id": "t71DEsaSum-C",
        "outputId": "354f8d42-3c73-4340-8499-76932e109c75"
      },
      "execution_count": 41,
      "outputs": [
        {
          "output_type": "display_data",
          "data": {
            "text/plain": [
              "<Figure size 432x288 with 1 Axes>"
            ],
            "image/png": "[encoded data removed]"
          },
          "metadata": {
            "needs_background": "light"
          }
        }
      ]
    },
    {
      "cell_type": "code",
      "source": [
        "threshold_fixed =52\n",
        "pred_y = [1 if e > threshold_fixed else 0 for e in error_df.Reconstruction_error.values]\n",
        "error_df['pred'] =pred_y\n",
        "conf_matrix = confusion_matrix(error_df.True_class, pred_y)\n",
        "plt.figure(figsize=(4, 4))\n",
        "sns.heatmap(conf_matrix, xticklabels=LABELS, yticklabels=LABELS, annot=True, fmt=\"d\");\n",
        "plt.title(\"Confusion matrix\")\n",
        "plt.ylabel('True class')\n",
        "plt.xlabel('Predicted class')\n",
        "plt.show()\n",
        "# print Accuracy, precision and recall\n",
        "print(\" Accuracy: \",accuracy_score(error_df['True_class'], error_df['pred']))\n",
        "print(\" Recall: \",recall_score(error_df['True_class'], error_df['pred']))\n",
        "print(\" Precision: \",precision_score(error_df['True_class'], error_df['pred']))"
      ],
      "metadata": {
        "colab": {
          "base_uri": "https://localhost:8080/",
          "height": 405
        },
        "id": "tq1QLRQ326NN",
        "outputId": "80614d35-7359-4b46-90e0-24dc0eb25278"
      },
      "execution_count": 43,
      "outputs": [
        {
          "output_type": "display_data",
          "data": {
            "text/plain": [
              "<Figure size 288x288 with 2 Axes>"
            ],
            "image/png": "[encoded data removed]"
          },
          "metadata": {
            "needs_background": "light"
          }
        },
        {
          "output_type": "stream",
          "name": "stdout",
          "text": [
            " Accuracy:  0.9981917769741231\n",
            " Recall:  0.0\n",
            " Precision:  0.0\n"
          ]
        },
        {
          "output_type": "stream",
          "name": "stderr",
          "text": [
            "/usr/local/lib/python3.7/dist-packages/sklearn/metrics/_classification.py:1318: UndefinedMetricWarning: Precision is ill-defined and being set to 0.0 due to no predicted samples. Use `zero_division` parameter to control this behavior.\n",
            "  _warn_prf(average, modifier, msg_start, len(result))\n"
          ]
        }
      ]
    },
    {
      "cell_type": "code",
      "source": [
        "# print Accuracy, precision and recall\n",
        "print(\" Accuracy: \",accuracy_score(error_df['True_class'], error_df['pred']))\n",
        "print(\" Recall: \",recall_score(error_df['True_class'], error_df['pred']))\n",
        "print(\" Precision: \",precision_score(error_df['True_class'], error_df['pred']))"
      ],
      "metadata": {
        "colab": {
          "base_uri": "https://localhost:8080/"
        },
        "id": "16yPtt2P3DpY",
        "outputId": "2751e888-452a-4b6c-8f9d-2e5dec5714c8"
      },
      "execution_count": 44,
      "outputs": [
        {
          "output_type": "stream",
          "name": "stdout",
          "text": [
            " Accuracy:  0.9981917769741231\n",
            " Recall:  0.0\n",
            " Precision:  0.0\n"
          ]
        },
        {
          "output_type": "stream",
          "name": "stderr",
          "text": [
            "/usr/local/lib/python3.7/dist-packages/sklearn/metrics/_classification.py:1318: UndefinedMetricWarning: Precision is ill-defined and being set to 0.0 due to no predicted samples. Use `zero_division` parameter to control this behavior.\n",
            "  _warn_prf(average, modifier, msg_start, len(result))\n"
          ]
        }
      ]
    }
  ]
}