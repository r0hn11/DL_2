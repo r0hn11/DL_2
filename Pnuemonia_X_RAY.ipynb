{
  "nbformat": 4,
  "nbformat_minor": 0,
  "metadata": {
    "colab": {
      "provenance": []
    },
    "kernelspec": {
      "name": "python3",
      "display_name": "Python 3"
    },
    "language_info": {
      "name": "python"
    }
  },
  "cells": [
    {
      "cell_type": "code",
      "source": [],
      "metadata": {
        "id": "DPZmTGAxQHBF"
      },
      "execution_count": null,
      "outputs": []
    },
    {
      "cell_type": "markdown",
      "source": [
        "https://www.kaggle.com/code/gcdatkin/pneumonia-x-ray-classification-mobilenetv2/notebook"
      ],
      "metadata": {
        "id": "3KS79eardXQ8"
      }
    },
    {
      "cell_type": "code",
      "source": [],
      "metadata": {
        "id": "AznfZzrJeDbq"
      },
      "execution_count": null,
      "outputs": []
    },
    {
      "cell_type": "code",
      "source": [],
      "metadata": {
        "id": "BDPcTsv2eFdy"
      },
      "execution_count": null,
      "outputs": []
    },
    {
      "cell_type": "markdown",
      "source": [
        "https://www.youtube.com/watch?v=xgRxO9iqITI"
      ],
      "metadata": {
        "id": "W6F8zyleeP4P"
      }
    },
    {
      "cell_type": "code",
      "source": [],
      "metadata": {
        "id": "k_V_iQkodxUl"
      },
      "execution_count": null,
      "outputs": []
    }
  ]
}