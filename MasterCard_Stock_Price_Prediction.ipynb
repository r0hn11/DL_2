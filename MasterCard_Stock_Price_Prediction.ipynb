{
  "nbformat": 4,
  "nbformat_minor": 0,
  "metadata": {
    "colab": {
      "provenance": []
    },
    "kernelspec": {
      "name": "python3",
      "display_name": "Python 3"
    },
    "language_info": {
      "name": "python"
    }
  },
  "cells": [
    {
      "cell_type": "markdown",
      "source": [
        "Importing the libraries"
      ],
      "metadata": {
        "id": "5IZ0MuG-i5ij"
      }
    },
    {
      "cell_type": "code",
      "execution_count": 1,
      "metadata": {
        "id": "T0b0uesWietd"
      },
      "outputs": [],
      "source": [
        "import numpy as np\n",
        "import pandas as pd\n",
        "import matplotlib.pyplot as plt"
      ]
    },
    {
      "cell_type": "code",
      "source": [
        "from sklearn.preprocessing import MinMaxScaler\n",
        "from sklearn.metrics import mean_squared_error"
      ],
      "metadata": {
        "id": "fb4fBrRCi9A3"
      },
      "execution_count": 2,
      "outputs": []
    },
    {
      "cell_type": "code",
      "source": [
        "from tensorflow.keras.models import Sequential\n",
        "from tensorflow.keras.layers import Dense, LSTM, Dropout, GRU, Bidirectional\n",
        "from tensorflow.keras.optimizers import SGD\n",
        "from tensorflow.random import set_seed"
      ],
      "metadata": {
        "id": "gJiYFsYZjQXO"
      },
      "execution_count": 3,
      "outputs": []
    },
    {
      "cell_type": "code",
      "source": [
        "set_seed(455)\n",
        "np.random.seed(455)"
      ],
      "metadata": {
        "id": "CqQCTr_1jSzY"
      },
      "execution_count": 5,
      "outputs": []
    },
    {
      "cell_type": "markdown",
      "source": [
        "We import the MasterCard dataset by adding the Date column to the index and converting it to DateTime format.Drop irrelevant columns from the dataset.We are interested in stock prices, volume, and date.\n",
        "The dataset has Date as index and Open, High, Low, Close, and Volume as columns. "
      ],
      "metadata": {
        "id": "idS7CDt9jtdl"
      }
    },
    {
      "cell_type": "code",
      "source": [
        "dataset = pd.read_csv(\"/content/Mastercard_stock_history.csv\", index_col=\"Date\", parse_dates=[\"Date\"]\n",
        ").drop([\"Dividends\", \"Stock Splits\"], axis=1)\n",
        "print(dataset.head())"
      ],
      "metadata": {
        "colab": {
          "base_uri": "https://localhost:8080/"
        },
        "id": "TbI_ULF5jWte",
        "outputId": "c4373fdb-2f8d-4747-f492-c2bbdeeca455"
      },
      "execution_count": 6,
      "outputs": [
        {
          "output_type": "stream",
          "name": "stdout",
          "text": [
            "                Open      High       Low     Close     Volume\n",
            "Date                                                         \n",
            "2006-05-25  3.748967  4.283869  3.739664  4.279217  395343000\n",
            "2006-05-26  4.307126  4.348058  4.103398  4.179680  103044000\n",
            "2006-05-30  4.183400  4.184330  3.986184  4.093164   49898000\n",
            "2006-05-31  4.125723  4.219679  4.125723  4.180608   30002000\n",
            "2006-06-01  4.179678  4.474572  4.176887  4.419686   62344000\n"
          ]
        }
      ]
    },
    {
      "cell_type": "markdown",
      "source": [
        "The .describe() function helps us analyze the data in depth. We take High column as we are going to use it to train the model. We can also choose Close or Open columns for a model feature, but High makes more sense as it provides us information of how high the values of the share went on the given day.The minimum stock price is $4.10, and the highest is $400.5. The mean is at $105.9 and the standard deviation $107.3, which means that stocks have high variance."
      ],
      "metadata": {
        "id": "0W9R2PaAlDnn"
      }
    },
    {
      "cell_type": "code",
      "source": [
        "print(dataset.describe())"
      ],
      "metadata": {
        "colab": {
          "base_uri": "https://localhost:8080/"
        },
        "id": "g0ozeXSrlQ10",
        "outputId": "f282b3b0-407b-41ef-918d-7653f5885035"
      },
      "execution_count": 7,
      "outputs": [
        {
          "output_type": "stream",
          "name": "stdout",
          "text": [
            "              Open         High          Low        Close        Volume\n",
            "count  3872.000000  3872.000000  3872.000000  3872.000000  3.872000e+03\n",
            "mean    104.896814   105.956054   103.769349   104.882714  1.232250e+07\n",
            "std     106.245511   107.303589   105.050064   106.168693  1.759665e+07\n",
            "min       3.748967     4.102467     3.739664     4.083861  6.411000e+05\n",
            "25%      22.347203    22.637997    22.034458    22.300391  3.529475e+06\n",
            "50%      70.810079    71.375896    70.224002    70.856083  5.891750e+06\n",
            "75%     147.688448   148.645373   146.822013   147.688438  1.319775e+07\n",
            "max     392.653890   400.521479   389.747812   394.685730  3.953430e+08\n"
          ]
        }
      ]
    },
    {
      "cell_type": "markdown",
      "source": [
        "By using .isna().sum() we can determine the missing values in the dataset. It seems that the dataset has no missing values."
      ],
      "metadata": {
        "id": "n_rdIAu8l-G-"
      }
    },
    {
      "cell_type": "code",
      "source": [
        "dataset.isna().sum()"
      ],
      "metadata": {
        "colab": {
          "base_uri": "https://localhost:8080/"
        },
        "id": "fb5Aaa5Clzrp",
        "outputId": "2bcc0801-84a1-4c4a-8658-e4803dc230ec"
      },
      "execution_count": 8,
      "outputs": [
        {
          "output_type": "execute_result",
          "data": {
            "text/plain": [
              "Open      0\n",
              "High      0\n",
              "Low       0\n",
              "Close     0\n",
              "Volume    0\n",
              "dtype: int64"
            ]
          },
          "metadata": {},
          "execution_count": 8
        }
      ]
    },
    {
      "cell_type": "markdown",
      "source": [
        "The train_test_plot function takes three arguments: dataset, tstart, and tend and plots a simple line graph. The tstart and tend are time limits in years. We can change these arguments to analyze specific periods. The line plot is divided into two parts: train and test. This will allow us to decide the distribution of the test dataset.\n",
        "MasterCard stock prices have been on the rise since 2016. It had a dip in the first quarter of 2020 but it gained a stable position in the latter half of the year. Our test dataset consists of one year, from 2021 to 2022, and the rest of the dataset is used for training."
      ],
      "metadata": {
        "id": "ODRdYyQzmZIK"
      }
    },
    {
      "cell_type": "code",
      "source": [
        "tstart = 2016\n",
        "tend = 2020\n",
        "\n",
        "def train_test_plot(dataset, tstart, tend):\n",
        "    dataset.loc[f\"{tstart}\":f\"{tend}\", \"High\"].plot(figsize=(16, 4), legend=True)\n",
        "    dataset.loc[f\"{tend+1}\":, \"High\"].plot(figsize=(16, 4), legend=True)\n",
        "    plt.legend([f\"Train (Before {tend+1})\", f\"Test ({tend+1} and beyond)\"])\n",
        "    plt.title(\"MasterCard stock price\")\n",
        "    plt.show()\n",
        "\n",
        "train_test_plot(dataset,tstart,tend)\n"
      ],
      "metadata": {
        "colab": {
          "base_uri": "https://localhost:8080/",
          "height": 305
        },
        "id": "jIZpUa01mAit",
        "outputId": "1b4bc2ca-7dfb-4dd6-a19b-b30674a537e2"
      },
      "execution_count": 9,
      "outputs": [
        {
          "output_type": "display_data",
          "data": {
            "text/plain": [
              "<Figure size 1152x288 with 1 Axes>"
            ],
            "image/png": "[encoded data removed]"
          },
          "metadata": {
            "needs_background": "light"
          }
        }
      ]
    },
    {
      "cell_type": "markdown",
      "source": [
        "#Data Preprocessing"
      ],
      "metadata": {
        "id": "OQvSPsMCmhKu"
      }
    },
    {
      "cell_type": "markdown",
      "source": [
        "The train_test_split function divides the dataset into two subsets: training_set and test_set."
      ],
      "metadata": {
        "id": "saZRnyJ4mj4N"
      }
    },
    {
      "cell_type": "code",
      "source": [
        "def train_test_split(dataset, tstart, tend):\n",
        "    train = dataset.loc[f\"{tstart}\":f\"{tend}\", \"High\"].values\n",
        "    test = dataset.loc[f\"{tend+1}\":, \"High\"].values\n",
        "    return train, test\n",
        "training_set, test_set = train_test_split(dataset, tstart, tend)\n"
      ],
      "metadata": {
        "id": "oqJVTlEvmjJE"
      },
      "execution_count": 10,
      "outputs": []
    },
    {
      "cell_type": "markdown",
      "source": [
        "We use the MinMaxScaler function to standardize our training set that avoids the outliers or anomalies.Can try using StandardScaler to normalize your data and improve model performance."
      ],
      "metadata": {
        "id": "_7GlnOM0msf0"
      }
    },
    {
      "cell_type": "code",
      "source": [
        "sc = MinMaxScaler(feature_range=(0, 1))\n",
        "training_set = training_set.reshape(-1, 1)\n",
        "training_set_scaled = sc.fit_transform(training_set)"
      ],
      "metadata": {
        "id": "MDJMVVL_m2a5"
      },
      "execution_count": 11,
      "outputs": []
    },
    {
      "cell_type": "markdown",
      "source": [
        "The split_sequence function uses a training dataset and converts it into inputs (X_train) and outputs (y_train).In this project, we are using 60 n_steps. We can also reduce or increase the number of steps to optimize model performance."
      ],
      "metadata": {
        "id": "dx8MA3DjnBTy"
      }
    },
    {
      "cell_type": "code",
      "source": [
        "def split_sequence(sequence, n_steps):\n",
        "    X, y = list(), list()\n",
        "    for i in range(len(sequence)):\n",
        "        end_ix = i + n_steps\n",
        "        if end_ix > len(sequence) - 1:\n",
        "            break\n",
        "        seq_x, seq_y = sequence[i:end_ix], sequence[end_ix]\n",
        "        X.append(seq_x)\n",
        "        y.append(seq_y)\n",
        "    return np.array(X), np.array(y)\n",
        "\n",
        "\n",
        "n_steps = 60\n",
        "features = 1\n",
        "# split into samples\n",
        "X_train, y_train = split_sequence(training_set_scaled, n_steps)\n"
      ],
      "metadata": {
        "id": "QLwjstY-nGja"
      },
      "execution_count": 12,
      "outputs": []
    },
    {
      "cell_type": "markdown",
      "source": [
        "We are working with univariate series, so the number of features is one, and we need to reshape the X_train to fit on the LSTM model. The X_train has [samples, timesteps], and we will reshape it to [samples, timesteps, features]."
      ],
      "metadata": {
        "id": "vcQ_3v-2nNyU"
      }
    },
    {
      "cell_type": "code",
      "source": [
        "# Reshaping X_train for model\n",
        "X_train = X_train.reshape(X_train.shape[0],X_train.shape[1],features)"
      ],
      "metadata": {
        "id": "mHU5IRfQnP4m"
      },
      "execution_count": 13,
      "outputs": []
    },
    {
      "cell_type": "markdown",
      "source": [
        "#LSTM Model"
      ],
      "metadata": {
        "id": "7FRt1OUFnbiQ"
      }
    },
    {
      "cell_type": "markdown",
      "source": [
        "The model consists of a single hidden layer of LSTM and an output layer.We will set LSTM units to 125, tanh as activation, and set input size."
      ],
      "metadata": {
        "id": "vlmI-ViXndLq"
      }
    },
    {
      "cell_type": "code",
      "source": [
        "# The LSTM architecture\n",
        "model_lstm = Sequential()\n",
        "model_lstm.add(LSTM(units=125, activation=\"tanh\", input_shape=(n_steps, features)))\n",
        "model_lstm.add(Dense(units=1))\n",
        "# Compiling the model\n",
        "model_lstm.compile(optimizer=\"RMSprop\", loss=\"mse\")\n",
        "\n",
        "model_lstm.summary()"
      ],
      "metadata": {
        "colab": {
          "base_uri": "https://localhost:8080/"
        },
        "id": "Tx9V8VOQnvZK",
        "outputId": "828fcb7d-68cc-41c5-b087-50ebce4ee992"
      },
      "execution_count": 14,
      "outputs": [
        {
          "output_type": "stream",
          "name": "stdout",
          "text": [
            "Model: \"sequential\"\n",
            "_________________________________________________________________\n",
            " Layer (type)                Output Shape              Param #   \n",
            "=================================================================\n",
            " lstm (LSTM)                 (None, 125)               63500     \n",
            "                                                                 \n",
            " dense (Dense)               (None, 1)                 126       \n",
            "                                                                 \n",
            "=================================================================\n",
            "Total params: 63,626\n",
            "Trainable params: 63,626\n",
            "Non-trainable params: 0\n",
            "_________________________________________________________________\n"
          ]
        }
      ]
    },
    {
      "cell_type": "markdown",
      "source": [
        "The model will train on 50 epochs with 32 batch sizes. You can change the hyperparameters to reduce training time or improve the results. The model training was successfully completed with the best possible loss."
      ],
      "metadata": {
        "id": "RBcqAZMbn7Jr"
      }
    },
    {
      "cell_type": "code",
      "source": [
        "model_lstm.fit(X_train, y_train, epochs=50, batch_size=32)"
      ],
      "metadata": {
        "colab": {
          "base_uri": "https://localhost:8080/"
        },
        "id": "EKpZNLZcn8Aa",
        "outputId": "b7ea6fec-8f9c-4464-e83e-d503090fcd40"
      },
      "execution_count": 15,
      "outputs": [
        {
          "output_type": "stream",
          "name": "stdout",
          "text": [
            "Epoch 1/50\n",
            "38/38 [==============================] - 5s 63ms/step - loss: 0.0142\n",
            "Epoch 2/50\n",
            "38/38 [==============================] - 2s 62ms/step - loss: 0.0027\n",
            "Epoch 3/50\n",
            "38/38 [==============================] - 2s 63ms/step - loss: 0.0020\n",
            "Epoch 4/50\n",
            "38/38 [==============================] - 2s 63ms/step - loss: 0.0019\n",
            "Epoch 5/50\n",
            "38/38 [==============================] - 2s 62ms/step - loss: 0.0014\n",
            "Epoch 6/50\n",
            "38/38 [==============================] - 2s 63ms/step - loss: 0.0015\n",
            "Epoch 7/50\n",
            "38/38 [==============================] - 4s 95ms/step - loss: 9.8822e-04\n",
            "Epoch 8/50\n",
            "38/38 [==============================] - 2s 62ms/step - loss: 0.0012\n",
            "Epoch 9/50\n",
            "38/38 [==============================] - 2s 62ms/step - loss: 9.5300e-04\n",
            "Epoch 10/50\n",
            "38/38 [==============================] - 2s 63ms/step - loss: 0.0011\n",
            "Epoch 11/50\n",
            "38/38 [==============================] - 2s 63ms/step - loss: 8.7355e-04\n",
            "Epoch 12/50\n",
            "38/38 [==============================] - 2s 63ms/step - loss: 8.3610e-04\n",
            "Epoch 13/50\n",
            "38/38 [==============================] - 2s 63ms/step - loss: 8.8686e-04\n",
            "Epoch 14/50\n",
            "38/38 [==============================] - 2s 63ms/step - loss: 7.0214e-04\n",
            "Epoch 15/50\n",
            "38/38 [==============================] - 2s 63ms/step - loss: 7.5224e-04\n",
            "Epoch 16/50\n",
            "38/38 [==============================] - 2s 63ms/step - loss: 6.7627e-04\n",
            "Epoch 17/50\n",
            "38/38 [==============================] - 2s 62ms/step - loss: 6.7785e-04\n",
            "Epoch 18/50\n",
            "38/38 [==============================] - 2s 62ms/step - loss: 5.6517e-04\n",
            "Epoch 19/50\n",
            "38/38 [==============================] - 2s 63ms/step - loss: 6.5545e-04\n",
            "Epoch 20/50\n",
            "38/38 [==============================] - 2s 63ms/step - loss: 5.9984e-04\n",
            "Epoch 21/50\n",
            "38/38 [==============================] - 2s 63ms/step - loss: 6.4692e-04\n",
            "Epoch 22/50\n",
            "38/38 [==============================] - 2s 63ms/step - loss: 5.3555e-04\n",
            "Epoch 23/50\n",
            "38/38 [==============================] - 2s 62ms/step - loss: 5.8727e-04\n",
            "Epoch 24/50\n",
            "38/38 [==============================] - 2s 62ms/step - loss: 5.4153e-04\n",
            "Epoch 25/50\n",
            "38/38 [==============================] - 2s 63ms/step - loss: 5.5752e-04\n",
            "Epoch 26/50\n",
            "38/38 [==============================] - 2s 62ms/step - loss: 4.8303e-04\n",
            "Epoch 27/50\n",
            "38/38 [==============================] - 2s 62ms/step - loss: 5.0745e-04\n",
            "Epoch 28/50\n",
            "38/38 [==============================] - 2s 63ms/step - loss: 5.0596e-04\n",
            "Epoch 29/50\n",
            "38/38 [==============================] - 2s 64ms/step - loss: 4.8378e-04\n",
            "Epoch 30/50\n",
            "38/38 [==============================] - 2s 63ms/step - loss: 5.0761e-04\n",
            "Epoch 31/50\n",
            "38/38 [==============================] - 2s 63ms/step - loss: 4.3706e-04\n",
            "Epoch 32/50\n",
            "38/38 [==============================] - 2s 62ms/step - loss: 4.6047e-04\n",
            "Epoch 33/50\n",
            "38/38 [==============================] - 2s 62ms/step - loss: 4.7485e-04\n",
            "Epoch 34/50\n",
            "38/38 [==============================] - 2s 63ms/step - loss: 4.5556e-04\n",
            "Epoch 35/50\n",
            "38/38 [==============================] - 2s 62ms/step - loss: 4.3035e-04\n",
            "Epoch 36/50\n",
            "38/38 [==============================] - 3s 86ms/step - loss: 4.2976e-04\n",
            "Epoch 37/50\n",
            "38/38 [==============================] - 3s 73ms/step - loss: 4.4114e-04\n",
            "Epoch 38/50\n",
            "38/38 [==============================] - 2s 64ms/step - loss: 4.4011e-04\n",
            "Epoch 39/50\n",
            "38/38 [==============================] - 2s 63ms/step - loss: 3.9895e-04\n",
            "Epoch 40/50\n",
            "38/38 [==============================] - 2s 62ms/step - loss: 4.0389e-04\n",
            "Epoch 41/50\n",
            "38/38 [==============================] - 2s 63ms/step - loss: 4.2157e-04\n",
            "Epoch 42/50\n",
            "38/38 [==============================] - 2s 64ms/step - loss: 4.1014e-04\n",
            "Epoch 43/50\n",
            "38/38 [==============================] - 2s 62ms/step - loss: 4.7011e-04\n",
            "Epoch 44/50\n",
            "38/38 [==============================] - 2s 63ms/step - loss: 3.1943e-04\n",
            "Epoch 45/50\n",
            "38/38 [==============================] - 2s 63ms/step - loss: 3.8408e-04\n",
            "Epoch 46/50\n",
            "38/38 [==============================] - 2s 64ms/step - loss: 4.1016e-04\n",
            "Epoch 47/50\n",
            "38/38 [==============================] - 2s 64ms/step - loss: 4.1167e-04\n",
            "Epoch 48/50\n",
            "38/38 [==============================] - 2s 62ms/step - loss: 3.0141e-04\n",
            "Epoch 49/50\n",
            "38/38 [==============================] - 2s 63ms/step - loss: 3.9347e-04\n",
            "Epoch 50/50\n",
            "38/38 [==============================] - 2s 64ms/step - loss: 3.5078e-04\n"
          ]
        },
        {
          "output_type": "execute_result",
          "data": {
            "text/plain": [
              "<keras.callbacks.History at 0x7fc3099abc50>"
            ]
          },
          "metadata": {},
          "execution_count": 15
        }
      ]
    },
    {
      "cell_type": "markdown",
      "source": [
        "We repeat preprocessing and normalize the test set. First of all we will transform then split the dataset into samples, reshape it, predict, and inverse transform the predictions into standard form."
      ],
      "metadata": {
        "id": "Cd8blpy2ogPA"
      }
    },
    {
      "cell_type": "code",
      "source": [
        "dataset_total = dataset.loc[:,\"High\"]\n",
        "inputs = dataset_total[len(dataset_total) - len(test_set) - n_steps :].values\n",
        "inputs = inputs.reshape(-1, 1)\n",
        "#scaling\n",
        "inputs = sc.transform(inputs)\n",
        "\n",
        "# Split into samples\n",
        "X_test, y_test = split_sequence(inputs, n_steps)\n",
        "# reshape\n",
        "X_test = X_test.reshape(X_test.shape[0], X_test.shape[1], features)\n",
        "#prediction\n",
        "predicted_stock_price = model_lstm.predict(X_test)\n",
        "#inverse transform the values\n",
        "predicted_stock_price = sc.inverse_transform(predicted_stock_price)"
      ],
      "metadata": {
        "colab": {
          "base_uri": "https://localhost:8080/"
        },
        "id": "WIgqsbdin-g7",
        "outputId": "f367502c-4be0-4bd2-aac3-e485a99d57e6"
      },
      "execution_count": 16,
      "outputs": [
        {
          "output_type": "stream",
          "name": "stdout",
          "text": [
            "7/7 [==============================] - 1s 25ms/step\n"
          ]
        }
      ]
    },
    {
      "cell_type": "markdown",
      "source": [
        "The plot_predictions function will plot a real versus predicted line chart. This will help us visualize the difference between actual and predicted values.\n",
        "\n",
        "The return_rmse function takes in test and predicted arguments and prints out the root mean square error (rmse) metric."
      ],
      "metadata": {
        "id": "sJqssSUCopMp"
      }
    },
    {
      "cell_type": "code",
      "source": [
        "def plot_predictions(test, predicted):\n",
        "    plt.plot(test, color=\"gray\", label=\"Real\")\n",
        "    plt.plot(predicted, color=\"red\", label=\"Predicted\")\n",
        "    plt.title(\"MasterCard Stock Price Prediction\")\n",
        "    plt.xlabel(\"Time\")\n",
        "    plt.ylabel(\"MasterCard Stock Price\")\n",
        "    plt.legend()\n",
        "    plt.show()\n",
        "\n",
        "\n",
        "def return_rmse(test, predicted):\n",
        "    rmse = np.sqrt(mean_squared_error(test, predicted))\n",
        "    print(\"The root mean squared error is {:.2f}.\".format(rmse))"
      ],
      "metadata": {
        "id": "hWSXID7NokRI"
      },
      "execution_count": 17,
      "outputs": []
    },
    {
      "cell_type": "code",
      "source": [
        "plot_predictions(test_set,predicted_stock_price)"
      ],
      "metadata": {
        "colab": {
          "base_uri": "https://localhost:8080/",
          "height": 295
        },
        "id": "Ef8SvV6PosDB",
        "outputId": "ca1fa70f-4879-4bbf-d2df-b2c2eb14dd75"
      },
      "execution_count": 18,
      "outputs": [
        {
          "output_type": "display_data",
          "data": {
            "text/plain": [
              "<Figure size 432x288 with 1 Axes>"
            ],
            "image/png": "[encoded data removed]"
          },
          "metadata": {
            "needs_background": "light"
          }
        }
      ]
    },
    {
      "cell_type": "code",
      "source": [
        "return_rmse(test_set,predicted_stock_price)"
      ],
      "metadata": {
        "colab": {
          "base_uri": "https://localhost:8080/"
        },
        "id": "WnPrkkn1ouat",
        "outputId": "dfd4eed7-1e5b-439d-c153-fbfeecf52896"
      },
      "execution_count": 19,
      "outputs": [
        {
          "output_type": "stream",
          "name": "stdout",
          "text": [
            "The root mean squared error is 6.70.\n"
          ]
        }
      ]
    },
    {
      "cell_type": "markdown",
      "source": [
        "#GRU Model"
      ],
      "metadata": {
        "id": "kY1gwwdEo2YS"
      }
    },
    {
      "cell_type": "markdown",
      "source": [
        "Just replace the LSTM layer with the GRU layer to properly compare the results. The model structure contains a single GRU layer with 125 units and an output layer."
      ],
      "metadata": {
        "id": "2KXb9OM9o7jf"
      }
    },
    {
      "cell_type": "code",
      "source": [
        "model_gru = Sequential()\n",
        "model_gru.add(GRU(units=125, activation=\"tanh\", input_shape=(n_steps, features)))\n",
        "model_gru.add(Dense(units=1))\n",
        "# Compiling the RNN\n",
        "model_gru.compile(optimizer=\"RMSprop\", loss=\"mse\")\n",
        "\n",
        "model_gru.summary()"
      ],
      "metadata": {
        "colab": {
          "base_uri": "https://localhost:8080/"
        },
        "id": "4nKMYpVKozYL",
        "outputId": "1c857c8b-8f71-4214-da22-74c5dcfc6196"
      },
      "execution_count": 20,
      "outputs": [
        {
          "output_type": "stream",
          "name": "stdout",
          "text": [
            "Model: \"sequential_1\"\n",
            "_________________________________________________________________\n",
            " Layer (type)                Output Shape              Param #   \n",
            "=================================================================\n",
            " gru (GRU)                   (None, 125)               48000     \n",
            "                                                                 \n",
            " dense_1 (Dense)             (None, 1)                 126       \n",
            "                                                                 \n",
            "=================================================================\n",
            "Total params: 48,126\n",
            "Trainable params: 48,126\n",
            "Non-trainable params: 0\n",
            "_________________________________________________________________\n"
          ]
        }
      ]
    },
    {
      "cell_type": "code",
      "source": [
        "model_gru.fit(X_train, y_train, epochs=50, batch_size=32)"
      ],
      "metadata": {
        "colab": {
          "base_uri": "https://localhost:8080/"
        },
        "id": "kS6QZefRpADV",
        "outputId": "6f38da7c-7c39-4e9a-c0c9-5b6375d854c8"
      },
      "execution_count": 21,
      "outputs": [
        {
          "output_type": "stream",
          "name": "stdout",
          "text": [
            "Epoch 1/50\n",
            "38/38 [==============================] - 4s 49ms/step - loss: 0.0192\n",
            "Epoch 2/50\n",
            "38/38 [==============================] - 2s 48ms/step - loss: 0.0021\n",
            "Epoch 3/50\n",
            "38/38 [==============================] - 2s 48ms/step - loss: 0.0016\n",
            "Epoch 4/50\n",
            "38/38 [==============================] - 2s 48ms/step - loss: 0.0013\n",
            "Epoch 5/50\n",
            "38/38 [==============================] - 2s 47ms/step - loss: 9.1870e-04\n",
            "Epoch 6/50\n",
            "38/38 [==============================] - 2s 49ms/step - loss: 9.9658e-04\n",
            "Epoch 7/50\n",
            "38/38 [==============================] - 2s 47ms/step - loss: 6.7015e-04\n",
            "Epoch 8/50\n",
            "38/38 [==============================] - 2s 47ms/step - loss: 7.6807e-04\n",
            "Epoch 9/50\n",
            "38/38 [==============================] - 2s 60ms/step - loss: 6.7032e-04\n",
            "Epoch 10/50\n",
            "38/38 [==============================] - 2s 53ms/step - loss: 7.1882e-04\n",
            "Epoch 11/50\n",
            "38/38 [==============================] - 2s 60ms/step - loss: 5.9915e-04\n",
            "Epoch 12/50\n",
            "38/38 [==============================] - 2s 48ms/step - loss: 5.4595e-04\n",
            "Epoch 13/50\n",
            "38/38 [==============================] - 2s 48ms/step - loss: 5.8022e-04\n",
            "Epoch 14/50\n",
            "38/38 [==============================] - 2s 47ms/step - loss: 5.2083e-04\n",
            "Epoch 15/50\n",
            "38/38 [==============================] - 2s 48ms/step - loss: 5.1183e-04\n",
            "Epoch 16/50\n",
            "38/38 [==============================] - 2s 48ms/step - loss: 4.6290e-04\n",
            "Epoch 17/50\n",
            "38/38 [==============================] - 2s 66ms/step - loss: 5.6671e-04\n",
            "Epoch 18/50\n",
            "38/38 [==============================] - 2s 48ms/step - loss: 4.4659e-04\n",
            "Epoch 19/50\n",
            "38/38 [==============================] - 2s 61ms/step - loss: 4.4951e-04\n",
            "Epoch 20/50\n",
            "38/38 [==============================] - 2s 47ms/step - loss: 4.5322e-04\n",
            "Epoch 21/50\n",
            "38/38 [==============================] - 2s 48ms/step - loss: 4.9921e-04\n",
            "Epoch 22/50\n",
            "38/38 [==============================] - 2s 48ms/step - loss: 4.6228e-04\n",
            "Epoch 23/50\n",
            "38/38 [==============================] - 2s 47ms/step - loss: 4.2764e-04\n",
            "Epoch 24/50\n",
            "38/38 [==============================] - 2s 48ms/step - loss: 4.4522e-04\n",
            "Epoch 25/50\n",
            "38/38 [==============================] - 2s 47ms/step - loss: 4.4682e-04\n",
            "Epoch 26/50\n",
            "38/38 [==============================] - 2s 48ms/step - loss: 4.4173e-04\n",
            "Epoch 27/50\n",
            "38/38 [==============================] - 2s 48ms/step - loss: 3.7469e-04\n",
            "Epoch 28/50\n",
            "38/38 [==============================] - 2s 62ms/step - loss: 4.1100e-04\n",
            "Epoch 29/50\n",
            "38/38 [==============================] - 3s 79ms/step - loss: 3.8312e-04\n",
            "Epoch 30/50\n",
            "38/38 [==============================] - 2s 47ms/step - loss: 4.0613e-04\n",
            "Epoch 31/50\n",
            "38/38 [==============================] - 2s 47ms/step - loss: 3.5942e-04\n",
            "Epoch 32/50\n",
            "38/38 [==============================] - 2s 47ms/step - loss: 3.4985e-04\n",
            "Epoch 33/50\n",
            "38/38 [==============================] - 2s 47ms/step - loss: 3.8316e-04\n",
            "Epoch 34/50\n",
            "38/38 [==============================] - 2s 48ms/step - loss: 3.7762e-04\n",
            "Epoch 35/50\n",
            "38/38 [==============================] - 3s 91ms/step - loss: 3.5851e-04\n",
            "Epoch 36/50\n",
            "38/38 [==============================] - 2s 52ms/step - loss: 3.6390e-04\n",
            "Epoch 37/50\n",
            "38/38 [==============================] - 2s 47ms/step - loss: 3.5637e-04\n",
            "Epoch 38/50\n",
            "38/38 [==============================] - 2s 47ms/step - loss: 3.5501e-04\n",
            "Epoch 39/50\n",
            "38/38 [==============================] - 2s 47ms/step - loss: 3.4401e-04\n",
            "Epoch 40/50\n",
            "38/38 [==============================] - 2s 47ms/step - loss: 3.6325e-04\n",
            "Epoch 41/50\n",
            "38/38 [==============================] - 2s 49ms/step - loss: 3.5017e-04\n",
            "Epoch 42/50\n",
            "38/38 [==============================] - 2s 48ms/step - loss: 2.9359e-04\n",
            "Epoch 43/50\n",
            "38/38 [==============================] - 2s 49ms/step - loss: 4.2734e-04\n",
            "Epoch 44/50\n",
            "38/38 [==============================] - 2s 48ms/step - loss: 2.8629e-04\n",
            "Epoch 45/50\n",
            "38/38 [==============================] - 2s 47ms/step - loss: 3.3260e-04\n",
            "Epoch 46/50\n",
            "38/38 [==============================] - 2s 48ms/step - loss: 3.5270e-04\n",
            "Epoch 47/50\n",
            "38/38 [==============================] - 2s 48ms/step - loss: 3.4898e-04\n",
            "Epoch 48/50\n",
            "38/38 [==============================] - 2s 49ms/step - loss: 2.6112e-04\n",
            "Epoch 49/50\n",
            "38/38 [==============================] - 2s 46ms/step - loss: 3.8388e-04\n",
            "Epoch 50/50\n",
            "38/38 [==============================] - 2s 48ms/step - loss: 2.9951e-04\n"
          ]
        },
        {
          "output_type": "execute_result",
          "data": {
            "text/plain": [
              "<keras.callbacks.History at 0x7fc3096e0ed0>"
            ]
          },
          "metadata": {},
          "execution_count": 21
        }
      ]
    },
    {
      "cell_type": "markdown",
      "source": [
        "The real and predicted values are relatively close. The predicted line chart almost fits the actual values."
      ],
      "metadata": {
        "id": "UOxID5kbpIcC"
      }
    },
    {
      "cell_type": "code",
      "source": [
        "GRU_predicted_stock_price = model_gru.predict(X_test)\n",
        "GRU_predicted_stock_price = sc.inverse_transform(GRU_predicted_stock_price)\n",
        "plot_predictions(test_set, GRU_predicted_stock_price)"
      ],
      "metadata": {
        "colab": {
          "base_uri": "https://localhost:8080/",
          "height": 312
        },
        "id": "WLuSGuG_pECu",
        "outputId": "8de2b5ba-7648-4c48-f466-27760e88802f"
      },
      "execution_count": 22,
      "outputs": [
        {
          "output_type": "stream",
          "name": "stdout",
          "text": [
            "7/7 [==============================] - 0s 14ms/step\n"
          ]
        },
        {
          "output_type": "display_data",
          "data": {
            "text/plain": [
              "<Figure size 432x288 with 1 Axes>"
            ],
            "image/png": "[encoded data removed]"
          },
          "metadata": {
            "needs_background": "light"
          }
        }
      ]
    },
    {
      "cell_type": "markdown",
      "source": [
        "GRU model got 5.50 rmse on the test dataset, which is an improvement from the LSTM model."
      ],
      "metadata": {
        "id": "BW8rOOVjpRgm"
      }
    },
    {
      "cell_type": "code",
      "source": [
        "return_rmse(test_set,GRU_predicted_stock_price)"
      ],
      "metadata": {
        "colab": {
          "base_uri": "https://localhost:8080/"
        },
        "id": "KleTZ43TpU0y",
        "outputId": "52ab7fcc-9b52-4901-a103-2ccd9f532d88"
      },
      "execution_count": 23,
      "outputs": [
        {
          "output_type": "stream",
          "name": "stdout",
          "text": [
            "The root mean squared error is 5.41.\n"
          ]
        }
      ]
    },
    {
      "cell_type": "markdown",
      "source": [
        "The results clearly show that the GRU model performed better than LSTM, with a similar structure and hyperparameters."
      ],
      "metadata": {
        "id": "tbBg4pQcp7V5"
      }
    }
  ]
}